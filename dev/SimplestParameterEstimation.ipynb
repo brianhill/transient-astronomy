{
 "cells": [
  {
   "cell_type": "code",
   "execution_count": 1,
   "id": "70e84f09",
   "metadata": {},
   "outputs": [],
   "source": [
    "import numpy as np\n",
    "from scipy.optimize import minimize\n",
    "from statistics import median\n",
    "\n",
    "data = [1.0, 2.0, 1.5, 3.5, 2.25, 1.75]"
   ]
  },
  {
   "cell_type": "code",
   "execution_count": 2,
   "id": "bc01d8f0",
   "metadata": {},
   "outputs": [],
   "source": [
    "background = 1.0"
   ]
  },
  {
   "cell_type": "code",
   "execution_count": 3,
   "id": "ef4c9b8a",
   "metadata": {},
   "outputs": [],
   "source": [
    "spike_position = 3.75"
   ]
  },
  {
   "cell_type": "code",
   "execution_count": 4,
   "id": "d50ec46a",
   "metadata": {},
   "outputs": [],
   "source": [
    "spike_flux = 4.0"
   ]
  },
  {
   "cell_type": "code",
   "execution_count": 5,
   "id": "7290d86d",
   "metadata": {},
   "outputs": [],
   "source": [
    "def make_model(background, spike_position, spike_flux):\n",
    "    def f(i):\n",
    "        distance = abs(i - spike_position)\n",
    "        height = 0.0\n",
    "        if distance < 1.0:\n",
    "            height = (1 - distance) * spike_flux\n",
    "        return background + height\n",
    "    return f\n"
   ]
  },
  {
   "cell_type": "code",
   "execution_count": 6,
   "id": "40780c8f",
   "metadata": {},
   "outputs": [],
   "source": [
    "model = make_model(background, spike_position, spike_flux)"
   ]
  },
  {
   "cell_type": "code",
   "execution_count": 7,
   "id": "3d88b65a",
   "metadata": {},
   "outputs": [],
   "source": [
    "def variance(model, data):\n",
    "    sum = 0.0\n",
    "    for i in range(len(data)):\n",
    "        difference = model(i) - data[i]\n",
    "        sum += difference**2\n",
    "    return sum\n",
    "        "
   ]
  },
  {
   "cell_type": "code",
   "execution_count": 8,
   "id": "876b913f",
   "metadata": {},
   "outputs": [],
   "source": [
    "def objective_function(model_parameters, data):\n",
    "    background = model_parameters[0]\n",
    "    spike_position = model_parameters[1]\n",
    "    spike_flux = model_parameters[2]\n",
    "    model = make_model(background, spike_position, spike_flux)\n",
    "    return variance(model, data)\n"
   ]
  },
  {
   "cell_type": "code",
   "execution_count": 9,
   "id": "05155935",
   "metadata": {},
   "outputs": [],
   "source": [
    "background0 = median(data)\n",
    "maximum = max(data)\n",
    "spike_flux0 = maximum - background0\n",
    "spike_position0 = data.index(maximum)"
   ]
  },
  {
   "cell_type": "code",
   "execution_count": 10,
   "id": "02807e9c",
   "metadata": {},
   "outputs": [],
   "source": [
    "result = minimize(objective_function, x0=(background0, spike_position0, spike_flux0), args=(data,)).x"
   ]
  },
  {
   "cell_type": "code",
   "execution_count": 11,
   "id": "2c2f739d",
   "metadata": {},
   "outputs": [
    {
     "name": "stdout",
     "output_type": "stream",
     "text": [
      "1.5625009201355193 3.261904898396065 2.624997885634345\n"
     ]
    }
   ],
   "source": [
    "background = result[0]\n",
    "spike_position = result[1]\n",
    "spike_flux = result[2]\n",
    "\n",
    "print(background, spike_position, spike_flux)"
   ]
  }
 ],
 "metadata": {
  "kernelspec": {
   "display_name": "Python 3 (ipykernel)",
   "language": "python",
   "name": "python3"
  },
  "language_info": {
   "codemirror_mode": {
    "name": "ipython",
    "version": 3
   },
   "file_extension": ".py",
   "mimetype": "text/x-python",
   "name": "python",
   "nbconvert_exporter": "python",
   "pygments_lexer": "ipython3",
   "version": "3.9.13"
  }
 },
 "nbformat": 4,
 "nbformat_minor": 5
}
