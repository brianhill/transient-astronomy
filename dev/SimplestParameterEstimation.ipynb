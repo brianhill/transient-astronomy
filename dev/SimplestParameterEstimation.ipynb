{
 "cells": [
  {
   "cell_type": "code",
   "execution_count": 1,
   "id": "70e84f09",
   "metadata": {},
   "outputs": [],
   "source": [
    "data = [1.0, 2.0, 1.5, 4.5, 1.25, 1.75] ## A good fit to this would be a background of 1.5 and a spike of 3.0 in the fourth position"
   ]
  },
  {
   "cell_type": "code",
   "execution_count": 2,
   "id": "bc01d8f0",
   "metadata": {},
   "outputs": [],
   "source": [
    "background = 1.0"
   ]
  },
  {
   "cell_type": "code",
   "execution_count": 3,
   "id": "ef4c9b8a",
   "metadata": {},
   "outputs": [],
   "source": [
    "spike_position = 3.75"
   ]
  },
  {
   "cell_type": "code",
   "execution_count": 4,
   "id": "d50ec46a",
   "metadata": {},
   "outputs": [],
   "source": [
    "spike_flux = 4.0"
   ]
  },
  {
   "cell_type": "code",
   "execution_count": 5,
   "id": "7290d86d",
   "metadata": {},
   "outputs": [],
   "source": [
    "def make_model(background, spike_position, spike_flux):\n",
    "    def f(i):\n",
    "        distance = abs(i - spike_position)\n",
    "        height = 0.0\n",
    "        if distance < 1.0:\n",
    "            height = (1 - distance) * spike_flux\n",
    "        return background + height\n",
    "    return f\n"
   ]
  },
  {
   "cell_type": "code",
   "execution_count": 6,
   "id": "40780c8f",
   "metadata": {},
   "outputs": [],
   "source": [
    "model = make_model(background, spike_position, spike_flux)"
   ]
  },
  {
   "cell_type": "code",
   "execution_count": 7,
   "id": "3d88b65a",
   "metadata": {},
   "outputs": [],
   "source": [
    "def variance(model, data):\n",
    "    sum = 0.0\n",
    "    for i in range(len(data)):\n",
    "        difference = model(i) - data[i]\n",
    "        sum += difference**2\n",
    "    return sum\n",
    "        "
   ]
  },
  {
   "cell_type": "code",
   "execution_count": 8,
   "id": "10daa444",
   "metadata": {},
   "outputs": [
    {
     "data": {
      "text/plain": [
       "15.625"
      ]
     },
     "execution_count": 8,
     "metadata": {},
     "output_type": "execute_result"
    }
   ],
   "source": [
    "variance(model, data)"
   ]
  },
  {
   "cell_type": "code",
   "execution_count": 9,
   "id": "9a8325d0",
   "metadata": {},
   "outputs": [],
   "source": [
    "from statistics import median"
   ]
  },
  {
   "cell_type": "code",
   "execution_count": 10,
   "id": "05155935",
   "metadata": {},
   "outputs": [],
   "source": [
    "background_guess = median(data)"
   ]
  },
  {
   "cell_type": "code",
   "execution_count": 11,
   "id": "732b0c48",
   "metadata": {},
   "outputs": [],
   "source": [
    "maximum = max(data)"
   ]
  },
  {
   "cell_type": "code",
   "execution_count": 12,
   "id": "d701e8ff",
   "metadata": {},
   "outputs": [],
   "source": [
    "spike_flux_guess = maximum - background_guess"
   ]
  },
  {
   "cell_type": "code",
   "execution_count": 13,
   "id": "10d09068",
   "metadata": {},
   "outputs": [],
   "source": [
    "spike_position_guess = data.index(maximum)"
   ]
  },
  {
   "cell_type": "code",
   "execution_count": null,
   "id": "02807e9c",
   "metadata": {},
   "outputs": [],
   "source": []
  }
 ],
 "metadata": {
  "kernelspec": {
   "display_name": "Python 3 (ipykernel)",
   "language": "python",
   "name": "python3"
  },
  "language_info": {
   "codemirror_mode": {
    "name": "ipython",
    "version": 3
   },
   "file_extension": ".py",
   "mimetype": "text/x-python",
   "name": "python",
   "nbconvert_exporter": "python",
   "pygments_lexer": "ipython3",
   "version": "3.9.13"
  }
 },
 "nbformat": 4,
 "nbformat_minor": 5
}
