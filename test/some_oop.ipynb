{
 "cells": [
  {
   "cell_type": "code",
   "execution_count": 14,
   "id": "aa161b13",
   "metadata": {},
   "outputs": [
    {
     "name": "stdout",
     "output_type": "stream",
     "text": [
      "pitter\n",
      "pitter\n",
      "pitter\n",
      "pitter\n"
     ]
    },
    {
     "ename": "AttributeError",
     "evalue": "'Cat' object has no attribute 'makeNoise'",
     "output_type": "error",
     "traceback": [
      "\u001b[0;31m---------------------------------------------------------------------------\u001b[0m",
      "\u001b[0;31mAttributeError\u001b[0m                            Traceback (most recent call last)",
      "\u001b[0;32m/var/folders/bc/t1_2mrbn49z91r65kqfpnb3m0000gn/T/ipykernel_25582/868944442.py\u001b[0m in \u001b[0;36m<module>\u001b[0;34m\u001b[0m\n\u001b[1;32m     34\u001b[0m         \u001b[0manimal\u001b[0m\u001b[0;34m.\u001b[0m\u001b[0mmakeNoise\u001b[0m\u001b[0;34m(\u001b[0m\u001b[0;34m)\u001b[0m\u001b[0;34m\u001b[0m\u001b[0;34m\u001b[0m\u001b[0m\n\u001b[1;32m     35\u001b[0m \u001b[0;34m\u001b[0m\u001b[0m\n\u001b[0;32m---> 36\u001b[0;31m \u001b[0mwalk_and_make_cacophony\u001b[0m\u001b[0;34m(\u001b[0m\u001b[0mmy_menagerie\u001b[0m\u001b[0;34m)\u001b[0m\u001b[0;34m\u001b[0m\u001b[0;34m\u001b[0m\u001b[0m\n\u001b[0m\u001b[1;32m     37\u001b[0m \u001b[0;34m\u001b[0m\u001b[0m\n\u001b[1;32m     38\u001b[0m \u001b[0;34m\u001b[0m\u001b[0m\n",
      "\u001b[0;32m/var/folders/bc/t1_2mrbn49z91r65kqfpnb3m0000gn/T/ipykernel_25582/868944442.py\u001b[0m in \u001b[0;36mwalk_and_make_cacophony\u001b[0;34m(any_list)\u001b[0m\n\u001b[1;32m     32\u001b[0m     \u001b[0;32mfor\u001b[0m \u001b[0manimal\u001b[0m \u001b[0;32min\u001b[0m \u001b[0many_list\u001b[0m\u001b[0;34m:\u001b[0m\u001b[0;34m\u001b[0m\u001b[0;34m\u001b[0m\u001b[0m\n\u001b[1;32m     33\u001b[0m         \u001b[0manimal\u001b[0m\u001b[0;34m.\u001b[0m\u001b[0mwalk\u001b[0m\u001b[0;34m(\u001b[0m\u001b[0;34m)\u001b[0m\u001b[0;34m\u001b[0m\u001b[0;34m\u001b[0m\u001b[0m\n\u001b[0;32m---> 34\u001b[0;31m         \u001b[0manimal\u001b[0m\u001b[0;34m.\u001b[0m\u001b[0mmakeNoise\u001b[0m\u001b[0;34m(\u001b[0m\u001b[0;34m)\u001b[0m\u001b[0;34m\u001b[0m\u001b[0;34m\u001b[0m\u001b[0m\n\u001b[0m\u001b[1;32m     35\u001b[0m \u001b[0;34m\u001b[0m\u001b[0m\n\u001b[1;32m     36\u001b[0m \u001b[0mwalk_and_make_cacophony\u001b[0m\u001b[0;34m(\u001b[0m\u001b[0mmy_menagerie\u001b[0m\u001b[0;34m)\u001b[0m\u001b[0;34m\u001b[0m\u001b[0;34m\u001b[0m\u001b[0m\n",
      "\u001b[0;31mAttributeError\u001b[0m: 'Cat' object has no attribute 'makeNoise'"
     ]
    }
   ],
   "source": [
    "class Animal:\n",
    "    \n",
    "    def __init__(self):\n",
    "        # Instance variable\n",
    "        self.number_of_legs = 4\n",
    "    \n",
    "    def walk(self):\n",
    "        for i in range(self.number_of_legs):\n",
    "            print(\"pitter\")\n",
    "        \n",
    "    def make_noise(self):\n",
    "        pass\n",
    "\n",
    "class Cat(Animal):\n",
    "    def make_noise(self):\n",
    "        print(\"meow\")\n",
    "        \n",
    "class Human(Animal):\n",
    "    \n",
    "    def __init__(self):\n",
    "        self.number_of_legs = 2\n",
    "        \n",
    "    def make_noise(self):\n",
    "        print(\"regurgitate\")\n",
    "        \n",
    "a_cat = Cat()\n",
    "a_human = Human()\n",
    "\n",
    "my_menagerie = [a_cat, a_human]\n",
    "\n",
    "def walk_and_make_cacophony(any_list):\n",
    "    for animal in any_list:\n",
    "        animal.walk()\n",
    "        animal.makeNoise()\n",
    "\n",
    "walk_and_make_cacophony(my_menagerie)\n",
    "\n",
    "\n",
    "# class MyBackgroundEstimator(TheirBackgroundEstimator):\n",
    "#     def estimateBackground(image_data):\n",
    "        "
   ]
  },
  {
   "cell_type": "code",
   "execution_count": null,
   "id": "2bb3e8cb",
   "metadata": {},
   "outputs": [],
   "source": []
  }
 ],
 "metadata": {
  "kernelspec": {
   "display_name": "Python 3 (ipykernel)",
   "language": "python",
   "name": "python3"
  },
  "language_info": {
   "codemirror_mode": {
    "name": "ipython",
    "version": 3
   },
   "file_extension": ".py",
   "mimetype": "text/x-python",
   "name": "python",
   "nbconvert_exporter": "python",
   "pygments_lexer": "ipython3",
   "version": "3.9.13"
  }
 },
 "nbformat": 4,
 "nbformat_minor": 5
}
