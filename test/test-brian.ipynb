{
 "cells": [
  {
   "cell_type": "markdown",
   "id": "1f49d623",
   "metadata": {},
   "source": [
    "## Test\n",
    "\n",
    "Analysis by Brian"
   ]
  },
  {
   "cell_type": "code",
   "execution_count": 1,
   "id": "a55d087f",
   "metadata": {},
   "outputs": [],
   "source": [
    "import os\n",
    "import numpy as np\n",
    "from astropy import units as u\n",
    "from astropy.nddata import CCDData\n",
    "from ccdproc import ImageFileCollection, Combiner, combine, subtract_dark, flat_correct"
   ]
  },
  {
   "cell_type": "code",
   "execution_count": 2,
   "id": "228fded3",
   "metadata": {},
   "outputs": [],
   "source": [
    "light_exposure = 30 * u.second\n",
    "dark_exposure = 30 * u.second\n",
    "flat_exposure = 1 * u.second\n",
    "bias_exposure = 1 * u.second"
   ]
  },
  {
   "cell_type": "code",
   "execution_count": 3,
   "id": "1cd2fe5a",
   "metadata": {},
   "outputs": [],
   "source": [
    "light1 = CCDData(np.array([[210, 200, 210],[210, 200, 210]]), unit=u.adu)\n",
    "light2 = CCDData(np.array([[105, 100, 105],[105, 100, 105]]), unit=u.adu)\n",
    "lights = [light1, light2]"
   ]
  },
  {
   "cell_type": "code",
   "execution_count": 4,
   "id": "0f1d447e",
   "metadata": {},
   "outputs": [],
   "source": [
    "dark1 = CCDData(np.array([[1, 2, 1],[2, 1, 2]]), unit=u.adu)\n",
    "dark2 = CCDData(np.array([[2, 4, 2],[4, 2, 4]]), unit=u.adu)\n",
    "dark3 = CCDData(np.array([[9, 12, 9],[12, 9, 12]]), unit=u.adu)\n",
    "\n",
    "dark_median = combine([dark1, dark2, dark3], method='median')"
   ]
  },
  {
   "cell_type": "code",
   "execution_count": 5,
   "id": "75b9637c",
   "metadata": {},
   "outputs": [],
   "source": [
    "flat1 = CCDData(np.array([[105, 100, 105],[105, 100, 105]]), unit=u.adu)\n",
    "flat2 = CCDData(np.array([[107, 101, 107],[107, 101, 107]]), unit=u.adu)\n",
    "flat3 = CCDData(np.array([[107, 101, 107],[107, 101, 107]]), unit=u.adu)\n",
    "\n",
    "flat_median = combine([flat1, flat2, flat3], method='median')"
   ]
  },
  {
   "cell_type": "code",
   "execution_count": 6,
   "id": "324be928",
   "metadata": {},
   "outputs": [],
   "source": [
    "bias1 = CCDData(np.array([[0, 0, 0],[0, 0, 0]]), unit=u.adu)\n",
    "bias2 = CCDData(np.array([[2, 1, 2],[2, 1, 2]]), unit=u.adu)\n",
    "bias3 = CCDData(np.array([[2, 1, 2],[2, 1, 2]]), unit=u.adu)\n",
    "\n",
    "bias_median = combine([bias1, bias2, bias3], method='median')"
   ]
  },
  {
   "cell_type": "code",
   "execution_count": 7,
   "id": "5abaf009",
   "metadata": {},
   "outputs": [
    {
     "data": {
      "text/plain": [
       "CCDData([[2., 4., 2.],\n",
       "         [4., 2., 4.]], unit='adu')"
      ]
     },
     "execution_count": 7,
     "metadata": {},
     "output_type": "execute_result"
    }
   ],
   "source": [
    "dark_median"
   ]
  },
  {
   "cell_type": "code",
   "execution_count": 8,
   "id": "d02f2a33",
   "metadata": {},
   "outputs": [],
   "source": [
    "lights_subtracted = [subtract_dark(light, dark_median, data_exposure=light_exposure, dark_exposure=dark_exposure, scale=False) for light in lights]\n",
    "flat_subtracted = subtract_dark(flat_median, bias_median, data_exposure=flat_exposure, dark_exposure=bias_exposure, scale=False)"
   ]
  },
  {
   "cell_type": "code",
   "execution_count": 11,
   "id": "e3f6b598",
   "metadata": {},
   "outputs": [
    {
     "data": {
      "text/plain": [
       "[CCDData([[208., 196., 208.],\n",
       "          [206., 198., 206.]], unit='adu'),\n",
       " CCDData([[103.,  96., 103.],\n",
       "          [101.,  98., 101.]], unit='adu')]"
      ]
     },
     "execution_count": 11,
     "metadata": {},
     "output_type": "execute_result"
    }
   ],
   "source": [
    "lights_subtracted"
   ]
  },
  {
   "cell_type": "code",
   "execution_count": 9,
   "id": "e74d90ca",
   "metadata": {},
   "outputs": [],
   "source": [
    "lights_calibrated = [flat_correct(light_subtracted, flat_subtracted) for light_subtracted in lights_subtracted]"
   ]
  },
  {
   "cell_type": "code",
   "execution_count": 10,
   "id": "ad1c81cf",
   "metadata": {},
   "outputs": [
    {
     "data": {
      "text/plain": [
       "[CCDData([[204.6984127 , 202.53333333, 204.6984127 ],\n",
       "          [202.73015873, 204.6       , 202.73015873]], unit='adu'),\n",
       " CCDData([[101.36507937,  99.2       , 101.36507937],\n",
       "          [ 99.3968254 , 101.26666667,  99.3968254 ]], unit='adu')]"
      ]
     },
     "execution_count": 10,
     "metadata": {},
     "output_type": "execute_result"
    }
   ],
   "source": [
    "lights_calibrated"
   ]
  },
  {
   "cell_type": "code",
   "execution_count": null,
   "id": "223cba9d",
   "metadata": {},
   "outputs": [],
   "source": []
  }
 ],
 "metadata": {
  "kernelspec": {
   "display_name": "Python 3 (ipykernel)",
   "language": "python",
   "name": "python3"
  },
  "language_info": {
   "codemirror_mode": {
    "name": "ipython",
    "version": 3
   },
   "file_extension": ".py",
   "mimetype": "text/x-python",
   "name": "python",
   "nbconvert_exporter": "python",
   "pygments_lexer": "ipython3",
   "version": "3.9.13"
  }
 },
 "nbformat": 4,
 "nbformat_minor": 5
}
