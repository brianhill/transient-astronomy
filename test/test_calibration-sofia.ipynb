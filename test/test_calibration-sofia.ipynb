{
 "cells": [
  {
   "cell_type": "markdown",
   "id": "1f49d623",
   "metadata": {},
   "source": [
    "## Test\n",
    "\n",
    "*A notebook by Sofia wherein some simple, test data is subjected to the same\n",
    "analysis pipeline as we are applying to real observational data, in order to \n",
    "confirm that the routines work as expected.*"
   ]
  },
  {
   "cell_type": "code",
   "execution_count": 1,
   "id": "a55d087f",
   "metadata": {},
   "outputs": [],
   "source": [
    "import os\n",
    "import numpy as np\n",
    "from astropy import units as u\n",
    "from astropy.nddata import CCDData\n",
    "from ccdproc import ImageFileCollection, Combiner, combine, subtract_dark, flat_correct"
   ]
  },
  {
   "cell_type": "code",
   "execution_count": 2,
   "id": "228fded3",
   "metadata": {},
   "outputs": [],
   "source": [
    "light_exposure = 30 * u.second\n",
    "dark_exposure = 30 * u.second\n",
    "flat_exposure = 1 * u.second\n",
    "bias_exposure = 1 * u.second"
   ]
  },
  {
   "cell_type": "code",
   "execution_count": 3,
   "id": "1cd2fe5a",
   "metadata": {},
   "outputs": [],
   "source": [
    "light1 = CCDData(np.array([[3, 2],[4, 5]]), unit=u.adu)\n",
    "light2 = CCDData(np.array([[5, 7],[4, 3]]), unit=u.adu)\n",
    "lights = [light1, light2]"
   ]
  },
  {
   "cell_type": "code",
   "execution_count": 4,
   "id": "0f1d447e",
   "metadata": {},
   "outputs": [],
   "source": [
    "dark1 = CCDData(np.array([[1, 1],[1, 2]]), unit=u.adu)\n",
    "dark2 = CCDData(np.array([[2, 0],[1, 2]]), unit=u.adu)\n",
    "dark3 = CCDData(np.array([[0, 0],[0, 1]]), unit=u.adu)\n",
    "\n",
    "dark_average = combine([dark1, dark2, dark3])\n",
    "dark_median = combine([dark1, dark2, dark3], method='median')"
   ]
  },
  {
   "cell_type": "code",
   "execution_count": 5,
   "id": "75b9637c",
   "metadata": {},
   "outputs": [],
   "source": [
    "flat1 = CCDData(np.array([[2, 2],[4, 3]]), unit=u.adu)\n",
    "flat2 = CCDData(np.array([[6, 5],[5, 6]]), unit=u.adu)\n",
    "flat3 = CCDData(np.array([[6, 4],[3, 2]]), unit=u.adu)\n",
    "\n",
    "flat_average = combine([flat1, flat2, flat3])\n",
    "flat_median = combine([flat1, flat2, flat3], method='median')"
   ]
  },
  {
   "cell_type": "code",
   "execution_count": 6,
   "id": "324be928",
   "metadata": {},
   "outputs": [],
   "source": [
    "bias1 = CCDData(np.array([[1, 1],[3, 2]]), unit=u.adu)\n",
    "bias2 = CCDData(np.array([[3, 2],[1, 3]]), unit=u.adu)\n",
    "bias3 = CCDData(np.array([[3, 2],[0, 1]]), unit=u.adu)\n",
    "\n",
    "bias_average = combine([bias1, bias2, bias3])\n",
    "bias_median = combine([bias1, bias2, bias3], method='median')"
   ]
  },
  {
   "cell_type": "code",
   "execution_count": 7,
   "id": "5abaf009",
   "metadata": {},
   "outputs": [
    {
     "data": {
      "text/plain": [
       "CCDData([[1., 0.],\n",
       "         [1., 2.]], unit='adu')"
      ]
     },
     "execution_count": 7,
     "metadata": {},
     "output_type": "execute_result"
    }
   ],
   "source": [
    "dark_median"
   ]
  },
  {
   "cell_type": "code",
   "execution_count": 8,
   "id": "d02f2a33",
   "metadata": {},
   "outputs": [],
   "source": [
    "lights_subtracted_average = [subtract_dark(light, dark_average, data_exposure=light_exposure, dark_exposure=dark_exposure, scale=False) for light in lights]\n",
    "lights_subtracted_median = [subtract_dark(light, dark_median, data_exposure=light_exposure, dark_exposure=dark_exposure, scale=False) for light in lights]"
   ]
  },
  {
   "cell_type": "code",
   "execution_count": 9,
   "id": "b32962bf",
   "metadata": {},
   "outputs": [],
   "source": [
    "flat_subtracted_average = subtract_dark(flat_average, bias_average, data_exposure=flat_exposure, dark_exposure=bias_exposure, scale=False)\n",
    "flat_subtracted_median = subtract_dark(flat_median, bias_median, data_exposure=flat_exposure, dark_exposure=bias_exposure, scale=False)"
   ]
  },
  {
   "cell_type": "code",
   "execution_count": 10,
   "id": "e3f6b598",
   "metadata": {},
   "outputs": [],
   "source": [
    "lights_calibrated_average = [flat_correct(l, flat_subtracted_average) for l in lights_subtracted_average]\n",
    "lights_calibrated_median = [flat_correct(l, flat_subtracted_median) for l in lights_subtracted_average]"
   ]
  },
  {
   "cell_type": "code",
   "execution_count": 11,
   "id": "e74d90ca",
   "metadata": {},
   "outputs": [
    {
     "data": {
      "text/plain": [
       "[CCDData([[1.85714286, 1.80555556],\n",
       "          [2.70833333, 4.33333333]], unit='adu'),\n",
       " CCDData([[3.71428571, 7.22222222],\n",
       "          [2.70833333, 1.73333333]], unit='adu')]"
      ]
     },
     "execution_count": 11,
     "metadata": {},
     "output_type": "execute_result"
    }
   ],
   "source": [
    "lights_calibrated_average"
   ]
  },
  {
   "cell_type": "code",
   "execution_count": 12,
   "id": "fc225dc0",
   "metadata": {},
   "outputs": [],
   "source": [
    "expected_calibrated_average = CCDData(np.array([[1.8889, 2.6111],[1.6944, 2.7778]]), unit=u.adu)"
   ]
  },
  {
   "cell_type": "code",
   "execution_count": 13,
   "id": "ad1c81cf",
   "metadata": {},
   "outputs": [
    {
     "data": {
      "text/plain": [
       "[CCDData([[1.5  , 1.875],\n",
       "          [2.5  , 7.5  ]], unit='adu'),\n",
       " CCDData([[3. , 7.5],\n",
       "          [2.5, 3. ]], unit='adu')]"
      ]
     },
     "execution_count": 13,
     "metadata": {},
     "output_type": "execute_result"
    }
   ],
   "source": [
    "lights_calibrated_median"
   ]
  },
  {
   "cell_type": "code",
   "execution_count": 14,
   "id": "538024a3",
   "metadata": {},
   "outputs": [],
   "source": [
    "expected_calibrated_median = CCDData(np.array([[2, 1],[3, 3]]), unit=u.adu)"
   ]
  },
  {
   "cell_type": "code",
   "execution_count": 15,
   "id": "7eb52d0f",
   "metadata": {},
   "outputs": [
    {
     "data": {
      "text/plain": [
       "CCDData([[1.        , 0.33333333],\n",
       "         [0.66666667, 1.66666667]], unit='adu')"
      ]
     },
     "execution_count": 15,
     "metadata": {},
     "output_type": "execute_result"
    }
   ],
   "source": [
    "dark_average"
   ]
  },
  {
   "cell_type": "code",
   "execution_count": null,
   "id": "7cd8f758",
   "metadata": {},
   "outputs": [],
   "source": []
  }
 ],
 "metadata": {
  "kernelspec": {
   "display_name": "Python 3 (ipykernel)",
   "language": "python",
   "name": "python3"
  },
  "language_info": {
   "codemirror_mode": {
    "name": "ipython",
    "version": 3
   },
   "file_extension": ".py",
   "mimetype": "text/x-python",
   "name": "python",
   "nbconvert_exporter": "python",
   "pygments_lexer": "ipython3",
   "version": "3.9.13"
  }
 },
 "nbformat": 4,
 "nbformat_minor": 5
}
