{
 "cells": [
  {
   "cell_type": "code",
   "execution_count": 60,
   "id": "fcb32aa8",
   "metadata": {},
   "outputs": [
    {
     "name": "stdout",
     "output_type": "stream",
     "text": [
      "[[11 22 33]\n",
      " [44 55 66]\n",
      " [77 88 99]]\n"
     ]
    }
   ],
   "source": [
    "import numpy as np\n",
    "\n",
    "\n",
    "A = np.array([[11, 22, 33], [44, 55, 66],[77, 88, 99]])\n",
    "\n",
    "\n",
    "print (A)"
   ]
  },
  {
   "cell_type": "code",
   "execution_count": 61,
   "id": "0015455b",
   "metadata": {},
   "outputs": [
    {
     "name": "stdout",
     "output_type": "stream",
     "text": [
      "[22. 55. 88.]\n"
     ]
    }
   ],
   "source": [
    "# find median for each row\n",
    "med = np.median(A,axis=1)\n",
    "print (med)"
   ]
  },
  {
   "cell_type": "code",
   "execution_count": 62,
   "id": "34344189",
   "metadata": {},
   "outputs": [
    {
     "name": "stdout",
     "output_type": "stream",
     "text": [
      "[[22. 22. 22.]\n",
      " [55. 55. 55.]\n",
      " [88. 88. 88.]]\n"
     ]
    }
   ],
   "source": [
    "#make medians ino array\n",
    "medA = np.outer(med, np.ones(3))\n",
    "\n",
    "print(medA)"
   ]
  },
  {
   "cell_type": "code",
   "execution_count": 63,
   "id": "f896a58f",
   "metadata": {},
   "outputs": [
    {
     "name": "stdout",
     "output_type": "stream",
     "text": [
      "[[-11.   0.  11.]\n",
      " [-11.   0.  11.]\n",
      " [-11.   0.  11.]]\n"
     ]
    }
   ],
   "source": [
    "#Subracting medians from each line\n",
    "A_med_sub = np.subtract(A,medA)\n",
    "\n",
    "print (A_med_sub)"
   ]
  },
  {
   "cell_type": "code",
   "execution_count": 66,
   "id": "14673073",
   "metadata": {},
   "outputs": [
    {
     "data": {
      "text/plain": [
       "array([[-2.22398009,  0.        ,  2.22398009],\n",
       "       [-2.22398009,  0.        ,  2.22398009],\n",
       "       [-2.22398009,  0.        ,  2.22398009]])"
      ]
     },
     "execution_count": 66,
     "metadata": {},
     "output_type": "execute_result"
    }
   ],
   "source": [
    "\n",
    "np.cbrt(A_med_sub)"
   ]
  },
  {
   "cell_type": "code",
   "execution_count": null,
   "id": "ab228cb3",
   "metadata": {},
   "outputs": [],
   "source": [
    "#Subtracting using for loop"
   ]
  },
  {
   "cell_type": "code",
   "execution_count": 77,
   "id": "f3c64ff7",
   "metadata": {},
   "outputs": [
    {
     "name": "stdout",
     "output_type": "stream",
     "text": [
      "[0 1 2]\n",
      "[2 3 4]\n"
     ]
    }
   ],
   "source": [
    "B = np.array([[1,2,3], [3,4,5]])\n",
    "\n",
    "for row in B:\n",
    "    for i in row:\n",
    "        \n",
    "    print (row)\n",
    "    "
   ]
  },
  {
   "cell_type": "code",
   "execution_count": null,
   "id": "c9a28b09",
   "metadata": {},
   "outputs": [],
   "source": []
  }
 ],
 "metadata": {
  "kernelspec": {
   "display_name": "Python 3 (ipykernel)",
   "language": "python",
   "name": "python3"
  },
  "language_info": {
   "codemirror_mode": {
    "name": "ipython",
    "version": 3
   },
   "file_extension": ".py",
   "mimetype": "text/x-python",
   "name": "python",
   "nbconvert_exporter": "python",
   "pygments_lexer": "ipython3",
   "version": "3.9.13"
  }
 },
 "nbformat": 4,
 "nbformat_minor": 5
}
