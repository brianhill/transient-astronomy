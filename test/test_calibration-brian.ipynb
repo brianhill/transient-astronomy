{
 "cells": [
  {
   "cell_type": "markdown",
   "id": "1f49d623",
   "metadata": {},
   "source": [
    "## Test\n",
    "\n",
    "*A notebook by Brian wherein some simple, test data is subjected to the same\n",
    "analysis pipeline as we are applying to real observational data, in order to \n",
    "confirm that the routines work as expected.*"
   ]
  },
  {
   "cell_type": "code",
   "execution_count": 1,
   "id": "a55d087f",
   "metadata": {},
   "outputs": [],
   "source": [
    "import os\n",
    "import numpy as np\n",
    "from astropy import units as u\n",
    "from astropy.nddata import CCDData\n",
    "from ccdproc import ImageFileCollection, Combiner, combine, subtract_dark, flat_correct"
   ]
  },
  {
   "cell_type": "code",
   "execution_count": 2,
   "id": "228fded3",
   "metadata": {},
   "outputs": [],
   "source": [
    "light_exposure = 30 * u.second\n",
    "dark_exposure = 30 * u.second\n",
    "flat_exposure = 1 * u.second\n",
    "bias_exposure = 1 * u.second"
   ]
  },
  {
   "cell_type": "code",
   "execution_count": 3,
   "id": "1cd2fe5a",
   "metadata": {},
   "outputs": [],
   "source": [
    "light1 = CCDData(np.array([[210, 200],[210, 200]]), unit=u.adu)\n",
    "light2 = CCDData(np.array([[105, 100],[105, 100]]), unit=u.adu)\n",
    "lights = [light1, light2]"
   ]
  },
  {
   "cell_type": "code",
   "execution_count": 4,
   "id": "0f1d447e",
   "metadata": {},
   "outputs": [],
   "source": [
    "dark1 = CCDData(np.array([[1, 2],[2, 1]]), unit=u.adu)\n",
    "dark2 = CCDData(np.array([[2, 4],[4, 2]]), unit=u.adu)\n",
    "dark3 = CCDData(np.array([[3, 6],[6, 3]]), unit=u.adu)\n",
    "\n",
    "dark_average = combine([dark1, dark2, dark3])  # will be [[2, 4], [4, 2]]\n",
    "dark_median = combine([dark1, dark2, dark3], method='median')  # median rigged to be same as average :)"
   ]
  },
  {
   "cell_type": "code",
   "execution_count": 5,
   "id": "75b9637c",
   "metadata": {},
   "outputs": [],
   "source": [
    "flat1 = CCDData(np.array([[105, 100],[105, 100]]), unit=u.adu)\n",
    "flat2 = CCDData(np.array([[107, 101],[107, 101]]), unit=u.adu)\n",
    "flat3 = CCDData(np.array([[109, 102],[109, 102]]), unit=u.adu)\n",
    "\n",
    "flat_average = combine([flat1, flat2, flat3])  # will be [[107, 101], [107, 101]]\n",
    "flat_median = combine([flat1, flat2, flat3], method='median')  # median rigged to be same as average :)"
   ]
  },
  {
   "cell_type": "code",
   "execution_count": 6,
   "id": "324be928",
   "metadata": {},
   "outputs": [],
   "source": [
    "bias1 = CCDData(np.array([[1, 0],[1, 0]]), unit=u.adu)\n",
    "bias2 = CCDData(np.array([[2, 1],[2, 1]]), unit=u.adu)\n",
    "bias3 = CCDData(np.array([[3, 2],[3, 2]]), unit=u.adu)\n",
    "\n",
    "bias_average = combine([bias1, bias2, bias3])  # will be [[2, 1], [2, 1]]\n",
    "bias_median = combine([bias1, bias2, bias3], method='median')  # median rigged to be same as average :)"
   ]
  },
  {
   "cell_type": "code",
   "execution_count": 7,
   "id": "d02f2a33",
   "metadata": {},
   "outputs": [],
   "source": [
    "lights_subtracted_average = [subtract_dark(light, dark_average, data_exposure=light_exposure, dark_exposure=dark_exposure, scale=False) for light in lights]\n",
    "lights_subtracted_median = [subtract_dark(light, dark_median, data_exposure=light_exposure, dark_exposure=dark_exposure, scale=False) for light in lights]"
   ]
  },
  {
   "cell_type": "markdown",
   "id": "95161e11",
   "metadata": {},
   "source": [
    "By either method, the first light subtracted is\n",
    "\n",
    "208 196\n",
    "\n",
    "206 198\n",
    "\n",
    "and the second light subtracted is\n",
    "\n",
    "103 96\n",
    "\n",
    "101 98"
   ]
  },
  {
   "cell_type": "code",
   "execution_count": 8,
   "id": "b32962bf",
   "metadata": {},
   "outputs": [],
   "source": [
    "flat_subtracted_average = subtract_dark(flat_average, bias_average, data_exposure=flat_exposure, dark_exposure=bias_exposure, scale=False)\n",
    "flat_subtracted_median = subtract_dark(flat_median, bias_median, data_exposure=flat_exposure, dark_exposure=bias_exposure, scale=False)"
   ]
  },
  {
   "cell_type": "markdown",
   "id": "32380050",
   "metadata": {},
   "source": [
    "By either method, the flat subtracted is\n",
    "\n",
    "105 100\n",
    "\n",
    "105 100"
   ]
  },
  {
   "cell_type": "code",
   "execution_count": 9,
   "id": "e3f6b598",
   "metadata": {},
   "outputs": [],
   "source": [
    "lights_calibrated_average = [flat_correct(l, flat_subtracted_average) for l in lights_subtracted_average]\n",
    "lights_calibrated_median = [flat_correct(l, flat_subtracted_median) for l in lights_subtracted_average]"
   ]
  },
  {
   "cell_type": "markdown",
   "id": "38703300",
   "metadata": {},
   "source": [
    "We expect the calibrated lights to be\n",
    "\n",
    "208/105  196/100\n",
    "\n",
    "206/105  198/100\n",
    "\n",
    "and\n",
    "\n",
    "103/105  96/100\n",
    "\n",
    "101/105  98/100\n",
    "\n",
    "Numerically, that is\n",
    "\n",
    "1.9810  1.9600\n",
    "\n",
    "1.9619  1.9800\n",
    "\n",
    "and\n",
    "\n",
    "0.9810  0.9600\n",
    "\n",
    "0.9619  0.9800\n",
    "\n",
    "But these need to be multiplied by the mean of the flat field, which is 102.5, and we get\n",
    "\n",
    "203.0476  200.9000\n",
    "\n",
    "201.0952  202.9500\n",
    "\n",
    "and\n",
    "\n",
    "100.5476  98.4000\n",
    "\n",
    "98.5952  100.4500"
   ]
  },
  {
   "cell_type": "code",
   "execution_count": 10,
   "id": "ad1c81cf",
   "metadata": {},
   "outputs": [
    {
     "data": {
      "text/plain": [
       "[CCDData([[203.04761905, 200.9       ],\n",
       "          [201.0952381 , 202.95      ]], unit='adu'),\n",
       " CCDData([[100.54761905,  98.4       ],\n",
       "          [ 98.5952381 , 100.45      ]], unit='adu')]"
      ]
     },
     "execution_count": 10,
     "metadata": {},
     "output_type": "execute_result"
    }
   ],
   "source": [
    "lights_calibrated_median"
   ]
  },
  {
   "cell_type": "code",
   "execution_count": 11,
   "id": "694c8828",
   "metadata": {},
   "outputs": [
    {
     "data": {
      "text/plain": [
       "[CCDData([[203.04761905, 200.9       ],\n",
       "          [201.0952381 , 202.95      ]], unit='adu'),\n",
       " CCDData([[100.54761905,  98.4       ],\n",
       "          [ 98.5952381 , 100.45      ]], unit='adu')]"
      ]
     },
     "execution_count": 11,
     "metadata": {},
     "output_type": "execute_result"
    }
   ],
   "source": [
    "lights_calibrated_average"
   ]
  }
 ],
 "metadata": {
  "kernelspec": {
   "display_name": "Python 3 (ipykernel)",
   "language": "python",
   "name": "python3"
  },
  "language_info": {
   "codemirror_mode": {
    "name": "ipython",
    "version": 3
   },
   "file_extension": ".py",
   "mimetype": "text/x-python",
   "name": "python",
   "nbconvert_exporter": "python",
   "pygments_lexer": "ipython3",
   "version": "3.9.13"
  }
 },
 "nbformat": 4,
 "nbformat_minor": 5
}
