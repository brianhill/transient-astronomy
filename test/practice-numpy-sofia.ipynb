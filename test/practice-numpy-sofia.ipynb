{
 "cells": [
  {
   "cell_type": "code",
   "execution_count": 1,
   "id": "3a9c62fc",
   "metadata": {},
   "outputs": [],
   "source": [
    "import numpy as np\n",
    "import matplotlib.pyplot as plt"
   ]
  },
  {
   "cell_type": "code",
   "execution_count": 2,
   "id": "4f473c37",
   "metadata": {},
   "outputs": [
    {
     "name": "stdout",
     "output_type": "stream",
     "text": [
      "[[5 9 2]\n",
      " [4 1 9]\n",
      " [7 6 2]]\n"
     ]
    }
   ],
   "source": [
    "a = np.array([[5,9,2],[4,1,9], [7,6,2]])\n",
    "print (a)"
   ]
  },
  {
   "cell_type": "code",
   "execution_count": 3,
   "id": "7039dfbb",
   "metadata": {},
   "outputs": [
    {
     "name": "stdout",
     "output_type": "stream",
     "text": [
      "[5. 4. 6.]\n"
     ]
    }
   ],
   "source": [
    "med = np.median(a, axis=1)\n",
    "print (med)"
   ]
  },
  {
   "cell_type": "code",
   "execution_count": 4,
   "id": "919146ec",
   "metadata": {},
   "outputs": [
    {
     "name": "stdout",
     "output_type": "stream",
     "text": [
      "[[5. 5. 5.]\n",
      " [4. 4. 4.]\n",
      " [6. 6. 6.]]\n"
     ]
    }
   ],
   "source": [
    "medians_expanded = np.outer(med, np.ones(3))\n",
    "print(medians_expanded)"
   ]
  },
  {
   "cell_type": "code",
   "execution_count": 5,
   "id": "ae5bdba2",
   "metadata": {},
   "outputs": [
    {
     "name": "stdout",
     "output_type": "stream",
     "text": [
      "[[ 0.  4. -3.]\n",
      " [ 0. -3.  5.]\n",
      " [ 1.  0. -4.]]\n"
     ]
    }
   ],
   "source": [
    "v1_a = np.subtract(a, medians_expanded)\n",
    "print(v1_a)"
   ]
  },
  {
   "cell_type": "code",
   "execution_count": 7,
   "id": "b5fd6622",
   "metadata": {},
   "outputs": [
    {
     "name": "stdout",
     "output_type": "stream",
     "text": [
      "[[ 1.  5. -2.]\n",
      " [ 1. -2.  6.]\n",
      " [ 2.  1. -3.]]\n"
     ]
    }
   ],
   "source": [
    "## my black point will be -1\n",
    "v2_a = np.subtract( v1_a, -1 )\n",
    "print(v2_a)\n"
   ]
  },
  {
   "cell_type": "code",
   "execution_count": 8,
   "id": "d398f8be",
   "metadata": {},
   "outputs": [
    {
     "name": "stdout",
     "output_type": "stream",
     "text": [
      "[[ 1.          1.70997595 -1.25992105]\n",
      " [ 1.         -1.25992105  1.81712059]\n",
      " [ 1.25992105  1.         -1.44224957]]\n"
     ]
    }
   ],
   "source": [
    "v3_a = np.cbrt(v2_a)\n",
    "print(v3_a)"
   ]
  },
  {
   "cell_type": "code",
   "execution_count": 9,
   "id": "1e54c051",
   "metadata": {},
   "outputs": [
    {
     "name": "stdout",
     "output_type": "stream",
     "text": [
      "[ 1.          1.70997595 -1.25992105  1.         -1.25992105  1.81712059\n",
      "  1.25992105  1.         -1.44224957]\n"
     ]
    }
   ],
   "source": [
    "v3_L = v3_a.flatten()\n",
    "print(v3_L)"
   ]
  },
  {
   "cell_type": "code",
   "execution_count": 10,
   "id": "586bca48",
   "metadata": {},
   "outputs": [
    {
     "data": {
      "text/plain": [
       "array([-1.44224957, -1.25992105, -1.25992105,  1.        ,  1.        ,\n",
       "        1.        ,  1.25992105,  1.70997595,  1.81712059])"
      ]
     },
     "execution_count": 10,
     "metadata": {},
     "output_type": "execute_result"
    }
   ],
   "source": [
    "np.sort(v3_L) "
   ]
  },
  {
   "cell_type": "code",
   "execution_count": 11,
   "id": "7ba19f13",
   "metadata": {},
   "outputs": [
    {
     "data": {
      "text/plain": [
       "range(0, 256)"
      ]
     },
     "execution_count": 11,
     "metadata": {},
     "output_type": "execute_result"
    }
   ],
   "source": [
    "range(0,256,1) "
   ]
  },
  {
   "cell_type": "code",
   "execution_count": 12,
   "id": "8eaf9037",
   "metadata": {},
   "outputs": [
    {
     "data": {
      "text/plain": [
       "array([191.82107545, 247.58456142,  14.32058922, 191.82107545,\n",
       "        14.32058922, 256.        , 212.2359978 , 191.82107545,\n",
       "         0.        ])"
      ]
     },
     "execution_count": 12,
     "metadata": {},
     "output_type": "execute_result"
    }
   ],
   "source": [
    "np.interp(v3_L, (v3_L.min(), v3_L.max()), (0, 256))"
   ]
  },
  {
   "cell_type": "code",
   "execution_count": null,
   "id": "8d72b35b",
   "metadata": {},
   "outputs": [],
   "source": []
  }
 ],
 "metadata": {
  "kernelspec": {
   "display_name": "Python 3 (ipykernel)",
   "language": "python",
   "name": "python3"
  },
  "language_info": {
   "codemirror_mode": {
    "name": "ipython",
    "version": 3
   },
   "file_extension": ".py",
   "mimetype": "text/x-python",
   "name": "python",
   "nbconvert_exporter": "python",
   "pygments_lexer": "ipython3",
   "version": "3.9.13"
  }
 },
 "nbformat": 4,
 "nbformat_minor": 5
}
