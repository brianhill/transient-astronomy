{
 "cells": [
  {
   "cell_type": "markdown",
   "id": "c9041218",
   "metadata": {},
   "source": [
    "## Median Subtraction"
   ]
  },
  {
   "cell_type": "code",
   "execution_count": 27,
   "id": "bd0c4d03",
   "metadata": {},
   "outputs": [],
   "source": [
    "import numpy as np"
   ]
  },
  {
   "cell_type": "code",
   "execution_count": 28,
   "id": "07ebe230",
   "metadata": {},
   "outputs": [],
   "source": [
    "a = np.array([[11, 12, 13, 2530, 11], [16, 18, 4800, 17, 18]])"
   ]
  },
  {
   "cell_type": "code",
   "execution_count": 30,
   "id": "680ac777",
   "metadata": {},
   "outputs": [],
   "source": [
    "m = np.median(a, axis=1, keepdims=True)"
   ]
  },
  {
   "cell_type": "markdown",
   "id": "d8a1800a",
   "metadata": {},
   "source": [
    "m"
   ]
  },
  {
   "cell_type": "code",
   "execution_count": 31,
   "id": "28cd782e",
   "metadata": {},
   "outputs": [
    {
     "data": {
      "text/plain": [
       "(2, 1)"
      ]
     },
     "execution_count": 31,
     "metadata": {},
     "output_type": "execute_result"
    }
   ],
   "source": [
    "np.shape(m)"
   ]
  },
  {
   "cell_type": "code",
   "execution_count": 32,
   "id": "fffd35a8",
   "metadata": {},
   "outputs": [
    {
     "data": {
      "text/plain": [
       "(2, 5)"
      ]
     },
     "execution_count": 32,
     "metadata": {},
     "output_type": "execute_result"
    }
   ],
   "source": [
    "np.shape(a)"
   ]
  },
  {
   "cell_type": "code",
   "execution_count": 33,
   "id": "53e7c918",
   "metadata": {},
   "outputs": [],
   "source": [
    "b = a - m"
   ]
  },
  {
   "cell_type": "code",
   "execution_count": 34,
   "id": "c009c478",
   "metadata": {
    "scrolled": true
   },
   "outputs": [
    {
     "data": {
      "text/plain": [
       "array([[-1.000e+00,  0.000e+00,  1.000e+00,  2.518e+03, -1.000e+00],\n",
       "       [-2.000e+00,  0.000e+00,  4.782e+03, -1.000e+00,  0.000e+00]])"
      ]
     },
     "execution_count": 34,
     "metadata": {},
     "output_type": "execute_result"
    }
   ],
   "source": [
    "b"
   ]
  },
  {
   "cell_type": "markdown",
   "id": "00ee053c",
   "metadata": {},
   "source": [
    "## Log Stretch"
   ]
  },
  {
   "cell_type": "code",
   "execution_count": 9,
   "id": "a4299d8c",
   "metadata": {},
   "outputs": [],
   "source": [
    "from math import log10, floor\n",
    "\n",
    "def log_stretch_transform(black_point, saturation_range):\n",
    "    \n",
    "    log_saturation_range = log10(saturation_range)\n",
    "    \n",
    "    def fn(pixel_value):\n",
    "        pixel_value -= black_point\n",
    "        if pixel_value <= 1.0:\n",
    "            return 0\n",
    "        else:\n",
    "            log_pixel_value = log10(pixel_value)\n",
    "            if log_pixel_value >= log_saturation_range:\n",
    "                return 255;\n",
    "            else:\n",
    "                return floor(256 * log_pixel_value / log_saturation_range)\n",
    "        \n",
    "    return fn\n"
   ]
  },
  {
   "cell_type": "code",
   "execution_count": 45,
   "id": "66a155ef",
   "metadata": {},
   "outputs": [],
   "source": [
    "transform = np.vectorize(log_stretch_transform(0, 5000))"
   ]
  },
  {
   "cell_type": "code",
   "execution_count": 46,
   "id": "ae4a1ece",
   "metadata": {},
   "outputs": [],
   "source": [
    "b_transformed = transform(b)"
   ]
  },
  {
   "cell_type": "code",
   "execution_count": 47,
   "id": "3342931a",
   "metadata": {},
   "outputs": [
    {
     "data": {
      "text/plain": [
       "array([[  0,   0,   0, 235,   0],\n",
       "       [  0,   0, 254,   0,   0]])"
      ]
     },
     "execution_count": 47,
     "metadata": {},
     "output_type": "execute_result"
    }
   ],
   "source": [
    "b_transformed"
   ]
  },
  {
   "cell_type": "markdown",
   "id": "993fff2b",
   "metadata": {},
   "source": [
    "## SN 2022abik 2022-12-1415\n",
    "\n",
    "### Observing Notes\n",
    "\n",
    "Another round 30 60-second exposures each in g', r', and i', this time, proceeding across series rather than doing all of g' first.\n",
    "\n",
    "TheSkyX crashed when approximately 80 of the planned 90 images had been taken.\n",
    "\n",
    "### Calibration Photos\n",
    "\n",
    "The calibration photos are in 2022-11-3001.\n",
    "\n",
    "The bias photos should be discarded in favor of the 1-second and 30-second darks. It turns out TheSkyX ignores the exposure time\n",
    "set on bias photos and does some very rapid exposure. I would not have noticed this if I had not needed some 30-second\n",
    "bias files.\n",
    "\n",
    "The 30-second darks are needed because the i' flats required 30 seconds to get a reasonable value."
   ]
  },
  {
   "cell_type": "code",
   "execution_count": 2,
   "id": "093f1912",
   "metadata": {},
   "outputs": [],
   "source": [
    "import os\n",
    "import numpy as np\n",
    "from astropy import units as u\n",
    "from astropy.nddata import CCDData\n",
    "from astropy.io import fits\n",
    "from ccdproc import ImageFileCollection, Combiner, combine, subtract_dark, flat_correct\n",
    "import matplotlib.pyplot as plt\n",
    "%matplotlib inline"
   ]
  },
  {
   "cell_type": "code",
   "execution_count": 7,
   "id": "1ecadc90",
   "metadata": {},
   "outputs": [],
   "source": [
    "# for an analyses of an observation run done with only a single filter,\n",
    "# only the observation_date and the exposure times\n",
    "# will need to be changed\n",
    "\n",
    "observation_date = '2022-12-1415'\n",
    "calibration_date = '2022-11-3001'\n",
    "light_exposure = 30 * u.second\n",
    "dark_exposure = light_exposure  # our method presumes this equality\n",
    "flat_exposure = 1 * u.second\n",
    "bias_exposure = flat_exposure  # our method presumes this equality"
   ]
  },
  {
   "cell_type": "code",
   "execution_count": 9,
   "id": "25453050",
   "metadata": {},
   "outputs": [],
   "source": [
    "# directories where the observation and calibration photos being analyzed is kept\n",
    "\n",
    "observation_directory = os.path.join(os.path.expanduser('~'), 'Transients', observation_date)\n",
    "calibration_directory = os.path.join(os.path.expanduser('~'), 'Transients', calibration_date)"
   ]
  },
  {
   "cell_type": "code",
   "execution_count": 14,
   "id": "d43cb086",
   "metadata": {},
   "outputs": [],
   "source": [
    "# subdirectories -- relative to observation and calibration directories\n",
    "\n",
    "g_light_directory = os.path.join(observation_directory, 'g')\n",
    "r_light_directory = os.path.join(observation_directory, 'r')\n",
    "\n",
    "# the 60-second darks\n",
    "dark_directory = os.path.join(calibration_directory, 'dark')\n",
    "\n",
    "# the 1-second g and r flats\n",
    "g_flat_directory = os.path.join(calibration_directory, 'flat', 'g')\n",
    "r_flat_directory = os.path.join(calibration_directory, 'flat', 'r')\n",
    "\n",
    "# the 1-second darks/biases\n",
    "bias_directory = os.path.join(calibration_directory, 'bias')\n",
    "\n",
    "# the aligned directories arelights = [CCDData.read(file, unit=u.adu) for file in light_files]\n",
    "darks = [CCDData.read(file, unit=u.adu) for file in dark_files]\n",
    "flats = [CCDData.read(file, unit=u.adu) for file in flat_files]\n",
    "biases = [CCDData.read(file, unit=u.adu) for file in bias_files] *written to* not read from\n",
    "\n",
    "g_aligned_directory = os.path.join(g_light_directory, 'aligned')\n",
    "r_aligned_directory = os.path.join(r_light_directory, 'aligned')\n",
    "\n",
    "if not os.path.exists(g_aligned_directory):\n",
    "    os.makedirs(g_aligned_directory)\n",
    "    \n",
    "if not os.path.exists(r_aligned_directory):\n",
    "    os.makedirs(r_aligned_directory)"
   ]
  },
  {
   "cell_type": "code",
   "execution_count": 17,
   "id": "8484ab5a",
   "metadata": {},
   "outputs": [
    {
     "name": "stderr",
     "output_type": "stream",
     "text": [
      "WARNING: FITSFixedWarning: 'datfix' made the change 'Set MJD-OBS to 59928.108034 from DATE-OBS'. [astropy.wcs.wcs]\n",
      "WARNING:astropy:FITSFixedWarning: 'datfix' made the change 'Set MJD-OBS to 59928.108034 from DATE-OBS'.\n",
      "WARNING: FITSFixedWarning: 'obsfix' made the change 'Set OBSGEO-X to -2381433.687 from OBSGEO-[LBH].\n",
      "Set OBSGEO-Y to -4483197.997 from OBSGEO-[LBH].\n",
      "Set OBSGEO-Z to  3851226.198 from OBSGEO-[LBH]'. [astropy.wcs.wcs]\n",
      "WARNING:astropy:FITSFixedWarning: 'obsfix' made the change 'Set OBSGEO-X to -2381433.687 from OBSGEO-[LBH].\n",
      "Set OBSGEO-Y to -4483197.997 from OBSGEO-[LBH].\n",
      "Set OBSGEO-Z to  3851226.198 from OBSGEO-[LBH]'.\n",
      "WARNING: FITSFixedWarning: 'datfix' made the change 'Set MJD-OBS to 59928.110304 from DATE-OBS'. [astropy.wcs.wcs]\n",
      "WARNING:astropy:FITSFixedWarning: 'datfix' made the change 'Set MJD-OBS to 59928.110304 from DATE-OBS'.\n",
      "WARNING: FITSFixedWarning: 'datfix' made the change 'Set MJD-OBS to 59928.112562 from DATE-OBS'. [astropy.wcs.wcs]\n",
      "WARNING:astropy:FITSFixedWarning: 'datfix' made the change 'Set MJD-OBS to 59928.112562 from DATE-OBS'.\n",
      "WARNING: FITSFixedWarning: 'datfix' made the change 'Set MJD-OBS to 59928.114819 from DATE-OBS'. [astropy.wcs.wcs]\n",
      "WARNING:astropy:FITSFixedWarning: 'datfix' made the change 'Set MJD-OBS to 59928.114819 from DATE-OBS'.\n",
      "WARNING: FITSFixedWarning: 'datfix' made the change 'Set MJD-OBS to 59928.117076 from DATE-OBS'. [astropy.wcs.wcs]\n",
      "WARNING:astropy:FITSFixedWarning: 'datfix' made the change 'Set MJD-OBS to 59928.117076 from DATE-OBS'.\n",
      "WARNING: FITSFixedWarning: 'datfix' made the change 'Set MJD-OBS to 59928.119334 from DATE-OBS'. [astropy.wcs.wcs]\n",
      "WARNING:astropy:FITSFixedWarning: 'datfix' made the change 'Set MJD-OBS to 59928.119334 from DATE-OBS'.\n",
      "WARNING: FITSFixedWarning: 'datfix' made the change 'Set MJD-OBS to 59928.121592 from DATE-OBS'. [astropy.wcs.wcs]\n",
      "WARNING:astropy:FITSFixedWarning: 'datfix' made the change 'Set MJD-OBS to 59928.121592 from DATE-OBS'.\n",
      "WARNING: FITSFixedWarning: 'datfix' made the change 'Set MJD-OBS to 59928.123849 from DATE-OBS'. [astropy.wcs.wcs]\n",
      "WARNING:astropy:FITSFixedWarning: 'datfix' made the change 'Set MJD-OBS to 59928.123849 from DATE-OBS'.\n",
      "WARNING: FITSFixedWarning: 'datfix' made the change 'Set MJD-OBS to 59928.126107 from DATE-OBS'. [astropy.wcs.wcs]\n",
      "WARNING:astropy:FITSFixedWarning: 'datfix' made the change 'Set MJD-OBS to 59928.126107 from DATE-OBS'.\n",
      "WARNING: FITSFixedWarning: 'datfix' made the change 'Set MJD-OBS to 59928.128365 from DATE-OBS'. [astropy.wcs.wcs]\n",
      "WARNING:astropy:FITSFixedWarning: 'datfix' made the change 'Set MJD-OBS to 59928.128365 from DATE-OBS'.\n",
      "WARNING: FITSFixedWarning: 'datfix' made the change 'Set MJD-OBS to 59928.130622 from DATE-OBS'. [astropy.wcs.wcs]\n",
      "WARNING:astropy:FITSFixedWarning: 'datfix' made the change 'Set MJD-OBS to 59928.130622 from DATE-OBS'.\n",
      "WARNING: FITSFixedWarning: 'datfix' made the change 'Set MJD-OBS to 59928.132880 from DATE-OBS'. [astropy.wcs.wcs]\n",
      "WARNING:astropy:FITSFixedWarning: 'datfix' made the change 'Set MJD-OBS to 59928.132880 from DATE-OBS'.\n",
      "WARNING: FITSFixedWarning: 'datfix' made the change 'Set MJD-OBS to 59928.135138 from DATE-OBS'. [astropy.wcs.wcs]\n",
      "WARNING:astropy:FITSFixedWarning: 'datfix' made the change 'Set MJD-OBS to 59928.135138 from DATE-OBS'.\n",
      "WARNING: FITSFixedWarning: 'datfix' made the change 'Set MJD-OBS to 59928.137396 from DATE-OBS'. [astropy.wcs.wcs]\n",
      "WARNING:astropy:FITSFixedWarning: 'datfix' made the change 'Set MJD-OBS to 59928.137396 from DATE-OBS'.\n",
      "WARNING: FITSFixedWarning: 'datfix' made the change 'Set MJD-OBS to 59928.139654 from DATE-OBS'. [astropy.wcs.wcs]\n",
      "WARNING:astropy:FITSFixedWarning: 'datfix' made the change 'Set MJD-OBS to 59928.139654 from DATE-OBS'.\n",
      "WARNING: FITSFixedWarning: 'datfix' made the change 'Set MJD-OBS to 59928.141912 from DATE-OBS'. [astropy.wcs.wcs]\n",
      "WARNING:astropy:FITSFixedWarning: 'datfix' made the change 'Set MJD-OBS to 59928.141912 from DATE-OBS'.\n",
      "WARNING: FITSFixedWarning: 'datfix' made the change 'Set MJD-OBS to 59928.144170 from DATE-OBS'. [astropy.wcs.wcs]\n",
      "WARNING:astropy:FITSFixedWarning: 'datfix' made the change 'Set MJD-OBS to 59928.144170 from DATE-OBS'.\n",
      "WARNING: FITSFixedWarning: 'datfix' made the change 'Set MJD-OBS to 59928.146428 from DATE-OBS'. [astropy.wcs.wcs]\n",
      "WARNING:astropy:FITSFixedWarning: 'datfix' made the change 'Set MJD-OBS to 59928.146428 from DATE-OBS'.\n",
      "WARNING: FITSFixedWarning: 'datfix' made the change 'Set MJD-OBS to 59928.148687 from DATE-OBS'. [astropy.wcs.wcs]\n",
      "WARNING:astropy:FITSFixedWarning: 'datfix' made the change 'Set MJD-OBS to 59928.148687 from DATE-OBS'.\n",
      "WARNING: FITSFixedWarning: 'datfix' made the change 'Set MJD-OBS to 59928.150943 from DATE-OBS'. [astropy.wcs.wcs]\n",
      "WARNING:astropy:FITSFixedWarning: 'datfix' made the change 'Set MJD-OBS to 59928.150943 from DATE-OBS'.\n",
      "WARNING: FITSFixedWarning: 'datfix' made the change 'Set MJD-OBS to 59928.153202 from DATE-OBS'. [astropy.wcs.wcs]\n",
      "WARNING:astropy:FITSFixedWarning: 'datfix' made the change 'Set MJD-OBS to 59928.153202 from DATE-OBS'.\n",
      "WARNING: FITSFixedWarning: 'datfix' made the change 'Set MJD-OBS to 59928.155460 from DATE-OBS'. [astropy.wcs.wcs]\n",
      "WARNING:astropy:FITSFixedWarning: 'datfix' made the change 'Set MJD-OBS to 59928.155460 from DATE-OBS'.\n",
      "WARNING: FITSFixedWarning: 'datfix' made the change 'Set MJD-OBS to 59928.157717 from DATE-OBS'. [astropy.wcs.wcs]\n",
      "WARNING:astropy:FITSFixedWarning: 'datfix' made the change 'Set MJD-OBS to 59928.157717 from DATE-OBS'.\n",
      "WARNING: FITSFixedWarning: 'datfix' made the change 'Set MJD-OBS to 59928.159975 from DATE-OBS'. [astropy.wcs.wcs]\n",
      "WARNING:astropy:FITSFixedWarning: 'datfix' made the change 'Set MJD-OBS to 59928.159975 from DATE-OBS'.\n",
      "WARNING: FITSFixedWarning: 'datfix' made the change 'Set MJD-OBS to 59928.162232 from DATE-OBS'. [astropy.wcs.wcs]\n",
      "WARNING:astropy:FITSFixedWarning: 'datfix' made the change 'Set MJD-OBS to 59928.162232 from DATE-OBS'.\n",
      "WARNING: FITSFixedWarning: 'datfix' made the change 'Set MJD-OBS to 59928.164489 from DATE-OBS'. [astropy.wcs.wcs]\n",
      "WARNING:astropy:FITSFixedWarning: 'datfix' made the change 'Set MJD-OBS to 59928.164489 from DATE-OBS'.\n",
      "WARNING: FITSFixedWarning: 'datfix' made the change 'Set MJD-OBS to 59928.166758 from DATE-OBS'. [astropy.wcs.wcs]\n",
      "WARNING:astropy:FITSFixedWarning: 'datfix' made the change 'Set MJD-OBS to 59928.166758 from DATE-OBS'.\n",
      "WARNING: FITSFixedWarning: 'datfix' made the change 'Set MJD-OBS to 59928.169027 from DATE-OBS'. [astropy.wcs.wcs]\n",
      "WARNING:astropy:FITSFixedWarning: 'datfix' made the change 'Set MJD-OBS to 59928.169027 from DATE-OBS'.\n",
      "WARNING: FITSFixedWarning: 'datfix' made the change 'Set MJD-OBS to 59928.171296 from DATE-OBS'. [astropy.wcs.wcs]\n",
      "WARNING:astropy:FITSFixedWarning: 'datfix' made the change 'Set MJD-OBS to 59928.171296 from DATE-OBS'.\n",
      "WARNING: FITSFixedWarning: 'datfix' made the change 'Set MJD-OBS to 59928.173566 from DATE-OBS'. [astropy.wcs.wcs]\n",
      "WARNING:astropy:FITSFixedWarning: 'datfix' made the change 'Set MJD-OBS to 59928.173566 from DATE-OBS'.\n",
      "WARNING: FITSFixedWarning: 'datfix' made the change 'Set MJD-OBS to 59928.108788 from DATE-OBS'. [astropy.wcs.wcs]\n",
      "WARNING:astropy:FITSFixedWarning: 'datfix' made the change 'Set MJD-OBS to 59928.108788 from DATE-OBS'.\n",
      "WARNING: FITSFixedWarning: 'datfix' made the change 'Set MJD-OBS to 59928.111045 from DATE-OBS'. [astropy.wcs.wcs]\n",
      "WARNING:astropy:FITSFixedWarning: 'datfix' made the change 'Set MJD-OBS to 59928.111045 from DATE-OBS'.\n",
      "WARNING: FITSFixedWarning: 'datfix' made the change 'Set MJD-OBS to 59928.113303 from DATE-OBS'. [astropy.wcs.wcs]\n",
      "WARNING:astropy:FITSFixedWarning: 'datfix' made the change 'Set MJD-OBS to 59928.113303 from DATE-OBS'.\n",
      "WARNING: FITSFixedWarning: 'datfix' made the change 'Set MJD-OBS to 59928.115560 from DATE-OBS'. [astropy.wcs.wcs]\n",
      "WARNING:astropy:FITSFixedWarning: 'datfix' made the change 'Set MJD-OBS to 59928.115560 from DATE-OBS'.\n",
      "WARNING: FITSFixedWarning: 'datfix' made the change 'Set MJD-OBS to 59928.117817 from DATE-OBS'. [astropy.wcs.wcs]\n",
      "WARNING:astropy:FITSFixedWarning: 'datfix' made the change 'Set MJD-OBS to 59928.117817 from DATE-OBS'.\n",
      "WARNING: FITSFixedWarning: 'datfix' made the change 'Set MJD-OBS to 59928.120075 from DATE-OBS'. [astropy.wcs.wcs]\n",
      "WARNING:astropy:FITSFixedWarning: 'datfix' made the change 'Set MJD-OBS to 59928.120075 from DATE-OBS'.\n"
     ]
    },
    {
     "name": "stderr",
     "output_type": "stream",
     "text": [
      "WARNING: FITSFixedWarning: 'datfix' made the change 'Set MJD-OBS to 59928.122333 from DATE-OBS'. [astropy.wcs.wcs]\n",
      "WARNING:astropy:FITSFixedWarning: 'datfix' made the change 'Set MJD-OBS to 59928.122333 from DATE-OBS'.\n",
      "WARNING: FITSFixedWarning: 'datfix' made the change 'Set MJD-OBS to 59928.124590 from DATE-OBS'. [astropy.wcs.wcs]\n",
      "WARNING:astropy:FITSFixedWarning: 'datfix' made the change 'Set MJD-OBS to 59928.124590 from DATE-OBS'.\n",
      "WARNING: FITSFixedWarning: 'datfix' made the change 'Set MJD-OBS to 59928.126848 from DATE-OBS'. [astropy.wcs.wcs]\n",
      "WARNING:astropy:FITSFixedWarning: 'datfix' made the change 'Set MJD-OBS to 59928.126848 from DATE-OBS'.\n",
      "WARNING: FITSFixedWarning: 'datfix' made the change 'Set MJD-OBS to 59928.129106 from DATE-OBS'. [astropy.wcs.wcs]\n",
      "WARNING:astropy:FITSFixedWarning: 'datfix' made the change 'Set MJD-OBS to 59928.129106 from DATE-OBS'.\n",
      "WARNING: FITSFixedWarning: 'datfix' made the change 'Set MJD-OBS to 59928.131363 from DATE-OBS'. [astropy.wcs.wcs]\n",
      "WARNING:astropy:FITSFixedWarning: 'datfix' made the change 'Set MJD-OBS to 59928.131363 from DATE-OBS'.\n",
      "WARNING: FITSFixedWarning: 'datfix' made the change 'Set MJD-OBS to 59928.133621 from DATE-OBS'. [astropy.wcs.wcs]\n",
      "WARNING:astropy:FITSFixedWarning: 'datfix' made the change 'Set MJD-OBS to 59928.133621 from DATE-OBS'.\n",
      "WARNING: FITSFixedWarning: 'datfix' made the change 'Set MJD-OBS to 59928.135879 from DATE-OBS'. [astropy.wcs.wcs]\n",
      "WARNING:astropy:FITSFixedWarning: 'datfix' made the change 'Set MJD-OBS to 59928.135879 from DATE-OBS'.\n",
      "WARNING: FITSFixedWarning: 'datfix' made the change 'Set MJD-OBS to 59928.138137 from DATE-OBS'. [astropy.wcs.wcs]\n",
      "WARNING:astropy:FITSFixedWarning: 'datfix' made the change 'Set MJD-OBS to 59928.138137 from DATE-OBS'.\n",
      "WARNING: FITSFixedWarning: 'datfix' made the change 'Set MJD-OBS to 59928.140395 from DATE-OBS'. [astropy.wcs.wcs]\n",
      "WARNING:astropy:FITSFixedWarning: 'datfix' made the change 'Set MJD-OBS to 59928.140395 from DATE-OBS'.\n",
      "WARNING: FITSFixedWarning: 'datfix' made the change 'Set MJD-OBS to 59928.142653 from DATE-OBS'. [astropy.wcs.wcs]\n",
      "WARNING:astropy:FITSFixedWarning: 'datfix' made the change 'Set MJD-OBS to 59928.142653 from DATE-OBS'.\n",
      "WARNING: FITSFixedWarning: 'datfix' made the change 'Set MJD-OBS to 59928.144911 from DATE-OBS'. [astropy.wcs.wcs]\n",
      "WARNING:astropy:FITSFixedWarning: 'datfix' made the change 'Set MJD-OBS to 59928.144911 from DATE-OBS'.\n",
      "WARNING: FITSFixedWarning: 'datfix' made the change 'Set MJD-OBS to 59928.147169 from DATE-OBS'. [astropy.wcs.wcs]\n",
      "WARNING:astropy:FITSFixedWarning: 'datfix' made the change 'Set MJD-OBS to 59928.147169 from DATE-OBS'.\n",
      "WARNING: FITSFixedWarning: 'datfix' made the change 'Set MJD-OBS to 59928.149427 from DATE-OBS'. [astropy.wcs.wcs]\n",
      "WARNING:astropy:FITSFixedWarning: 'datfix' made the change 'Set MJD-OBS to 59928.149427 from DATE-OBS'.\n",
      "WARNING: FITSFixedWarning: 'datfix' made the change 'Set MJD-OBS to 59928.151685 from DATE-OBS'. [astropy.wcs.wcs]\n",
      "WARNING:astropy:FITSFixedWarning: 'datfix' made the change 'Set MJD-OBS to 59928.151685 from DATE-OBS'.\n",
      "WARNING: FITSFixedWarning: 'datfix' made the change 'Set MJD-OBS to 59928.153943 from DATE-OBS'. [astropy.wcs.wcs]\n",
      "WARNING:astropy:FITSFixedWarning: 'datfix' made the change 'Set MJD-OBS to 59928.153943 from DATE-OBS'.\n",
      "WARNING: FITSFixedWarning: 'datfix' made the change 'Set MJD-OBS to 59928.156200 from DATE-OBS'. [astropy.wcs.wcs]\n",
      "WARNING:astropy:FITSFixedWarning: 'datfix' made the change 'Set MJD-OBS to 59928.156200 from DATE-OBS'.\n",
      "WARNING: FITSFixedWarning: 'datfix' made the change 'Set MJD-OBS to 59928.158458 from DATE-OBS'. [astropy.wcs.wcs]\n",
      "WARNING:astropy:FITSFixedWarning: 'datfix' made the change 'Set MJD-OBS to 59928.158458 from DATE-OBS'.\n",
      "WARNING: FITSFixedWarning: 'datfix' made the change 'Set MJD-OBS to 59928.160716 from DATE-OBS'. [astropy.wcs.wcs]\n",
      "WARNING:astropy:FITSFixedWarning: 'datfix' made the change 'Set MJD-OBS to 59928.160716 from DATE-OBS'.\n",
      "WARNING: FITSFixedWarning: 'datfix' made the change 'Set MJD-OBS to 59928.162973 from DATE-OBS'. [astropy.wcs.wcs]\n",
      "WARNING:astropy:FITSFixedWarning: 'datfix' made the change 'Set MJD-OBS to 59928.162973 from DATE-OBS'.\n",
      "WARNING: FITSFixedWarning: 'datfix' made the change 'Set MJD-OBS to 59928.165242 from DATE-OBS'. [astropy.wcs.wcs]\n",
      "WARNING:astropy:FITSFixedWarning: 'datfix' made the change 'Set MJD-OBS to 59928.165242 from DATE-OBS'.\n",
      "WARNING: FITSFixedWarning: 'datfix' made the change 'Set MJD-OBS to 59928.167511 from DATE-OBS'. [astropy.wcs.wcs]\n",
      "WARNING:astropy:FITSFixedWarning: 'datfix' made the change 'Set MJD-OBS to 59928.167511 from DATE-OBS'.\n",
      "WARNING: FITSFixedWarning: 'datfix' made the change 'Set MJD-OBS to 59928.169780 from DATE-OBS'. [astropy.wcs.wcs]\n",
      "WARNING:astropy:FITSFixedWarning: 'datfix' made the change 'Set MJD-OBS to 59928.169780 from DATE-OBS'.\n",
      "WARNING: FITSFixedWarning: 'datfix' made the change 'Set MJD-OBS to 59928.172049 from DATE-OBS'. [astropy.wcs.wcs]\n",
      "WARNING:astropy:FITSFixedWarning: 'datfix' made the change 'Set MJD-OBS to 59928.172049 from DATE-OBS'.\n",
      "WARNING: FITSFixedWarning: 'datfix' made the change 'Set MJD-OBS to 59928.174307 from DATE-OBS'. [astropy.wcs.wcs]\n",
      "WARNING:astropy:FITSFixedWarning: 'datfix' made the change 'Set MJD-OBS to 59928.174307 from DATE-OBS'.\n",
      "WARNING: FITSFixedWarning: 'datfix' made the change 'Set MJD-OBS to 59914.078782 from DATE-OBS'. [astropy.wcs.wcs]\n",
      "WARNING:astropy:FITSFixedWarning: 'datfix' made the change 'Set MJD-OBS to 59914.078782 from DATE-OBS'.\n",
      "WARNING: FITSFixedWarning: 'datfix' made the change 'Set MJD-OBS to 59914.079488 from DATE-OBS'. [astropy.wcs.wcs]\n",
      "WARNING:astropy:FITSFixedWarning: 'datfix' made the change 'Set MJD-OBS to 59914.079488 from DATE-OBS'.\n",
      "WARNING: FITSFixedWarning: 'datfix' made the change 'Set MJD-OBS to 59914.080192 from DATE-OBS'. [astropy.wcs.wcs]\n",
      "WARNING:astropy:FITSFixedWarning: 'datfix' made the change 'Set MJD-OBS to 59914.080192 from DATE-OBS'.\n",
      "WARNING: FITSFixedWarning: 'datfix' made the change 'Set MJD-OBS to 59914.080897 from DATE-OBS'. [astropy.wcs.wcs]\n",
      "WARNING:astropy:FITSFixedWarning: 'datfix' made the change 'Set MJD-OBS to 59914.080897 from DATE-OBS'.\n",
      "WARNING: FITSFixedWarning: 'datfix' made the change 'Set MJD-OBS to 59914.081601 from DATE-OBS'. [astropy.wcs.wcs]\n",
      "WARNING:astropy:FITSFixedWarning: 'datfix' made the change 'Set MJD-OBS to 59914.081601 from DATE-OBS'.\n",
      "WARNING: FITSFixedWarning: 'datfix' made the change 'Set MJD-OBS to 59914.082305 from DATE-OBS'. [astropy.wcs.wcs]\n",
      "WARNING:astropy:FITSFixedWarning: 'datfix' made the change 'Set MJD-OBS to 59914.082305 from DATE-OBS'.\n",
      "WARNING: FITSFixedWarning: 'datfix' made the change 'Set MJD-OBS to 59914.083010 from DATE-OBS'. [astropy.wcs.wcs]\n",
      "WARNING:astropy:FITSFixedWarning: 'datfix' made the change 'Set MJD-OBS to 59914.083010 from DATE-OBS'.\n",
      "WARNING: FITSFixedWarning: 'datfix' made the change 'Set MJD-OBS to 59914.083714 from DATE-OBS'. [astropy.wcs.wcs]\n",
      "WARNING:astropy:FITSFixedWarning: 'datfix' made the change 'Set MJD-OBS to 59914.083714 from DATE-OBS'.\n",
      "WARNING: FITSFixedWarning: 'datfix' made the change 'Set MJD-OBS to 59914.084418 from DATE-OBS'. [astropy.wcs.wcs]\n",
      "WARNING:astropy:FITSFixedWarning: 'datfix' made the change 'Set MJD-OBS to 59914.084418 from DATE-OBS'.\n",
      "WARNING: FITSFixedWarning: 'datfix' made the change 'Set MJD-OBS to 59914.085123 from DATE-OBS'. [astropy.wcs.wcs]\n",
      "WARNING:astropy:FITSFixedWarning: 'datfix' made the change 'Set MJD-OBS to 59914.085123 from DATE-OBS'.\n",
      "WARNING: FITSFixedWarning: 'datfix' made the change 'Set MJD-OBS to 59914.085827 from DATE-OBS'. [astropy.wcs.wcs]\n",
      "WARNING:astropy:FITSFixedWarning: 'datfix' made the change 'Set MJD-OBS to 59914.085827 from DATE-OBS'.\n",
      "WARNING: FITSFixedWarning: 'datfix' made the change 'Set MJD-OBS to 59914.086531 from DATE-OBS'. [astropy.wcs.wcs]\n",
      "WARNING:astropy:FITSFixedWarning: 'datfix' made the change 'Set MJD-OBS to 59914.086531 from DATE-OBS'.\n",
      "WARNING: FITSFixedWarning: 'datfix' made the change 'Set MJD-OBS to 59914.087235 from DATE-OBS'. [astropy.wcs.wcs]\n",
      "WARNING:astropy:FITSFixedWarning: 'datfix' made the change 'Set MJD-OBS to 59914.087235 from DATE-OBS'.\n",
      "WARNING: FITSFixedWarning: 'datfix' made the change 'Set MJD-OBS to 59914.087939 from DATE-OBS'. [astropy.wcs.wcs]\n",
      "WARNING:astropy:FITSFixedWarning: 'datfix' made the change 'Set MJD-OBS to 59914.087939 from DATE-OBS'.\n"
     ]
    },
    {
     "name": "stderr",
     "output_type": "stream",
     "text": [
      "WARNING: FITSFixedWarning: 'datfix' made the change 'Set MJD-OBS to 59914.088643 from DATE-OBS'. [astropy.wcs.wcs]\n",
      "WARNING:astropy:FITSFixedWarning: 'datfix' made the change 'Set MJD-OBS to 59914.088643 from DATE-OBS'.\n",
      "WARNING: FITSFixedWarning: 'datfix' made the change 'Set MJD-OBS to 59914.089348 from DATE-OBS'. [astropy.wcs.wcs]\n",
      "WARNING:astropy:FITSFixedWarning: 'datfix' made the change 'Set MJD-OBS to 59914.089348 from DATE-OBS'.\n",
      "WARNING: FITSFixedWarning: 'datfix' made the change 'Set MJD-OBS to 59914.090052 from DATE-OBS'. [astropy.wcs.wcs]\n",
      "WARNING:astropy:FITSFixedWarning: 'datfix' made the change 'Set MJD-OBS to 59914.090052 from DATE-OBS'.\n",
      "WARNING: FITSFixedWarning: 'datfix' made the change 'Set MJD-OBS to 59914.090756 from DATE-OBS'. [astropy.wcs.wcs]\n",
      "WARNING:astropy:FITSFixedWarning: 'datfix' made the change 'Set MJD-OBS to 59914.090756 from DATE-OBS'.\n",
      "WARNING: FITSFixedWarning: 'datfix' made the change 'Set MJD-OBS to 59914.091460 from DATE-OBS'. [astropy.wcs.wcs]\n",
      "WARNING:astropy:FITSFixedWarning: 'datfix' made the change 'Set MJD-OBS to 59914.091460 from DATE-OBS'.\n",
      "WARNING: FITSFixedWarning: 'datfix' made the change 'Set MJD-OBS to 59914.092165 from DATE-OBS'. [astropy.wcs.wcs]\n",
      "WARNING:astropy:FITSFixedWarning: 'datfix' made the change 'Set MJD-OBS to 59914.092165 from DATE-OBS'.\n",
      "WARNING: FITSFixedWarning: 'datfix' made the change 'Set MJD-OBS to 59914.092869 from DATE-OBS'. [astropy.wcs.wcs]\n",
      "WARNING:astropy:FITSFixedWarning: 'datfix' made the change 'Set MJD-OBS to 59914.092869 from DATE-OBS'.\n",
      "WARNING: FITSFixedWarning: 'datfix' made the change 'Set MJD-OBS to 59914.093573 from DATE-OBS'. [astropy.wcs.wcs]\n",
      "WARNING:astropy:FITSFixedWarning: 'datfix' made the change 'Set MJD-OBS to 59914.093573 from DATE-OBS'.\n",
      "WARNING: FITSFixedWarning: 'datfix' made the change 'Set MJD-OBS to 59914.094277 from DATE-OBS'. [astropy.wcs.wcs]\n",
      "WARNING:astropy:FITSFixedWarning: 'datfix' made the change 'Set MJD-OBS to 59914.094277 from DATE-OBS'.\n",
      "WARNING: FITSFixedWarning: 'datfix' made the change 'Set MJD-OBS to 59914.094982 from DATE-OBS'. [astropy.wcs.wcs]\n",
      "WARNING:astropy:FITSFixedWarning: 'datfix' made the change 'Set MJD-OBS to 59914.094982 from DATE-OBS'.\n",
      "WARNING: FITSFixedWarning: 'datfix' made the change 'Set MJD-OBS to 59914.095686 from DATE-OBS'. [astropy.wcs.wcs]\n",
      "WARNING:astropy:FITSFixedWarning: 'datfix' made the change 'Set MJD-OBS to 59914.095686 from DATE-OBS'.\n",
      "WARNING: FITSFixedWarning: 'datfix' made the change 'Set MJD-OBS to 59914.096390 from DATE-OBS'. [astropy.wcs.wcs]\n",
      "WARNING:astropy:FITSFixedWarning: 'datfix' made the change 'Set MJD-OBS to 59914.096390 from DATE-OBS'.\n",
      "WARNING: FITSFixedWarning: 'datfix' made the change 'Set MJD-OBS to 59914.097094 from DATE-OBS'. [astropy.wcs.wcs]\n",
      "WARNING:astropy:FITSFixedWarning: 'datfix' made the change 'Set MJD-OBS to 59914.097094 from DATE-OBS'.\n",
      "WARNING: FITSFixedWarning: 'datfix' made the change 'Set MJD-OBS to 59914.097798 from DATE-OBS'. [astropy.wcs.wcs]\n",
      "WARNING:astropy:FITSFixedWarning: 'datfix' made the change 'Set MJD-OBS to 59914.097798 from DATE-OBS'.\n",
      "WARNING: FITSFixedWarning: 'datfix' made the change 'Set MJD-OBS to 59914.098503 from DATE-OBS'. [astropy.wcs.wcs]\n",
      "WARNING:astropy:FITSFixedWarning: 'datfix' made the change 'Set MJD-OBS to 59914.098503 from DATE-OBS'.\n",
      "WARNING: FITSFixedWarning: 'datfix' made the change 'Set MJD-OBS to 59914.099207 from DATE-OBS'. [astropy.wcs.wcs]\n",
      "WARNING:astropy:FITSFixedWarning: 'datfix' made the change 'Set MJD-OBS to 59914.099207 from DATE-OBS'.\n",
      "WARNING: FITSFixedWarning: 'datfix' made the change 'Set MJD-OBS to 59914.109113 from DATE-OBS'. [astropy.wcs.wcs]\n",
      "WARNING:astropy:FITSFixedWarning: 'datfix' made the change 'Set MJD-OBS to 59914.109113 from DATE-OBS'.\n",
      "WARNING: FITSFixedWarning: 'datfix' made the change 'Set MJD-OBS to 59914.109157 from DATE-OBS'. [astropy.wcs.wcs]\n",
      "WARNING:astropy:FITSFixedWarning: 'datfix' made the change 'Set MJD-OBS to 59914.109157 from DATE-OBS'.\n",
      "WARNING: FITSFixedWarning: 'datfix' made the change 'Set MJD-OBS to 59914.109202 from DATE-OBS'. [astropy.wcs.wcs]\n",
      "WARNING:astropy:FITSFixedWarning: 'datfix' made the change 'Set MJD-OBS to 59914.109202 from DATE-OBS'.\n",
      "WARNING: FITSFixedWarning: 'datfix' made the change 'Set MJD-OBS to 59914.109246 from DATE-OBS'. [astropy.wcs.wcs]\n",
      "WARNING:astropy:FITSFixedWarning: 'datfix' made the change 'Set MJD-OBS to 59914.109246 from DATE-OBS'.\n",
      "WARNING: FITSFixedWarning: 'datfix' made the change 'Set MJD-OBS to 59914.109291 from DATE-OBS'. [astropy.wcs.wcs]\n",
      "WARNING:astropy:FITSFixedWarning: 'datfix' made the change 'Set MJD-OBS to 59914.109291 from DATE-OBS'.\n",
      "WARNING: FITSFixedWarning: 'datfix' made the change 'Set MJD-OBS to 59914.109336 from DATE-OBS'. [astropy.wcs.wcs]\n",
      "WARNING:astropy:FITSFixedWarning: 'datfix' made the change 'Set MJD-OBS to 59914.109336 from DATE-OBS'.\n",
      "WARNING: FITSFixedWarning: 'datfix' made the change 'Set MJD-OBS to 59914.109381 from DATE-OBS'. [astropy.wcs.wcs]\n",
      "WARNING:astropy:FITSFixedWarning: 'datfix' made the change 'Set MJD-OBS to 59914.109381 from DATE-OBS'.\n",
      "WARNING: FITSFixedWarning: 'datfix' made the change 'Set MJD-OBS to 59914.109425 from DATE-OBS'. [astropy.wcs.wcs]\n",
      "WARNING:astropy:FITSFixedWarning: 'datfix' made the change 'Set MJD-OBS to 59914.109425 from DATE-OBS'.\n",
      "WARNING: FITSFixedWarning: 'datfix' made the change 'Set MJD-OBS to 59914.109470 from DATE-OBS'. [astropy.wcs.wcs]\n",
      "WARNING:astropy:FITSFixedWarning: 'datfix' made the change 'Set MJD-OBS to 59914.109470 from DATE-OBS'.\n",
      "WARNING: FITSFixedWarning: 'datfix' made the change 'Set MJD-OBS to 59914.109515 from DATE-OBS'. [astropy.wcs.wcs]\n",
      "WARNING:astropy:FITSFixedWarning: 'datfix' made the change 'Set MJD-OBS to 59914.109515 from DATE-OBS'.\n",
      "WARNING: FITSFixedWarning: 'datfix' made the change 'Set MJD-OBS to 59914.109560 from DATE-OBS'. [astropy.wcs.wcs]\n",
      "WARNING:astropy:FITSFixedWarning: 'datfix' made the change 'Set MJD-OBS to 59914.109560 from DATE-OBS'.\n",
      "WARNING: FITSFixedWarning: 'datfix' made the change 'Set MJD-OBS to 59914.109604 from DATE-OBS'. [astropy.wcs.wcs]\n",
      "WARNING:astropy:FITSFixedWarning: 'datfix' made the change 'Set MJD-OBS to 59914.109604 from DATE-OBS'.\n",
      "WARNING: FITSFixedWarning: 'datfix' made the change 'Set MJD-OBS to 59914.109649 from DATE-OBS'. [astropy.wcs.wcs]\n",
      "WARNING:astropy:FITSFixedWarning: 'datfix' made the change 'Set MJD-OBS to 59914.109649 from DATE-OBS'.\n",
      "WARNING: FITSFixedWarning: 'datfix' made the change 'Set MJD-OBS to 59914.109693 from DATE-OBS'. [astropy.wcs.wcs]\n",
      "WARNING:astropy:FITSFixedWarning: 'datfix' made the change 'Set MJD-OBS to 59914.109693 from DATE-OBS'.\n",
      "WARNING: FITSFixedWarning: 'datfix' made the change 'Set MJD-OBS to 59914.109738 from DATE-OBS'. [astropy.wcs.wcs]\n",
      "WARNING:astropy:FITSFixedWarning: 'datfix' made the change 'Set MJD-OBS to 59914.109738 from DATE-OBS'.\n",
      "WARNING: FITSFixedWarning: 'datfix' made the change 'Set MJD-OBS to 59914.109783 from DATE-OBS'. [astropy.wcs.wcs]\n",
      "WARNING:astropy:FITSFixedWarning: 'datfix' made the change 'Set MJD-OBS to 59914.109783 from DATE-OBS'.\n",
      "WARNING: FITSFixedWarning: 'datfix' made the change 'Set MJD-OBS to 59914.109828 from DATE-OBS'. [astropy.wcs.wcs]\n",
      "WARNING:astropy:FITSFixedWarning: 'datfix' made the change 'Set MJD-OBS to 59914.109828 from DATE-OBS'.\n",
      "WARNING: FITSFixedWarning: 'datfix' made the change 'Set MJD-OBS to 59914.109873 from DATE-OBS'. [astropy.wcs.wcs]\n",
      "WARNING:astropy:FITSFixedWarning: 'datfix' made the change 'Set MJD-OBS to 59914.109873 from DATE-OBS'.\n",
      "WARNING: FITSFixedWarning: 'datfix' made the change 'Set MJD-OBS to 59914.109919 from DATE-OBS'. [astropy.wcs.wcs]\n",
      "WARNING:astropy:FITSFixedWarning: 'datfix' made the change 'Set MJD-OBS to 59914.109919 from DATE-OBS'.\n",
      "WARNING: FITSFixedWarning: 'datfix' made the change 'Set MJD-OBS to 59914.109964 from DATE-OBS'. [astropy.wcs.wcs]\n",
      "WARNING:astropy:FITSFixedWarning: 'datfix' made the change 'Set MJD-OBS to 59914.109964 from DATE-OBS'.\n",
      "WARNING: FITSFixedWarning: 'datfix' made the change 'Set MJD-OBS to 59914.110009 from DATE-OBS'. [astropy.wcs.wcs]\n",
      "WARNING:astropy:FITSFixedWarning: 'datfix' made the change 'Set MJD-OBS to 59914.110009 from DATE-OBS'.\n",
      "WARNING: FITSFixedWarning: 'datfix' made the change 'Set MJD-OBS to 59914.110053 from DATE-OBS'. [astropy.wcs.wcs]\n",
      "WARNING:astropy:FITSFixedWarning: 'datfix' made the change 'Set MJD-OBS to 59914.110053 from DATE-OBS'.\n"
     ]
    },
    {
     "name": "stderr",
     "output_type": "stream",
     "text": [
      "WARNING: FITSFixedWarning: 'datfix' made the change 'Set MJD-OBS to 59914.110098 from DATE-OBS'. [astropy.wcs.wcs]\n",
      "WARNING:astropy:FITSFixedWarning: 'datfix' made the change 'Set MJD-OBS to 59914.110098 from DATE-OBS'.\n",
      "WARNING: FITSFixedWarning: 'datfix' made the change 'Set MJD-OBS to 59914.110143 from DATE-OBS'. [astropy.wcs.wcs]\n",
      "WARNING:astropy:FITSFixedWarning: 'datfix' made the change 'Set MJD-OBS to 59914.110143 from DATE-OBS'.\n",
      "WARNING: FITSFixedWarning: 'datfix' made the change 'Set MJD-OBS to 59914.110187 from DATE-OBS'. [astropy.wcs.wcs]\n",
      "WARNING:astropy:FITSFixedWarning: 'datfix' made the change 'Set MJD-OBS to 59914.110187 from DATE-OBS'.\n",
      "WARNING: FITSFixedWarning: 'datfix' made the change 'Set MJD-OBS to 59914.110232 from DATE-OBS'. [astropy.wcs.wcs]\n",
      "WARNING:astropy:FITSFixedWarning: 'datfix' made the change 'Set MJD-OBS to 59914.110232 from DATE-OBS'.\n",
      "WARNING: FITSFixedWarning: 'datfix' made the change 'Set MJD-OBS to 59914.110277 from DATE-OBS'. [astropy.wcs.wcs]\n",
      "WARNING:astropy:FITSFixedWarning: 'datfix' made the change 'Set MJD-OBS to 59914.110277 from DATE-OBS'.\n",
      "WARNING: FITSFixedWarning: 'datfix' made the change 'Set MJD-OBS to 59914.110322 from DATE-OBS'. [astropy.wcs.wcs]\n",
      "WARNING:astropy:FITSFixedWarning: 'datfix' made the change 'Set MJD-OBS to 59914.110322 from DATE-OBS'.\n",
      "WARNING: FITSFixedWarning: 'datfix' made the change 'Set MJD-OBS to 59914.110366 from DATE-OBS'. [astropy.wcs.wcs]\n",
      "WARNING:astropy:FITSFixedWarning: 'datfix' made the change 'Set MJD-OBS to 59914.110366 from DATE-OBS'.\n",
      "WARNING: FITSFixedWarning: 'datfix' made the change 'Set MJD-OBS to 59914.110411 from DATE-OBS'. [astropy.wcs.wcs]\n",
      "WARNING:astropy:FITSFixedWarning: 'datfix' made the change 'Set MJD-OBS to 59914.110411 from DATE-OBS'.\n",
      "WARNING: FITSFixedWarning: 'datfix' made the change 'Set MJD-OBS to 59914.110468 from DATE-OBS'. [astropy.wcs.wcs]\n",
      "WARNING:astropy:FITSFixedWarning: 'datfix' made the change 'Set MJD-OBS to 59914.110468 from DATE-OBS'.\n",
      "WARNING: FITSFixedWarning: 'datfix' made the change 'Set MJD-OBS to 59914.110513 from DATE-OBS'. [astropy.wcs.wcs]\n",
      "WARNING:astropy:FITSFixedWarning: 'datfix' made the change 'Set MJD-OBS to 59914.110513 from DATE-OBS'.\n",
      "WARNING: FITSFixedWarning: 'datfix' made the change 'Set MJD-OBS to 59914.110557 from DATE-OBS'. [astropy.wcs.wcs]\n",
      "WARNING:astropy:FITSFixedWarning: 'datfix' made the change 'Set MJD-OBS to 59914.110557 from DATE-OBS'.\n",
      "WARNING: FITSFixedWarning: 'datfix' made the change 'Set MJD-OBS to 59914.110602 from DATE-OBS'. [astropy.wcs.wcs]\n",
      "WARNING:astropy:FITSFixedWarning: 'datfix' made the change 'Set MJD-OBS to 59914.110602 from DATE-OBS'.\n",
      "WARNING: FITSFixedWarning: 'datfix' made the change 'Set MJD-OBS to 59914.110647 from DATE-OBS'. [astropy.wcs.wcs]\n",
      "WARNING:astropy:FITSFixedWarning: 'datfix' made the change 'Set MJD-OBS to 59914.110647 from DATE-OBS'.\n",
      "WARNING: FITSFixedWarning: 'datfix' made the change 'Set MJD-OBS to 59914.110692 from DATE-OBS'. [astropy.wcs.wcs]\n",
      "WARNING:astropy:FITSFixedWarning: 'datfix' made the change 'Set MJD-OBS to 59914.110692 from DATE-OBS'.\n",
      "WARNING: FITSFixedWarning: 'datfix' made the change 'Set MJD-OBS to 59914.110736 from DATE-OBS'. [astropy.wcs.wcs]\n",
      "WARNING:astropy:FITSFixedWarning: 'datfix' made the change 'Set MJD-OBS to 59914.110736 from DATE-OBS'.\n",
      "WARNING: FITSFixedWarning: 'datfix' made the change 'Set MJD-OBS to 59914.110781 from DATE-OBS'. [astropy.wcs.wcs]\n",
      "WARNING:astropy:FITSFixedWarning: 'datfix' made the change 'Set MJD-OBS to 59914.110781 from DATE-OBS'.\n",
      "WARNING: FITSFixedWarning: 'datfix' made the change 'Set MJD-OBS to 59914.110825 from DATE-OBS'. [astropy.wcs.wcs]\n",
      "WARNING:astropy:FITSFixedWarning: 'datfix' made the change 'Set MJD-OBS to 59914.110825 from DATE-OBS'.\n",
      "WARNING: FITSFixedWarning: 'datfix' made the change 'Set MJD-OBS to 59914.110870 from DATE-OBS'. [astropy.wcs.wcs]\n",
      "WARNING:astropy:FITSFixedWarning: 'datfix' made the change 'Set MJD-OBS to 59914.110870 from DATE-OBS'.\n",
      "WARNING: FITSFixedWarning: 'datfix' made the change 'Set MJD-OBS to 59914.110915 from DATE-OBS'. [astropy.wcs.wcs]\n",
      "WARNING:astropy:FITSFixedWarning: 'datfix' made the change 'Set MJD-OBS to 59914.110915 from DATE-OBS'.\n",
      "WARNING: FITSFixedWarning: 'datfix' made the change 'Set MJD-OBS to 59914.110959 from DATE-OBS'. [astropy.wcs.wcs]\n",
      "WARNING:astropy:FITSFixedWarning: 'datfix' made the change 'Set MJD-OBS to 59914.110959 from DATE-OBS'.\n",
      "WARNING: FITSFixedWarning: 'datfix' made the change 'Set MJD-OBS to 59914.111004 from DATE-OBS'. [astropy.wcs.wcs]\n",
      "WARNING:astropy:FITSFixedWarning: 'datfix' made the change 'Set MJD-OBS to 59914.111004 from DATE-OBS'.\n",
      "WARNING: FITSFixedWarning: 'datfix' made the change 'Set MJD-OBS to 59914.111049 from DATE-OBS'. [astropy.wcs.wcs]\n",
      "WARNING:astropy:FITSFixedWarning: 'datfix' made the change 'Set MJD-OBS to 59914.111049 from DATE-OBS'.\n",
      "WARNING: FITSFixedWarning: 'datfix' made the change 'Set MJD-OBS to 59914.111094 from DATE-OBS'. [astropy.wcs.wcs]\n",
      "WARNING:astropy:FITSFixedWarning: 'datfix' made the change 'Set MJD-OBS to 59914.111094 from DATE-OBS'.\n",
      "WARNING: FITSFixedWarning: 'datfix' made the change 'Set MJD-OBS to 59914.111138 from DATE-OBS'. [astropy.wcs.wcs]\n",
      "WARNING:astropy:FITSFixedWarning: 'datfix' made the change 'Set MJD-OBS to 59914.111138 from DATE-OBS'.\n",
      "WARNING: FITSFixedWarning: 'datfix' made the change 'Set MJD-OBS to 59914.111183 from DATE-OBS'. [astropy.wcs.wcs]\n",
      "WARNING:astropy:FITSFixedWarning: 'datfix' made the change 'Set MJD-OBS to 59914.111183 from DATE-OBS'.\n",
      "WARNING: FITSFixedWarning: 'datfix' made the change 'Set MJD-OBS to 59914.111228 from DATE-OBS'. [astropy.wcs.wcs]\n",
      "WARNING:astropy:FITSFixedWarning: 'datfix' made the change 'Set MJD-OBS to 59914.111228 from DATE-OBS'.\n",
      "WARNING: FITSFixedWarning: 'datfix' made the change 'Set MJD-OBS to 59914.111272 from DATE-OBS'. [astropy.wcs.wcs]\n",
      "WARNING:astropy:FITSFixedWarning: 'datfix' made the change 'Set MJD-OBS to 59914.111272 from DATE-OBS'.\n",
      "WARNING: FITSFixedWarning: 'datfix' made the change 'Set MJD-OBS to 59914.111317 from DATE-OBS'. [astropy.wcs.wcs]\n",
      "WARNING:astropy:FITSFixedWarning: 'datfix' made the change 'Set MJD-OBS to 59914.111317 from DATE-OBS'.\n",
      "WARNING: FITSFixedWarning: 'datfix' made the change 'Set MJD-OBS to 59914.111361 from DATE-OBS'. [astropy.wcs.wcs]\n",
      "WARNING:astropy:FITSFixedWarning: 'datfix' made the change 'Set MJD-OBS to 59914.111361 from DATE-OBS'.\n",
      "WARNING: FITSFixedWarning: 'datfix' made the change 'Set MJD-OBS to 59914.111407 from DATE-OBS'. [astropy.wcs.wcs]\n",
      "WARNING:astropy:FITSFixedWarning: 'datfix' made the change 'Set MJD-OBS to 59914.111407 from DATE-OBS'.\n",
      "WARNING: FITSFixedWarning: 'datfix' made the change 'Set MJD-OBS to 59914.111451 from DATE-OBS'. [astropy.wcs.wcs]\n",
      "WARNING:astropy:FITSFixedWarning: 'datfix' made the change 'Set MJD-OBS to 59914.111451 from DATE-OBS'.\n",
      "WARNING: FITSFixedWarning: 'datfix' made the change 'Set MJD-OBS to 59914.111496 from DATE-OBS'. [astropy.wcs.wcs]\n",
      "WARNING:astropy:FITSFixedWarning: 'datfix' made the change 'Set MJD-OBS to 59914.111496 from DATE-OBS'.\n",
      "WARNING: FITSFixedWarning: 'datfix' made the change 'Set MJD-OBS to 59914.111540 from DATE-OBS'. [astropy.wcs.wcs]\n",
      "WARNING:astropy:FITSFixedWarning: 'datfix' made the change 'Set MJD-OBS to 59914.111540 from DATE-OBS'.\n",
      "WARNING: FITSFixedWarning: 'datfix' made the change 'Set MJD-OBS to 59914.111585 from DATE-OBS'. [astropy.wcs.wcs]\n",
      "WARNING:astropy:FITSFixedWarning: 'datfix' made the change 'Set MJD-OBS to 59914.111585 from DATE-OBS'.\n",
      "WARNING: FITSFixedWarning: 'datfix' made the change 'Set MJD-OBS to 59914.111630 from DATE-OBS'. [astropy.wcs.wcs]\n",
      "WARNING:astropy:FITSFixedWarning: 'datfix' made the change 'Set MJD-OBS to 59914.111630 from DATE-OBS'.\n",
      "WARNING: FITSFixedWarning: 'datfix' made the change 'Set MJD-OBS to 59914.111674 from DATE-OBS'. [astropy.wcs.wcs]\n",
      "WARNING:astropy:FITSFixedWarning: 'datfix' made the change 'Set MJD-OBS to 59914.111674 from DATE-OBS'.\n",
      "WARNING: FITSFixedWarning: 'datfix' made the change 'Set MJD-OBS to 59914.111719 from DATE-OBS'. [astropy.wcs.wcs]\n",
      "WARNING:astropy:FITSFixedWarning: 'datfix' made the change 'Set MJD-OBS to 59914.111719 from DATE-OBS'.\n",
      "WARNING: FITSFixedWarning: 'datfix' made the change 'Set MJD-OBS to 59914.111764 from DATE-OBS'. [astropy.wcs.wcs]\n",
      "WARNING:astropy:FITSFixedWarning: 'datfix' made the change 'Set MJD-OBS to 59914.111764 from DATE-OBS'.\n"
     ]
    },
    {
     "name": "stderr",
     "output_type": "stream",
     "text": [
      "WARNING: FITSFixedWarning: 'datfix' made the change 'Set MJD-OBS to 59914.136237 from DATE-OBS'. [astropy.wcs.wcs]\n",
      "WARNING:astropy:FITSFixedWarning: 'datfix' made the change 'Set MJD-OBS to 59914.136237 from DATE-OBS'.\n",
      "WARNING: FITSFixedWarning: 'datfix' made the change 'Set MJD-OBS to 59914.136260 from DATE-OBS'. [astropy.wcs.wcs]\n",
      "WARNING:astropy:FITSFixedWarning: 'datfix' made the change 'Set MJD-OBS to 59914.136260 from DATE-OBS'.\n",
      "WARNING: FITSFixedWarning: 'datfix' made the change 'Set MJD-OBS to 59914.136281 from DATE-OBS'. [astropy.wcs.wcs]\n",
      "WARNING:astropy:FITSFixedWarning: 'datfix' made the change 'Set MJD-OBS to 59914.136281 from DATE-OBS'.\n",
      "WARNING: FITSFixedWarning: 'datfix' made the change 'Set MJD-OBS to 59914.136302 from DATE-OBS'. [astropy.wcs.wcs]\n",
      "WARNING:astropy:FITSFixedWarning: 'datfix' made the change 'Set MJD-OBS to 59914.136302 from DATE-OBS'.\n",
      "WARNING: FITSFixedWarning: 'datfix' made the change 'Set MJD-OBS to 59914.136324 from DATE-OBS'. [astropy.wcs.wcs]\n",
      "WARNING:astropy:FITSFixedWarning: 'datfix' made the change 'Set MJD-OBS to 59914.136324 from DATE-OBS'.\n",
      "WARNING: FITSFixedWarning: 'datfix' made the change 'Set MJD-OBS to 59914.136345 from DATE-OBS'. [astropy.wcs.wcs]\n",
      "WARNING:astropy:FITSFixedWarning: 'datfix' made the change 'Set MJD-OBS to 59914.136345 from DATE-OBS'.\n",
      "WARNING: FITSFixedWarning: 'datfix' made the change 'Set MJD-OBS to 59914.136367 from DATE-OBS'. [astropy.wcs.wcs]\n",
      "WARNING:astropy:FITSFixedWarning: 'datfix' made the change 'Set MJD-OBS to 59914.136367 from DATE-OBS'.\n",
      "WARNING: FITSFixedWarning: 'datfix' made the change 'Set MJD-OBS to 59914.136388 from DATE-OBS'. [astropy.wcs.wcs]\n",
      "WARNING:astropy:FITSFixedWarning: 'datfix' made the change 'Set MJD-OBS to 59914.136388 from DATE-OBS'.\n",
      "WARNING: FITSFixedWarning: 'datfix' made the change 'Set MJD-OBS to 59914.136409 from DATE-OBS'. [astropy.wcs.wcs]\n",
      "WARNING:astropy:FITSFixedWarning: 'datfix' made the change 'Set MJD-OBS to 59914.136409 from DATE-OBS'.\n",
      "WARNING: FITSFixedWarning: 'datfix' made the change 'Set MJD-OBS to 59914.136431 from DATE-OBS'. [astropy.wcs.wcs]\n",
      "WARNING:astropy:FITSFixedWarning: 'datfix' made the change 'Set MJD-OBS to 59914.136431 from DATE-OBS'.\n",
      "WARNING: FITSFixedWarning: 'datfix' made the change 'Set MJD-OBS to 59914.136452 from DATE-OBS'. [astropy.wcs.wcs]\n",
      "WARNING:astropy:FITSFixedWarning: 'datfix' made the change 'Set MJD-OBS to 59914.136452 from DATE-OBS'.\n",
      "WARNING: FITSFixedWarning: 'datfix' made the change 'Set MJD-OBS to 59914.136473 from DATE-OBS'. [astropy.wcs.wcs]\n",
      "WARNING:astropy:FITSFixedWarning: 'datfix' made the change 'Set MJD-OBS to 59914.136473 from DATE-OBS'.\n",
      "WARNING: FITSFixedWarning: 'datfix' made the change 'Set MJD-OBS to 59914.136495 from DATE-OBS'. [astropy.wcs.wcs]\n",
      "WARNING:astropy:FITSFixedWarning: 'datfix' made the change 'Set MJD-OBS to 59914.136495 from DATE-OBS'.\n",
      "WARNING: FITSFixedWarning: 'datfix' made the change 'Set MJD-OBS to 59914.136516 from DATE-OBS'. [astropy.wcs.wcs]\n",
      "WARNING:astropy:FITSFixedWarning: 'datfix' made the change 'Set MJD-OBS to 59914.136516 from DATE-OBS'.\n",
      "WARNING: FITSFixedWarning: 'datfix' made the change 'Set MJD-OBS to 59914.136538 from DATE-OBS'. [astropy.wcs.wcs]\n",
      "WARNING:astropy:FITSFixedWarning: 'datfix' made the change 'Set MJD-OBS to 59914.136538 from DATE-OBS'.\n",
      "WARNING: FITSFixedWarning: 'datfix' made the change 'Set MJD-OBS to 59914.136559 from DATE-OBS'. [astropy.wcs.wcs]\n",
      "WARNING:astropy:FITSFixedWarning: 'datfix' made the change 'Set MJD-OBS to 59914.136559 from DATE-OBS'.\n",
      "WARNING: FITSFixedWarning: 'datfix' made the change 'Set MJD-OBS to 59914.136580 from DATE-OBS'. [astropy.wcs.wcs]\n",
      "WARNING:astropy:FITSFixedWarning: 'datfix' made the change 'Set MJD-OBS to 59914.136580 from DATE-OBS'.\n",
      "WARNING: FITSFixedWarning: 'datfix' made the change 'Set MJD-OBS to 59914.136601 from DATE-OBS'. [astropy.wcs.wcs]\n",
      "WARNING:astropy:FITSFixedWarning: 'datfix' made the change 'Set MJD-OBS to 59914.136601 from DATE-OBS'.\n",
      "WARNING: FITSFixedWarning: 'datfix' made the change 'Set MJD-OBS to 59914.136623 from DATE-OBS'. [astropy.wcs.wcs]\n",
      "WARNING:astropy:FITSFixedWarning: 'datfix' made the change 'Set MJD-OBS to 59914.136623 from DATE-OBS'.\n",
      "WARNING: FITSFixedWarning: 'datfix' made the change 'Set MJD-OBS to 59914.136644 from DATE-OBS'. [astropy.wcs.wcs]\n",
      "WARNING:astropy:FITSFixedWarning: 'datfix' made the change 'Set MJD-OBS to 59914.136644 from DATE-OBS'.\n",
      "WARNING: FITSFixedWarning: 'datfix' made the change 'Set MJD-OBS to 59914.136665 from DATE-OBS'. [astropy.wcs.wcs]\n",
      "WARNING:astropy:FITSFixedWarning: 'datfix' made the change 'Set MJD-OBS to 59914.136665 from DATE-OBS'.\n",
      "WARNING: FITSFixedWarning: 'datfix' made the change 'Set MJD-OBS to 59914.136687 from DATE-OBS'. [astropy.wcs.wcs]\n",
      "WARNING:astropy:FITSFixedWarning: 'datfix' made the change 'Set MJD-OBS to 59914.136687 from DATE-OBS'.\n",
      "WARNING: FITSFixedWarning: 'datfix' made the change 'Set MJD-OBS to 59914.136708 from DATE-OBS'. [astropy.wcs.wcs]\n",
      "WARNING:astropy:FITSFixedWarning: 'datfix' made the change 'Set MJD-OBS to 59914.136708 from DATE-OBS'.\n",
      "WARNING: FITSFixedWarning: 'datfix' made the change 'Set MJD-OBS to 59914.136730 from DATE-OBS'. [astropy.wcs.wcs]\n",
      "WARNING:astropy:FITSFixedWarning: 'datfix' made the change 'Set MJD-OBS to 59914.136730 from DATE-OBS'.\n",
      "WARNING: FITSFixedWarning: 'datfix' made the change 'Set MJD-OBS to 59914.136751 from DATE-OBS'. [astropy.wcs.wcs]\n",
      "WARNING:astropy:FITSFixedWarning: 'datfix' made the change 'Set MJD-OBS to 59914.136751 from DATE-OBS'.\n",
      "WARNING: FITSFixedWarning: 'datfix' made the change 'Set MJD-OBS to 59914.136773 from DATE-OBS'. [astropy.wcs.wcs]\n",
      "WARNING:astropy:FITSFixedWarning: 'datfix' made the change 'Set MJD-OBS to 59914.136773 from DATE-OBS'.\n",
      "WARNING: FITSFixedWarning: 'datfix' made the change 'Set MJD-OBS to 59914.136794 from DATE-OBS'. [astropy.wcs.wcs]\n",
      "WARNING:astropy:FITSFixedWarning: 'datfix' made the change 'Set MJD-OBS to 59914.136794 from DATE-OBS'.\n",
      "WARNING: FITSFixedWarning: 'datfix' made the change 'Set MJD-OBS to 59914.136815 from DATE-OBS'. [astropy.wcs.wcs]\n",
      "WARNING:astropy:FITSFixedWarning: 'datfix' made the change 'Set MJD-OBS to 59914.136815 from DATE-OBS'.\n",
      "WARNING: FITSFixedWarning: 'datfix' made the change 'Set MJD-OBS to 59914.136837 from DATE-OBS'. [astropy.wcs.wcs]\n",
      "WARNING:astropy:FITSFixedWarning: 'datfix' made the change 'Set MJD-OBS to 59914.136837 from DATE-OBS'.\n",
      "WARNING: FITSFixedWarning: 'datfix' made the change 'Set MJD-OBS to 59914.136858 from DATE-OBS'. [astropy.wcs.wcs]\n",
      "WARNING:astropy:FITSFixedWarning: 'datfix' made the change 'Set MJD-OBS to 59914.136858 from DATE-OBS'.\n"
     ]
    }
   ],
   "source": [
    "g_lights = [CCDData.read(file, unit=u.adu) for file in g_light_files]\n",
    "r_lights = [CCDData.read(file, unit=u.adu) for file in r_light_files]\n",
    "darks = [CCDData.read(file, unit=u.adu) for file in dark_files]\n",
    "g_flats = [CCDData.read(file, unit=u.adu) for file in g_flat_files]\n",
    "r_flats = [CCDData.read(file, unit=u.adu) for file in r_flat_files]\n",
    "biases = [CCDData.read(file, unit=u.adu) for file in bias_files]"
   ]
  },
  {
   "cell_type": "code",
   "execution_count": null,
   "id": "14586f05",
   "metadata": {},
   "outputs": [],
   "source": []
  }
 ],
 "metadata": {
  "kernelspec": {
   "display_name": "Python 3 (ipykernel)",
   "language": "python",
   "name": "python3"
  },
  "language_info": {
   "codemirror_mode": {
    "name": "ipython",
    "version": 3
   },
   "file_extension": ".py",
   "mimetype": "text/x-python",
   "name": "python",
   "nbconvert_exporter": "python",
   "pygments_lexer": "ipython3",
   "version": "3.9.13"
  }
 },
 "nbformat": 4,
 "nbformat_minor": 5
}
