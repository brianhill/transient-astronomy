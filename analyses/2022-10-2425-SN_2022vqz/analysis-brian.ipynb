{
 "cells": [
  {
   "cell_type": "markdown",
   "id": "1f49d623",
   "metadata": {},
   "source": [
    "## 2022-10-2122 SN 2022vqz\n",
    "\n",
    "*An analysis pipeline for our second night of supernova observation*\n",
    "\n",
    "For additional pipeline ideas, we may want to study [a notebook by Vivek Kumar Jha](https://github.com/viveikjha/aperture_photometry/blob/master/Reduction_demonstration.ipynb) from Aryabhatta Research Institute of Observational Sciences ([ARIES](https://www.aries.res.in)) and [a notebook by Erik Tollerud](https://notebook.community/LSSTC-DSFP/LSSTC-DSFP-Sessions/Session5/Day1/python_imred) from the Space Telescope Science Institute ([STScI](https://www.stsci.edu)).\n",
    "\n",
    "### Calibrate\n",
    "\n",
    "We are using a slightly non-standard but pleasantly clean calibration procedure which requires\n",
    "the lights and the darks to have the same exposure duration (typically of order 30s),\n",
    "and the flats and the biases to have the same exposure duration (typically 1s). The more standard but less clean\n",
    "procedure involves \"scaling\" the darks."
   ]
  },
  {
   "cell_type": "code",
   "execution_count": 1,
   "id": "a55d087f",
   "metadata": {},
   "outputs": [
    {
     "ename": "ModuleNotFoundError",
     "evalue": "No module named 'photutils'",
     "output_type": "error",
     "traceback": [
      "\u001b[0;31m---------------------------------------------------------------------------\u001b[0m",
      "\u001b[0;31mModuleNotFoundError\u001b[0m                       Traceback (most recent call last)",
      "\u001b[0;32m/var/folders/bc/t1_2mrbn49z91r65kqfpnb3m0000gn/T/ipykernel_10932/3820343495.py\u001b[0m in \u001b[0;36m<module>\u001b[0;34m\u001b[0m\n\u001b[1;32m      9\u001b[0m \u001b[0mget_ipython\u001b[0m\u001b[0;34m(\u001b[0m\u001b[0;34m)\u001b[0m\u001b[0;34m.\u001b[0m\u001b[0mrun_line_magic\u001b[0m\u001b[0;34m(\u001b[0m\u001b[0;34m'matplotlib'\u001b[0m\u001b[0;34m,\u001b[0m \u001b[0;34m'inline'\u001b[0m\u001b[0;34m)\u001b[0m\u001b[0;34m\u001b[0m\u001b[0;34m\u001b[0m\u001b[0m\n\u001b[1;32m     10\u001b[0m \u001b[0;32mimport\u001b[0m \u001b[0mastroalign\u001b[0m \u001b[0;32mas\u001b[0m \u001b[0maa\u001b[0m\u001b[0;34m\u001b[0m\u001b[0;34m\u001b[0m\u001b[0m\n\u001b[0;32m---> 11\u001b[0;31m \u001b[0;32mfrom\u001b[0m \u001b[0mphotutils\u001b[0m\u001b[0;34m.\u001b[0m\u001b[0maperture\u001b[0m \u001b[0;32mimport\u001b[0m \u001b[0mRectangularAperture\u001b[0m\u001b[0;34m,\u001b[0m \u001b[0mRectangularAnnulus\u001b[0m\u001b[0;34m\u001b[0m\u001b[0;34m\u001b[0m\u001b[0m\n\u001b[0m",
      "\u001b[0;31mModuleNotFoundError\u001b[0m: No module named 'photutils'"
     ]
    }
   ],
   "source": [
    "import os\n",
    "import numpy as np\n",
    "from astropy import units as u\n",
    "from astropy.nddata import CCDData\n",
    "from astropy.io import fits\n",
    "from ccdproc import ImageFileCollection, Combiner, combine, subtract_dark, flat_correct\n",
    "from astropy.visualization import imshow_norm, PercentileInterval, MinMaxInterval, SqrtStretch, LogStretch\n",
    "import matplotlib.pyplot as plt\n",
    "%matplotlib inline\n",
    "import astroalign as aa\n",
    "from photutils.aperture import RectangularAperture, RectangularAnnulus"
   ]
  },
  {
   "cell_type": "code",
   "execution_count": null,
   "id": "228fded3",
   "metadata": {},
   "outputs": [],
   "source": [
    "# for an analyses of an observation run done with only a single filter,\n",
    "# only the observation_date and the exposure times\n",
    "# will need to be changed\n",
    "\n",
    "observation_date = '2022-10-2425'\n",
    "light_exposure = 30 * u.second\n",
    "dark_exposure = light_exposure  # our method presumes this equality\n",
    "flat_exposure = 1 * u.second\n",
    "bias_exposure = flat_exposure  # our method presumes this equality"
   ]
  },
  {
   "cell_type": "code",
   "execution_count": null,
   "id": "1249ec48",
   "metadata": {},
   "outputs": [],
   "source": [
    "# directory where the data being analyzed is kept\n",
    "\n",
    "data_directory = os.path.join(os.path.expanduser('~'), 'Transients', observation_date)"
   ]
  },
  {
   "cell_type": "code",
   "execution_count": null,
   "id": "d628cbaa",
   "metadata": {},
   "outputs": [],
   "source": [
    "# subdirectories -- all relative to data_directory\n",
    "\n",
    "light_directory = os.path.join(data_directory, 'light')\n",
    "dark_directory = os.path.join(data_directory, 'dark')\n",
    "flat_directory = os.path.join(data_directory, 'flat')\n",
    "bias_directory = os.path.join(data_directory, 'bias')\n",
    "\n",
    "# the aligned directory is *written to* not read from\n",
    "\n",
    "aligned_directory = os.path.join(data_directory, 'aligned')\n",
    "if not os.path.exists(aligned_directory):\n",
    "    os.makedirs(aligned_directory)"
   ]
  },
  {
   "cell_type": "code",
   "execution_count": null,
   "id": "b0680f6e",
   "metadata": {},
   "outputs": [],
   "source": [
    "light_files = ImageFileCollection(light_directory).files_filtered(include_path='True')\n",
    "dark_files = ImageFileCollection(dark_directory).files_filtered(include_path='True')\n",
    "flat_files = ImageFileCollection(flat_directory).files_filtered(include_path='True')\n",
    "bias_files = ImageFileCollection(bias_directory).files_filtered(include_path='True')"
   ]
  },
  {
   "cell_type": "code",
   "execution_count": null,
   "id": "7e04a70e",
   "metadata": {},
   "outputs": [],
   "source": [
    "lights = [CCDData.read(file, unit=u.adu) for file in light_files]\n",
    "darks = [CCDData.read(file, unit=u.adu) for file in dark_files]\n",
    "flats = [CCDData.read(file, unit=u.adu) for file in flat_files]\n",
    "biases = [CCDData.read(file, unit=u.adu) for file in bias_files]"
   ]
  },
  {
   "cell_type": "code",
   "execution_count": null,
   "id": "75b9637c",
   "metadata": {},
   "outputs": [],
   "source": [
    "method = 'median'  # the method can be changed to 'average'\n",
    "\n",
    "master_dark = combine(darks, method=method)\n",
    "master_flat = combine(flats, method=method)\n",
    "master_bias = combine(biases, method=method)"
   ]
  },
  {
   "cell_type": "code",
   "execution_count": null,
   "id": "d02f2a33",
   "metadata": {},
   "outputs": [],
   "source": [
    "lights_subtracted = [subtract_dark(light,\n",
    "                                   master_dark,\n",
    "                                   data_exposure=light_exposure,\n",
    "                                   dark_exposure=dark_exposure,\n",
    "                                   scale=False)\n",
    "                     for light in lights]\n",
    "\n",
    "master_flat_subtracted = subtract_dark(master_flat,\n",
    "                                       master_bias,\n",
    "                                       data_exposure=flat_exposure,\n",
    "                                       dark_exposure=bias_exposure,\n",
    "                                       scale=False)"
   ]
  },
  {
   "cell_type": "code",
   "execution_count": null,
   "id": "ad1c81cf",
   "metadata": {
    "scrolled": false
   },
   "outputs": [],
   "source": [
    "lights_calibrated = [flat_correct(l, master_flat_subtracted) for l in lights_subtracted]"
   ]
  },
  {
   "cell_type": "markdown",
   "id": "d2ce5eaa",
   "metadata": {},
   "source": [
    "### Examine Calibration\n",
    "\n",
    "Here we experiment with LogStretch and SqrtStretch from astropy.visualization. Principally, we follow the examples in the [Image stretching and normalization](https://docs.astropy.org/en/stable/visualization/normalization.html) documentation from astropy.visualization."
   ]
  },
  {
   "cell_type": "code",
   "execution_count": null,
   "id": "39ef876b",
   "metadata": {},
   "outputs": [],
   "source": [
    "light = lights[0]"
   ]
  },
  {
   "cell_type": "code",
   "execution_count": null,
   "id": "f9baa40b",
   "metadata": {},
   "outputs": [],
   "source": [
    "calibrated_light = lights_calibrated[0]"
   ]
  },
  {
   "cell_type": "code",
   "execution_count": null,
   "id": "d3b98465",
   "metadata": {
    "scrolled": true
   },
   "outputs": [],
   "source": [
    "interval_95 = PercentileInterval(95)\n",
    "sqrt_stretch = SqrtStretch()\n",
    "log_stretch = LogStretch()\n",
    "\n",
    "fig, axes = plt.subplots(1, 2, figsize=(10, 10))\n",
    "\n",
    "im_l, norm_l = imshow_norm(light, axes[0], cmap='gray', origin='lower',\n",
    "                       interval=interval_95, stretch=sqrt_stretch)\n",
    "axes[0].set_title(\"Light\")\n",
    "\n",
    "im_c_l, norm_c_l = imshow_norm(calibrated_light, axes[1], cmap='gray', origin='lower',\n",
    "                       interval=interval_95, stretch=sqrt_stretch)\n",
    "axes[1].set_title(\"Calibrated Light\")\n",
    "\n",
    "plt.tight_layout()\n",
    "plt.show()"
   ]
  },
  {
   "cell_type": "markdown",
   "id": "3b6df23b",
   "metadata": {},
   "source": [
    "Our calibrated images appear to have both vignetting and the shadows of dust motes well-removed."
   ]
  },
  {
   "cell_type": "markdown",
   "id": "82c56e2b",
   "metadata": {},
   "source": [
    "### Create and Write the Aligned Lights\n",
    "\n",
    "From here on, we only have use for the calibrated lights. The last step before combining them is alignment."
   ]
  },
  {
   "cell_type": "code",
   "execution_count": null,
   "id": "3d5d4c07",
   "metadata": {},
   "outputs": [],
   "source": [
    "# This attempt to rotate and zoom lights_calibrated[1] is not working.\n",
    "# The idea was to stress-test aa.register().\n",
    "# Just comment the stress test out for now.\n",
    "\n",
    "# from scipy.ndimage import rotate, zoom\n",
    "# image_to_rotate = lights_calibrated[1]\n",
    "# image_rotated = rotate(image_to_rotate, angle=30.0, reshape=False)\n",
    "# image_rotated_and_zoomed = zoom(image_rotated, 1.5, order=2)\n",
    "# lights_calibrated[1] = image_rotated_and_zoomed"
   ]
  },
  {
   "cell_type": "code",
   "execution_count": null,
   "id": "b98312a5",
   "metadata": {},
   "outputs": [],
   "source": [
    "reference_light = lights_calibrated[0]"
   ]
  },
  {
   "cell_type": "code",
   "execution_count": null,
   "id": "5e88972f",
   "metadata": {},
   "outputs": [],
   "source": [
    "lights_aligned_with_footprints = [aa.register(l, reference_light, detection_sigma=3.0) for l in lights_calibrated]"
   ]
  },
  {
   "cell_type": "code",
   "execution_count": null,
   "id": "0e6d86f8",
   "metadata": {},
   "outputs": [],
   "source": [
    "for i in range(0, len(lights)):\n",
    "    light_header = lights[i][0].header\n",
    "    light_aligned_data = lights_aligned_with_footprints[i][0]\n",
    "    aligned_file = os.path.join(aligned_directory, os.path.basename(light_files[i]))\n",
    "    aligned_file2 = os.path.splitext(aligned_file)[0] + '_aligned.fit'\n",
    "    fits.writeto(aligned_file2, light_aligned_data, light_header, overwrite=True)"
   ]
  },
  {
   "cell_type": "markdown",
   "id": "f067b97f",
   "metadata": {},
   "source": [
    "### Examine Alignment\n",
    "\n",
    "Let's examine the last aligned image in comparison with the first (reference) image."
   ]
  },
  {
   "cell_type": "code",
   "execution_count": null,
   "id": "518420e7",
   "metadata": {},
   "outputs": [],
   "source": [
    "light = lights_calibrated[-1]"
   ]
  },
  {
   "cell_type": "code",
   "execution_count": null,
   "id": "6996c2a4",
   "metadata": {},
   "outputs": [],
   "source": [
    "light_aligned, footprint = lights_aligned_with_footprints[-1]"
   ]
  },
  {
   "cell_type": "code",
   "execution_count": null,
   "id": "9dcd85df",
   "metadata": {
    "scrolled": true
   },
   "outputs": [],
   "source": [
    "fig, axes = plt.subplots(2, 2, figsize=(10, 10))\n",
    "\n",
    "_, _ = imshow_norm(light, axes[0, 0], cmap='gray', origin='lower',\n",
    "           interval=interval_95, stretch=sqrt_stretch)\n",
    "axes[0, 0].set_title(\"Light\")\n",
    "\n",
    "_, _ = imshow_norm(reference_light, axes[0, 1], cmap='gray', origin='lower',\n",
    "           interval=interval_95, stretch=sqrt_stretch)\n",
    "axes[0, 1].set_title(\"Reference Light\")\n",
    "\n",
    "_, _ = imshow_norm(light_aligned, axes[1, 0], cmap='gray', origin='lower',\n",
    "           interval=interval_95, stretch=sqrt_stretch)\n",
    "axes[1, 0].set_title(\"Light Aligned\")\n",
    "\n",
    "axes[1, 1].imshow(footprint, cmap='gray', interpolation='none', origin='lower')\n",
    "axes[1, 1].set_title(\"Footprint\")\n",
    "\n",
    "plt.tight_layout()\n",
    "plt.show()"
   ]
  },
  {
   "cell_type": "markdown",
   "id": "81ad9930",
   "metadata": {},
   "source": [
    "The auto-guider locked on so well that there is nothing to see."
   ]
  },
  {
   "cell_type": "markdown",
   "id": "99b097b5",
   "metadata": {},
   "source": [
    "### Combine the Aligned Lights"
   ]
  },
  {
   "cell_type": "code",
   "execution_count": null,
   "id": "fa7b59a8",
   "metadata": {},
   "outputs": [],
   "source": [
    "aligned_files = ImageFileCollection(aligned_directory).files_filtered(include_path='True')\n",
    "combined_light = combine([CCDData.read(file, unit=u.adu) for file in aligned_files], method=method)"
   ]
  },
  {
   "cell_type": "markdown",
   "id": "7db70b6b",
   "metadata": {},
   "source": [
    "### Examine the Combined Light"
   ]
  },
  {
   "cell_type": "code",
   "execution_count": null,
   "id": "2f116ddd",
   "metadata": {
    "scrolled": true
   },
   "outputs": [],
   "source": [
    "fig, axes = plt.subplots(1, 1, figsize=(10, 10))\n",
    "\n",
    "# log_stretch = LogStretch()  # the default log stretch is not as good as the default square-root stretch\n",
    "\n",
    "_, _ = imshow_norm(combined_light, axes, cmap='gray', origin='lower',\n",
    "                   interval=interval_95, stretch=sqrt_stretch)\n",
    "axes.set_title(\"Combined Light\")\n",
    "\n",
    "plt.tight_layout()\n",
    "plt.show()"
   ]
  },
  {
   "cell_type": "markdown",
   "id": "e8df8be9",
   "metadata": {},
   "source": [
    "### Perform Aperture-Annulus Photometry"
   ]
  },
  {
   "cell_type": "code",
   "execution_count": 6,
   "id": "da6f252e",
   "metadata": {},
   "outputs": [],
   "source": [
    "positions = [(30., 30.), (40., 40.)]\n",
    "aperture_width, aperture_height = 10.0, 10.0\n",
    "annulus_inner_width, annulus_inner_height = 20.0, 20.0\n",
    "annulus_outer_width, annulus_outer_height = 20.0, 20.0"
   ]
  },
  {
   "cell_type": "code",
   "execution_count": 7,
   "id": "d8cec486",
   "metadata": {},
   "outputs": [
    {
     "ename": "NameError",
     "evalue": "name 'RectangularAperture' is not defined",
     "output_type": "error",
     "traceback": [
      "\u001b[0;31m---------------------------------------------------------------------------\u001b[0m",
      "\u001b[0;31mNameError\u001b[0m                                 Traceback (most recent call last)",
      "\u001b[0;32m/var/folders/bc/t1_2mrbn49z91r65kqfpnb3m0000gn/T/ipykernel_10932/131168026.py\u001b[0m in \u001b[0;36m<module>\u001b[0;34m\u001b[0m\n\u001b[0;32m----> 1\u001b[0;31m \u001b[0mRectangularAperture\u001b[0m\u001b[0;34m[\u001b[0m\u001b[0mpositions\u001b[0m\u001b[0;34m,\u001b[0m \u001b[0maperture_width\u001b[0m\u001b[0;34m,\u001b[0m \u001b[0maperture_height\u001b[0m\u001b[0;34m]\u001b[0m\u001b[0;34m\u001b[0m\u001b[0;34m\u001b[0m\u001b[0m\n\u001b[0m",
      "\u001b[0;31mNameError\u001b[0m: name 'RectangularAperture' is not defined"
     ]
    }
   ],
   "source": [
    "RectangularAperture[positions, aperture_width, aperture_height]"
   ]
  },
  {
   "cell_type": "code",
   "execution_count": null,
   "id": "25a6403a",
   "metadata": {},
   "outputs": [],
   "source": []
  },
  {
   "cell_type": "code",
   "execution_count": null,
   "id": "b3118058",
   "metadata": {},
   "outputs": [],
   "source": []
  },
  {
   "cell_type": "code",
   "execution_count": null,
   "id": "2e2d4d99",
   "metadata": {},
   "outputs": [],
   "source": []
  }
 ],
 "metadata": {
  "kernelspec": {
   "display_name": "Python 3 (ipykernel)",
   "language": "python",
   "name": "python3"
  },
  "language_info": {
   "codemirror_mode": {
    "name": "ipython",
    "version": 3
   },
   "file_extension": ".py",
   "mimetype": "text/x-python",
   "name": "python",
   "nbconvert_exporter": "python",
   "pygments_lexer": "ipython3",
   "version": "3.9.13"
  }
 },
 "nbformat": 4,
 "nbformat_minor": 5
}
