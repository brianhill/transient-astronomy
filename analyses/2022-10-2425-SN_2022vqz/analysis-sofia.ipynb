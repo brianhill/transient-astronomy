{
 "cells": [
  {
   "cell_type": "markdown",
   "id": "1f49d623",
   "metadata": {},
   "source": [
    "## 2022-10-2122 SN 2022vqz\n",
    "\n",
    "Analysis by Sofia"
   ]
  },
  {
   "cell_type": "code",
   "execution_count": 1,
   "id": "a55d087f",
   "metadata": {},
   "outputs": [],
   "source": [
    "import os"
   ]
  },
  {
   "cell_type": "code",
   "execution_count": 2,
   "id": "228fded3",
   "metadata": {},
   "outputs": [],
   "source": [
    "observation_date = '2022-10-2425'"
   ]
  },
  {
   "cell_type": "code",
   "execution_count": 3,
   "id": "1249ec48",
   "metadata": {},
   "outputs": [],
   "source": [
    "data_directory = os.path.join(os.path.expanduser('~'), 'Transients', observation_date)"
   ]
  },
  {
   "cell_type": "code",
   "execution_count": 4,
   "id": "d628cbaa",
   "metadata": {},
   "outputs": [],
   "source": [
    "light_directory = os.path.join(data_directory, 'light')\n",
    "dark_directory = os.path.join(data_directory, 'dark')\n",
    "flat_directory = os.path.join(data_directory, 'flat')\n",
    "bias_directory = os.path.join(data_directory, 'bias')"
   ]
  },
  {
   "cell_type": "code",
   "execution_count": 5,
   "id": "b0680f6e",
   "metadata": {},
   "outputs": [],
   "source": [
    "import numpy as np"
   ]
  },
  {
   "cell_type": "code",
   "execution_count": 6,
   "id": "7e04a70e",
   "metadata": {},
   "outputs": [],
   "source": [
    "from astropy import units as u"
   ]
  },
  {
   "cell_type": "code",
   "execution_count": 7,
   "id": "75b9637c",
   "metadata": {},
   "outputs": [],
   "source": [
    "from astropy.nddata import CCDData"
   ]
  },
  {
   "cell_type": "code",
   "execution_count": 8,
   "id": "d02f2a33",
   "metadata": {},
   "outputs": [],
   "source": [
    "import ccdproc"
   ]
  },
  {
   "cell_type": "code",
   "execution_count": 9,
   "id": "ad1c81cf",
   "metadata": {},
   "outputs": [],
   "source": [
    "first_light = '_CBB_4x4_60.000secs_0.00C_00007359.fit'"
   ]
  },
  {
   "cell_type": "code",
   "execution_count": 10,
   "id": "b97e9f9b",
   "metadata": {},
   "outputs": [],
   "source": [
    "image_filename = os.path.join(light_directory, first_light)"
   ]
  },
  {
   "cell_type": "code",
   "execution_count": 11,
   "id": "bb422f3c",
   "metadata": {},
   "outputs": [
    {
     "name": "stderr",
     "output_type": "stream",
     "text": [
      "WARNING: FITSFixedWarning: 'datfix' made the change 'Set MJD-OBS to 59877.233090 from DATE-OBS'. [astropy.wcs.wcs]\n",
      "WARNING: FITSFixedWarning: 'obsfix' made the change 'Set OBSGEO-X to -2381433.687 from OBSGEO-[LBH].\n",
      "Set OBSGEO-Y to -4483197.997 from OBSGEO-[LBH].\n",
      "Set OBSGEO-Z to  3851226.198 from OBSGEO-[LBH]'. [astropy.wcs.wcs]\n"
     ]
    }
   ],
   "source": [
    "first_light = CCDData.read(image_filename, unit=\"electron\")"
   ]
  },
  {
   "cell_type": "code",
   "execution_count": 12,
   "id": "890a1d40",
   "metadata": {},
   "outputs": [],
   "source": [
    "import matplotlib"
   ]
  },
  {
   "cell_type": "code",
   "execution_count": 13,
   "id": "fb17f188",
   "metadata": {},
   "outputs": [
    {
     "ename": "SyntaxError",
     "evalue": "invalid syntax (124394887.py, line 1)",
     "output_type": "error",
     "traceback": [
      "\u001b[0;36m  File \u001b[0;32m\"/var/folders/gt/h26vthyj5qd_7p24nbk4k6_40000gp/T/ipykernel_62228/124394887.py\"\u001b[0;36m, line \u001b[0;32m1\u001b[0m\n\u001b[0;31m    from light_directory import show _CBB_4x4_60.000secs_-0.30C_00007360.fit\u001b[0m\n\u001b[0m                                     ^\u001b[0m\n\u001b[0;31mSyntaxError\u001b[0m\u001b[0;31m:\u001b[0m invalid syntax\n"
     ]
    }
   ],
   "source": [
    "from light_directory import show _CBB_4x4_60.000secs_-0.30C_00007360.fit\n"
   ]
  },
  {
   "cell_type": "code",
   "execution_count": null,
   "id": "9be87385",
   "metadata": {},
   "outputs": [],
   "source": [
    "## The above is me trying something from the tutorial"
   ]
  },
  {
   "cell_type": "code",
   "execution_count": null,
   "id": "6adab8d1",
   "metadata": {},
   "outputs": [],
   "source": [
    "import os\n",
    "\n",
    "%matplotlib inline\n",
    "from matplotlib import pyplot as plt\n",
    "import numpy as np\n"
   ]
  }
 ],
 "metadata": {
  "kernelspec": {
   "display_name": "Python 3 (ipykernel)",
   "language": "python",
   "name": "python3"
  },
  "language_info": {
   "codemirror_mode": {
    "name": "ipython",
    "version": 3
   },
   "file_extension": ".py",
   "mimetype": "text/x-python",
   "name": "python",
   "nbconvert_exporter": "python",
   "pygments_lexer": "ipython3",
   "version": "3.9.13"
  }
 },
 "nbformat": 4,
 "nbformat_minor": 5
}
