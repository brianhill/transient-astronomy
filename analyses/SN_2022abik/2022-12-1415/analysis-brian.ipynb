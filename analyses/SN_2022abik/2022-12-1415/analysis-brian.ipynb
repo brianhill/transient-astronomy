{
 "cells": [
  {
   "cell_type": "markdown",
   "id": "c9041218",
   "metadata": {},
   "source": [
    "## Median Subtraction"
   ]
  },
  {
   "cell_type": "code",
   "execution_count": 27,
   "id": "bd0c4d03",
   "metadata": {},
   "outputs": [],
   "source": [
    "import numpy as np"
   ]
  },
  {
   "cell_type": "code",
   "execution_count": 28,
   "id": "07ebe230",
   "metadata": {},
   "outputs": [],
   "source": [
    "a = np.array([[11, 12, 13, 2530, 11], [16, 18, 4800, 17, 18]])"
   ]
  },
  {
   "cell_type": "code",
   "execution_count": 30,
   "id": "680ac777",
   "metadata": {},
   "outputs": [],
   "source": [
    "m = np.median(a, axis=1, keepdims=True)"
   ]
  },
  {
   "cell_type": "markdown",
   "id": "d8a1800a",
   "metadata": {},
   "source": [
    "m"
   ]
  },
  {
   "cell_type": "code",
   "execution_count": 31,
   "id": "28cd782e",
   "metadata": {},
   "outputs": [
    {
     "data": {
      "text/plain": [
       "(2, 1)"
      ]
     },
     "execution_count": 31,
     "metadata": {},
     "output_type": "execute_result"
    }
   ],
   "source": [
    "np.shape(m)"
   ]
  },
  {
   "cell_type": "code",
   "execution_count": 32,
   "id": "fffd35a8",
   "metadata": {},
   "outputs": [
    {
     "data": {
      "text/plain": [
       "(2, 5)"
      ]
     },
     "execution_count": 32,
     "metadata": {},
     "output_type": "execute_result"
    }
   ],
   "source": [
    "np.shape(a)"
   ]
  },
  {
   "cell_type": "code",
   "execution_count": 33,
   "id": "53e7c918",
   "metadata": {},
   "outputs": [],
   "source": [
    "b = a - m"
   ]
  },
  {
   "cell_type": "code",
   "execution_count": 34,
   "id": "c009c478",
   "metadata": {
    "scrolled": true
   },
   "outputs": [
    {
     "data": {
      "text/plain": [
       "array([[-1.000e+00,  0.000e+00,  1.000e+00,  2.518e+03, -1.000e+00],\n",
       "       [-2.000e+00,  0.000e+00,  4.782e+03, -1.000e+00,  0.000e+00]])"
      ]
     },
     "execution_count": 34,
     "metadata": {},
     "output_type": "execute_result"
    }
   ],
   "source": [
    "b"
   ]
  },
  {
   "cell_type": "markdown",
   "id": "00ee053c",
   "metadata": {},
   "source": [
    "## Log Stretch"
   ]
  },
  {
   "cell_type": "code",
   "execution_count": 9,
   "id": "a4299d8c",
   "metadata": {},
   "outputs": [],
   "source": [
    "from math import log10, floor\n",
    "\n",
    "def log_stretch_transform(black_point, saturation_range):\n",
    "    \n",
    "    log_saturation_range = log10(saturation_range)\n",
    "    \n",
    "    def fn(pixel_value):\n",
    "        pixel_value -= black_point\n",
    "        if pixel_value <= 1.0:\n",
    "            return 0\n",
    "        else:\n",
    "            log_pixel_value = log10(pixel_value)\n",
    "            if log_pixel_value >= log_saturation_range:\n",
    "                return 255;\n",
    "            else:\n",
    "                return floor(256 * log_pixel_value / log_saturation_range)\n",
    "        \n",
    "    return fn\n"
   ]
  },
  {
   "cell_type": "code",
   "execution_count": 45,
   "id": "66a155ef",
   "metadata": {},
   "outputs": [],
   "source": [
    "transform = np.vectorize(log_stretch_transform(0, 5000))"
   ]
  },
  {
   "cell_type": "code",
   "execution_count": 46,
   "id": "ae4a1ece",
   "metadata": {},
   "outputs": [],
   "source": [
    "b_transformed = transform(b)"
   ]
  },
  {
   "cell_type": "code",
   "execution_count": 47,
   "id": "3342931a",
   "metadata": {},
   "outputs": [
    {
     "data": {
      "text/plain": [
       "array([[  0,   0,   0, 235,   0],\n",
       "       [  0,   0, 254,   0,   0]])"
      ]
     },
     "execution_count": 47,
     "metadata": {},
     "output_type": "execute_result"
    }
   ],
   "source": [
    "b_transformed"
   ]
  }
 ],
 "metadata": {
  "kernelspec": {
   "display_name": "Python 3 (ipykernel)",
   "language": "python",
   "name": "python3"
  },
  "language_info": {
   "codemirror_mode": {
    "name": "ipython",
    "version": 3
   },
   "file_extension": ".py",
   "mimetype": "text/x-python",
   "name": "python",
   "nbconvert_exporter": "python",
   "pygments_lexer": "ipython3",
   "version": "3.9.13"
  }
 },
 "nbformat": 4,
 "nbformat_minor": 5
}
