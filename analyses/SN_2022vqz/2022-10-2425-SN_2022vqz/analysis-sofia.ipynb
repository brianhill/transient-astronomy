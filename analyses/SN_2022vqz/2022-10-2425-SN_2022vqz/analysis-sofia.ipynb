{
 "cells": [
  {
   "cell_type": "markdown",
   "id": "1f49d623",
   "metadata": {},
   "source": [
    "## 2022-10-2122 SN 2022vqz\n",
    "\n",
    "Analysis by Sofia"
   ]
  },
  {
   "cell_type": "code",
   "execution_count": 1,
   "id": "a55d087f",
   "metadata": {},
   "outputs": [],
   "source": [
    "import os\n",
    "import numpy as np\n",
    "from astropy import units as u\n",
    "from astropy.nddata import CCDData\n",
    "from ccdproc import ImageFileCollection, Combiner, combine, subtract_dark, flat_correct\n",
    "import matplotlib.pyplot as plt\n",
    "%matplotlib inline\n",
    "import astroalign as aa"
   ]
  },
  {
   "cell_type": "markdown",
   "id": "cd2cc489",
   "metadata": {},
   "source": [
    "### Calibration using CCDProc"
   ]
  },
  {
   "cell_type": "code",
   "execution_count": 2,
   "id": "228fded3",
   "metadata": {},
   "outputs": [],
   "source": [
    "observation_date = '2022-10-2425'\n",
    "light_exposure = 30 * u.second\n",
    "dark_exposure = light_exposure  # our method presumes this equality\n",
    "flat_exposure = 1 * u.second\n",
    "bias_exposure = flat_exposure  # our method presumes this equality\n",
    "method = 'median'"
   ]
  },
  {
   "cell_type": "code",
   "execution_count": 3,
   "id": "1249ec48",
   "metadata": {},
   "outputs": [],
   "source": [
    "data_directory = os.path.join(os.path.expanduser('~'), 'Transients', observation_date)"
   ]
  },
  {
   "cell_type": "code",
   "execution_count": 4,
   "id": "d628cbaa",
   "metadata": {},
   "outputs": [],
   "source": [
    "light_directory = os.path.join(data_directory, 'light')\n",
    "dark_directory = os.path.join(data_directory, 'dark')\n",
    "flat_directory = os.path.join(data_directory, 'flat')\n",
    "bias_directory = os.path.join(data_directory, 'bias')"
   ]
  },
  {
   "cell_type": "code",
   "execution_count": 5,
   "id": "b0680f6e",
   "metadata": {},
   "outputs": [],
   "source": [
    "light_files = ImageFileCollection(light_directory).files_filtered(include_path='True')\n",
    "dark_files = ImageFileCollection(dark_directory).files_filtered(include_path='True')\n",
    "flat_files = ImageFileCollection(flat_directory).files_filtered(include_path='True')\n",
    "bias_files = ImageFileCollection(bias_directory).files_filtered(include_path='True')"
   ]
  },
  {
   "cell_type": "code",
   "execution_count": 6,
   "id": "7e04a70e",
   "metadata": {},
   "outputs": [
    {
     "name": "stderr",
     "output_type": "stream",
     "text": [
      "WARNING: FITSFixedWarning: 'datfix' made the change 'Set MJD-OBS to 59877.233835 from DATE-OBS'. [astropy.wcs.wcs]\n",
      "WARNING:astropy:FITSFixedWarning: 'datfix' made the change 'Set MJD-OBS to 59877.233835 from DATE-OBS'.\n",
      "WARNING: FITSFixedWarning: 'obsfix' made the change 'Set OBSGEO-X to -2381433.687 from OBSGEO-[LBH].\n",
      "Set OBSGEO-Y to -4483197.997 from OBSGEO-[LBH].\n",
      "Set OBSGEO-Z to  3851226.198 from OBSGEO-[LBH]'. [astropy.wcs.wcs]\n",
      "WARNING:astropy:FITSFixedWarning: 'obsfix' made the change 'Set OBSGEO-X to -2381433.687 from OBSGEO-[LBH].\n",
      "Set OBSGEO-Y to -4483197.997 from OBSGEO-[LBH].\n",
      "Set OBSGEO-Z to  3851226.198 from OBSGEO-[LBH]'.\n",
      "WARNING: FITSFixedWarning: 'datfix' made the change 'Set MJD-OBS to 59877.234575 from DATE-OBS'. [astropy.wcs.wcs]\n",
      "WARNING:astropy:FITSFixedWarning: 'datfix' made the change 'Set MJD-OBS to 59877.234575 from DATE-OBS'.\n",
      "WARNING: FITSFixedWarning: 'datfix' made the change 'Set MJD-OBS to 59877.235316 from DATE-OBS'. [astropy.wcs.wcs]\n",
      "WARNING:astropy:FITSFixedWarning: 'datfix' made the change 'Set MJD-OBS to 59877.235316 from DATE-OBS'.\n",
      "WARNING: FITSFixedWarning: 'datfix' made the change 'Set MJD-OBS to 59877.236057 from DATE-OBS'. [astropy.wcs.wcs]\n",
      "WARNING:astropy:FITSFixedWarning: 'datfix' made the change 'Set MJD-OBS to 59877.236057 from DATE-OBS'.\n",
      "WARNING: FITSFixedWarning: 'datfix' made the change 'Set MJD-OBS to 59877.238279 from DATE-OBS'. [astropy.wcs.wcs]\n",
      "WARNING:astropy:FITSFixedWarning: 'datfix' made the change 'Set MJD-OBS to 59877.238279 from DATE-OBS'.\n",
      "WARNING: FITSFixedWarning: 'datfix' made the change 'Set MJD-OBS to 59877.239020 from DATE-OBS'. [astropy.wcs.wcs]\n",
      "WARNING:astropy:FITSFixedWarning: 'datfix' made the change 'Set MJD-OBS to 59877.239020 from DATE-OBS'.\n",
      "WARNING: FITSFixedWarning: 'datfix' made the change 'Set MJD-OBS to 59877.239760 from DATE-OBS'. [astropy.wcs.wcs]\n",
      "WARNING:astropy:FITSFixedWarning: 'datfix' made the change 'Set MJD-OBS to 59877.239760 from DATE-OBS'.\n",
      "WARNING: FITSFixedWarning: 'datfix' made the change 'Set MJD-OBS to 59877.241981 from DATE-OBS'. [astropy.wcs.wcs]\n",
      "WARNING:astropy:FITSFixedWarning: 'datfix' made the change 'Set MJD-OBS to 59877.241981 from DATE-OBS'.\n",
      "WARNING: FITSFixedWarning: 'datfix' made the change 'Set MJD-OBS to 59877.242721 from DATE-OBS'. [astropy.wcs.wcs]\n",
      "WARNING:astropy:FITSFixedWarning: 'datfix' made the change 'Set MJD-OBS to 59877.242721 from DATE-OBS'.\n",
      "WARNING: FITSFixedWarning: 'datfix' made the change 'Set MJD-OBS to 59877.252379 from DATE-OBS'. [astropy.wcs.wcs]\n",
      "WARNING:astropy:FITSFixedWarning: 'datfix' made the change 'Set MJD-OBS to 59877.252379 from DATE-OBS'.\n",
      "WARNING: FITSFixedWarning: 'datfix' made the change 'Set MJD-OBS to 59877.253119 from DATE-OBS'. [astropy.wcs.wcs]\n",
      "WARNING:astropy:FITSFixedWarning: 'datfix' made the change 'Set MJD-OBS to 59877.253119 from DATE-OBS'.\n",
      "WARNING: FITSFixedWarning: 'datfix' made the change 'Set MJD-OBS to 59877.253859 from DATE-OBS'. [astropy.wcs.wcs]\n",
      "WARNING:astropy:FITSFixedWarning: 'datfix' made the change 'Set MJD-OBS to 59877.253859 from DATE-OBS'.\n",
      "WARNING: FITSFixedWarning: 'datfix' made the change 'Set MJD-OBS to 59877.254599 from DATE-OBS'. [astropy.wcs.wcs]\n",
      "WARNING:astropy:FITSFixedWarning: 'datfix' made the change 'Set MJD-OBS to 59877.254599 from DATE-OBS'.\n",
      "WARNING: FITSFixedWarning: 'datfix' made the change 'Set MJD-OBS to 59877.255340 from DATE-OBS'. [astropy.wcs.wcs]\n",
      "WARNING:astropy:FITSFixedWarning: 'datfix' made the change 'Set MJD-OBS to 59877.255340 from DATE-OBS'.\n",
      "WARNING: FITSFixedWarning: 'datfix' made the change 'Set MJD-OBS to 59877.256080 from DATE-OBS'. [astropy.wcs.wcs]\n",
      "WARNING:astropy:FITSFixedWarning: 'datfix' made the change 'Set MJD-OBS to 59877.256080 from DATE-OBS'.\n",
      "WARNING: FITSFixedWarning: 'datfix' made the change 'Set MJD-OBS to 59877.256821 from DATE-OBS'. [astropy.wcs.wcs]\n",
      "WARNING:astropy:FITSFixedWarning: 'datfix' made the change 'Set MJD-OBS to 59877.256821 from DATE-OBS'.\n",
      "WARNING: FITSFixedWarning: 'datfix' made the change 'Set MJD-OBS to 59877.258302 from DATE-OBS'. [astropy.wcs.wcs]\n",
      "WARNING:astropy:FITSFixedWarning: 'datfix' made the change 'Set MJD-OBS to 59877.258302 from DATE-OBS'.\n",
      "WARNING: FITSFixedWarning: 'datfix' made the change 'Set MJD-OBS to 59877.259043 from DATE-OBS'. [astropy.wcs.wcs]\n",
      "WARNING:astropy:FITSFixedWarning: 'datfix' made the change 'Set MJD-OBS to 59877.259043 from DATE-OBS'.\n",
      "WARNING: FITSFixedWarning: 'datfix' made the change 'Set MJD-OBS to 59877.259783 from DATE-OBS'. [astropy.wcs.wcs]\n",
      "WARNING:astropy:FITSFixedWarning: 'datfix' made the change 'Set MJD-OBS to 59877.259783 from DATE-OBS'.\n",
      "WARNING: FITSFixedWarning: 'datfix' made the change 'Set MJD-OBS to 59877.261264 from DATE-OBS'. [astropy.wcs.wcs]\n",
      "WARNING:astropy:FITSFixedWarning: 'datfix' made the change 'Set MJD-OBS to 59877.261264 from DATE-OBS'.\n",
      "WARNING: FITSFixedWarning: 'datfix' made the change 'Set MJD-OBS to 59877.262004 from DATE-OBS'. [astropy.wcs.wcs]\n",
      "WARNING:astropy:FITSFixedWarning: 'datfix' made the change 'Set MJD-OBS to 59877.262004 from DATE-OBS'.\n",
      "WARNING: FITSFixedWarning: 'datfix' made the change 'Set MJD-OBS to 59877.233090 from DATE-OBS'. [astropy.wcs.wcs]\n",
      "WARNING:astropy:FITSFixedWarning: 'datfix' made the change 'Set MJD-OBS to 59877.233090 from DATE-OBS'.\n",
      "WARNING: FITSFixedWarning: 'datfix' made the change 'Set MJD-OBS to 59877.236798 from DATE-OBS'. [astropy.wcs.wcs]\n",
      "WARNING:astropy:FITSFixedWarning: 'datfix' made the change 'Set MJD-OBS to 59877.236798 from DATE-OBS'.\n",
      "WARNING: FITSFixedWarning: 'datfix' made the change 'Set MJD-OBS to 59877.237539 from DATE-OBS'. [astropy.wcs.wcs]\n",
      "WARNING:astropy:FITSFixedWarning: 'datfix' made the change 'Set MJD-OBS to 59877.237539 from DATE-OBS'.\n",
      "WARNING: FITSFixedWarning: 'datfix' made the change 'Set MJD-OBS to 59877.240500 from DATE-OBS'. [astropy.wcs.wcs]\n",
      "WARNING:astropy:FITSFixedWarning: 'datfix' made the change 'Set MJD-OBS to 59877.240500 from DATE-OBS'.\n",
      "WARNING: FITSFixedWarning: 'datfix' made the change 'Set MJD-OBS to 59877.241241 from DATE-OBS'. [astropy.wcs.wcs]\n",
      "WARNING:astropy:FITSFixedWarning: 'datfix' made the change 'Set MJD-OBS to 59877.241241 from DATE-OBS'.\n",
      "WARNING: FITSFixedWarning: 'datfix' made the change 'Set MJD-OBS to 59877.243462 from DATE-OBS'. [astropy.wcs.wcs]\n",
      "WARNING:astropy:FITSFixedWarning: 'datfix' made the change 'Set MJD-OBS to 59877.243462 from DATE-OBS'.\n",
      "WARNING: FITSFixedWarning: 'datfix' made the change 'Set MJD-OBS to 59877.251632 from DATE-OBS'. [astropy.wcs.wcs]\n",
      "WARNING:astropy:FITSFixedWarning: 'datfix' made the change 'Set MJD-OBS to 59877.251632 from DATE-OBS'.\n",
      "WARNING: FITSFixedWarning: 'datfix' made the change 'Set MJD-OBS to 59877.257561 from DATE-OBS'. [astropy.wcs.wcs]\n",
      "WARNING:astropy:FITSFixedWarning: 'datfix' made the change 'Set MJD-OBS to 59877.257561 from DATE-OBS'.\n",
      "WARNING: FITSFixedWarning: 'datfix' made the change 'Set MJD-OBS to 59877.260524 from DATE-OBS'. [astropy.wcs.wcs]\n",
      "WARNING:astropy:FITSFixedWarning: 'datfix' made the change 'Set MJD-OBS to 59877.260524 from DATE-OBS'.\n",
      "WARNING: FITSFixedWarning: 'datfix' made the change 'Set MJD-OBS to 59877.280873 from DATE-OBS'. [astropy.wcs.wcs]\n",
      "WARNING:astropy:FITSFixedWarning: 'datfix' made the change 'Set MJD-OBS to 59877.280873 from DATE-OBS'.\n",
      "WARNING: FITSFixedWarning: 'datfix' made the change 'Set MJD-OBS to 59877.281590 from DATE-OBS'. [astropy.wcs.wcs]\n",
      "WARNING:astropy:FITSFixedWarning: 'datfix' made the change 'Set MJD-OBS to 59877.281590 from DATE-OBS'.\n",
      "WARNING: FITSFixedWarning: 'datfix' made the change 'Set MJD-OBS to 59877.283739 from DATE-OBS'. [astropy.wcs.wcs]\n",
      "WARNING:astropy:FITSFixedWarning: 'datfix' made the change 'Set MJD-OBS to 59877.283739 from DATE-OBS'.\n",
      "WARNING: FITSFixedWarning: 'datfix' made the change 'Set MJD-OBS to 59877.285173 from DATE-OBS'. [astropy.wcs.wcs]\n",
      "WARNING:astropy:FITSFixedWarning: 'datfix' made the change 'Set MJD-OBS to 59877.285173 from DATE-OBS'.\n",
      "WARNING: FITSFixedWarning: 'datfix' made the change 'Set MJD-OBS to 59877.285890 from DATE-OBS'. [astropy.wcs.wcs]\n",
      "WARNING:astropy:FITSFixedWarning: 'datfix' made the change 'Set MJD-OBS to 59877.285890 from DATE-OBS'.\n",
      "WARNING: FITSFixedWarning: 'datfix' made the change 'Set MJD-OBS to 59877.280157 from DATE-OBS'. [astropy.wcs.wcs]\n",
      "WARNING:astropy:FITSFixedWarning: 'datfix' made the change 'Set MJD-OBS to 59877.280157 from DATE-OBS'.\n"
     ]
    },
    {
     "name": "stderr",
     "output_type": "stream",
     "text": [
      "WARNING: FITSFixedWarning: 'datfix' made the change 'Set MJD-OBS to 59877.282306 from DATE-OBS'. [astropy.wcs.wcs]\n",
      "WARNING:astropy:FITSFixedWarning: 'datfix' made the change 'Set MJD-OBS to 59877.282306 from DATE-OBS'.\n",
      "WARNING: FITSFixedWarning: 'datfix' made the change 'Set MJD-OBS to 59877.283022 from DATE-OBS'. [astropy.wcs.wcs]\n",
      "WARNING:astropy:FITSFixedWarning: 'datfix' made the change 'Set MJD-OBS to 59877.283022 from DATE-OBS'.\n",
      "WARNING: FITSFixedWarning: 'datfix' made the change 'Set MJD-OBS to 59877.284455 from DATE-OBS'. [astropy.wcs.wcs]\n",
      "WARNING:astropy:FITSFixedWarning: 'datfix' made the change 'Set MJD-OBS to 59877.284455 from DATE-OBS'.\n",
      "WARNING: FITSFixedWarning: 'datfix' made the change 'Set MJD-OBS to 59877.286607 from DATE-OBS'. [astropy.wcs.wcs]\n",
      "WARNING:astropy:FITSFixedWarning: 'datfix' made the change 'Set MJD-OBS to 59877.286607 from DATE-OBS'.\n",
      "WARNING: FITSFixedWarning: 'datfix' made the change 'Set MJD-OBS to 59877.266683 from DATE-OBS'. [astropy.wcs.wcs]\n",
      "WARNING:astropy:FITSFixedWarning: 'datfix' made the change 'Set MJD-OBS to 59877.266683 from DATE-OBS'.\n",
      "WARNING: FITSFixedWarning: 'datfix' made the change 'Set MJD-OBS to 59877.266740 from DATE-OBS'. [astropy.wcs.wcs]\n",
      "WARNING:astropy:FITSFixedWarning: 'datfix' made the change 'Set MJD-OBS to 59877.266740 from DATE-OBS'.\n",
      "WARNING: FITSFixedWarning: 'datfix' made the change 'Set MJD-OBS to 59877.266854 from DATE-OBS'. [astropy.wcs.wcs]\n",
      "WARNING:astropy:FITSFixedWarning: 'datfix' made the change 'Set MJD-OBS to 59877.266854 from DATE-OBS'.\n",
      "WARNING: FITSFixedWarning: 'datfix' made the change 'Set MJD-OBS to 59877.266911 from DATE-OBS'. [astropy.wcs.wcs]\n",
      "WARNING:astropy:FITSFixedWarning: 'datfix' made the change 'Set MJD-OBS to 59877.266911 from DATE-OBS'.\n",
      "WARNING: FITSFixedWarning: 'datfix' made the change 'Set MJD-OBS to 59877.266967 from DATE-OBS'. [astropy.wcs.wcs]\n",
      "WARNING:astropy:FITSFixedWarning: 'datfix' made the change 'Set MJD-OBS to 59877.266967 from DATE-OBS'.\n",
      "WARNING: FITSFixedWarning: 'datfix' made the change 'Set MJD-OBS to 59877.267025 from DATE-OBS'. [astropy.wcs.wcs]\n",
      "WARNING:astropy:FITSFixedWarning: 'datfix' made the change 'Set MJD-OBS to 59877.267025 from DATE-OBS'.\n",
      "WARNING: FITSFixedWarning: 'datfix' made the change 'Set MJD-OBS to 59877.267082 from DATE-OBS'. [astropy.wcs.wcs]\n",
      "WARNING:astropy:FITSFixedWarning: 'datfix' made the change 'Set MJD-OBS to 59877.267082 from DATE-OBS'.\n",
      "WARNING: FITSFixedWarning: 'datfix' made the change 'Set MJD-OBS to 59877.267196 from DATE-OBS'. [astropy.wcs.wcs]\n",
      "WARNING:astropy:FITSFixedWarning: 'datfix' made the change 'Set MJD-OBS to 59877.267196 from DATE-OBS'.\n",
      "WARNING: FITSFixedWarning: 'datfix' made the change 'Set MJD-OBS to 59877.267256 from DATE-OBS'. [astropy.wcs.wcs]\n",
      "WARNING:astropy:FITSFixedWarning: 'datfix' made the change 'Set MJD-OBS to 59877.267256 from DATE-OBS'.\n",
      "WARNING: FITSFixedWarning: 'datfix' made the change 'Set MJD-OBS to 59877.267316 from DATE-OBS'. [astropy.wcs.wcs]\n",
      "WARNING:astropy:FITSFixedWarning: 'datfix' made the change 'Set MJD-OBS to 59877.267316 from DATE-OBS'.\n",
      "WARNING: FITSFixedWarning: 'datfix' made the change 'Set MJD-OBS to 59877.268117 from DATE-OBS'. [astropy.wcs.wcs]\n",
      "WARNING:astropy:FITSFixedWarning: 'datfix' made the change 'Set MJD-OBS to 59877.268117 from DATE-OBS'.\n",
      "WARNING: FITSFixedWarning: 'datfix' made the change 'Set MJD-OBS to 59877.269206 from DATE-OBS'. [astropy.wcs.wcs]\n",
      "WARNING:astropy:FITSFixedWarning: 'datfix' made the change 'Set MJD-OBS to 59877.269206 from DATE-OBS'.\n",
      "WARNING: FITSFixedWarning: 'datfix' made the change 'Set MJD-OBS to 59877.269265 from DATE-OBS'. [astropy.wcs.wcs]\n",
      "WARNING:astropy:FITSFixedWarning: 'datfix' made the change 'Set MJD-OBS to 59877.269265 from DATE-OBS'.\n",
      "WARNING: FITSFixedWarning: 'datfix' made the change 'Set MJD-OBS to 59877.269385 from DATE-OBS'. [astropy.wcs.wcs]\n",
      "WARNING:astropy:FITSFixedWarning: 'datfix' made the change 'Set MJD-OBS to 59877.269385 from DATE-OBS'.\n",
      "WARNING: FITSFixedWarning: 'datfix' made the change 'Set MJD-OBS to 59877.269557 from DATE-OBS'. [astropy.wcs.wcs]\n",
      "WARNING:astropy:FITSFixedWarning: 'datfix' made the change 'Set MJD-OBS to 59877.269557 from DATE-OBS'.\n",
      "WARNING: FITSFixedWarning: 'datfix' made the change 'Set MJD-OBS to 59877.269728 from DATE-OBS'. [astropy.wcs.wcs]\n",
      "WARNING:astropy:FITSFixedWarning: 'datfix' made the change 'Set MJD-OBS to 59877.269728 from DATE-OBS'.\n",
      "WARNING: FITSFixedWarning: 'datfix' made the change 'Set MJD-OBS to 59877.269785 from DATE-OBS'. [astropy.wcs.wcs]\n",
      "WARNING:astropy:FITSFixedWarning: 'datfix' made the change 'Set MJD-OBS to 59877.269785 from DATE-OBS'.\n",
      "WARNING: FITSFixedWarning: 'datfix' made the change 'Set MJD-OBS to 59877.266797 from DATE-OBS'. [astropy.wcs.wcs]\n",
      "WARNING:astropy:FITSFixedWarning: 'datfix' made the change 'Set MJD-OBS to 59877.266797 from DATE-OBS'.\n",
      "WARNING: FITSFixedWarning: 'datfix' made the change 'Set MJD-OBS to 59877.267139 from DATE-OBS'. [astropy.wcs.wcs]\n",
      "WARNING:astropy:FITSFixedWarning: 'datfix' made the change 'Set MJD-OBS to 59877.267139 from DATE-OBS'.\n",
      "WARNING: FITSFixedWarning: 'datfix' made the change 'Set MJD-OBS to 59877.267375 from DATE-OBS'. [astropy.wcs.wcs]\n",
      "WARNING:astropy:FITSFixedWarning: 'datfix' made the change 'Set MJD-OBS to 59877.267375 from DATE-OBS'.\n",
      "WARNING: FITSFixedWarning: 'datfix' made the change 'Set MJD-OBS to 59877.267433 from DATE-OBS'. [astropy.wcs.wcs]\n",
      "WARNING:astropy:FITSFixedWarning: 'datfix' made the change 'Set MJD-OBS to 59877.267433 from DATE-OBS'.\n",
      "WARNING: FITSFixedWarning: 'datfix' made the change 'Set MJD-OBS to 59877.267490 from DATE-OBS'. [astropy.wcs.wcs]\n",
      "WARNING:astropy:FITSFixedWarning: 'datfix' made the change 'Set MJD-OBS to 59877.267490 from DATE-OBS'.\n",
      "WARNING: FITSFixedWarning: 'datfix' made the change 'Set MJD-OBS to 59877.267547 from DATE-OBS'. [astropy.wcs.wcs]\n",
      "WARNING:astropy:FITSFixedWarning: 'datfix' made the change 'Set MJD-OBS to 59877.267547 from DATE-OBS'.\n",
      "WARNING: FITSFixedWarning: 'datfix' made the change 'Set MJD-OBS to 59877.267605 from DATE-OBS'. [astropy.wcs.wcs]\n",
      "WARNING:astropy:FITSFixedWarning: 'datfix' made the change 'Set MJD-OBS to 59877.267605 from DATE-OBS'.\n",
      "WARNING: FITSFixedWarning: 'datfix' made the change 'Set MJD-OBS to 59877.267661 from DATE-OBS'. [astropy.wcs.wcs]\n",
      "WARNING:astropy:FITSFixedWarning: 'datfix' made the change 'Set MJD-OBS to 59877.267661 from DATE-OBS'.\n",
      "WARNING: FITSFixedWarning: 'datfix' made the change 'Set MJD-OBS to 59877.267718 from DATE-OBS'. [astropy.wcs.wcs]\n",
      "WARNING:astropy:FITSFixedWarning: 'datfix' made the change 'Set MJD-OBS to 59877.267718 from DATE-OBS'.\n",
      "WARNING: FITSFixedWarning: 'datfix' made the change 'Set MJD-OBS to 59877.267775 from DATE-OBS'. [astropy.wcs.wcs]\n",
      "WARNING:astropy:FITSFixedWarning: 'datfix' made the change 'Set MJD-OBS to 59877.267775 from DATE-OBS'.\n",
      "WARNING: FITSFixedWarning: 'datfix' made the change 'Set MJD-OBS to 59877.267832 from DATE-OBS'. [astropy.wcs.wcs]\n",
      "WARNING:astropy:FITSFixedWarning: 'datfix' made the change 'Set MJD-OBS to 59877.267832 from DATE-OBS'.\n",
      "WARNING: FITSFixedWarning: 'datfix' made the change 'Set MJD-OBS to 59877.267889 from DATE-OBS'. [astropy.wcs.wcs]\n",
      "WARNING:astropy:FITSFixedWarning: 'datfix' made the change 'Set MJD-OBS to 59877.267889 from DATE-OBS'.\n",
      "WARNING: FITSFixedWarning: 'datfix' made the change 'Set MJD-OBS to 59877.267946 from DATE-OBS'. [astropy.wcs.wcs]\n",
      "WARNING:astropy:FITSFixedWarning: 'datfix' made the change 'Set MJD-OBS to 59877.267946 from DATE-OBS'.\n",
      "WARNING: FITSFixedWarning: 'datfix' made the change 'Set MJD-OBS to 59877.268003 from DATE-OBS'. [astropy.wcs.wcs]\n",
      "WARNING:astropy:FITSFixedWarning: 'datfix' made the change 'Set MJD-OBS to 59877.268003 from DATE-OBS'.\n",
      "WARNING: FITSFixedWarning: 'datfix' made the change 'Set MJD-OBS to 59877.268060 from DATE-OBS'. [astropy.wcs.wcs]\n",
      "WARNING:astropy:FITSFixedWarning: 'datfix' made the change 'Set MJD-OBS to 59877.268060 from DATE-OBS'.\n",
      "WARNING: FITSFixedWarning: 'datfix' made the change 'Set MJD-OBS to 59877.268174 from DATE-OBS'. [astropy.wcs.wcs]\n",
      "WARNING:astropy:FITSFixedWarning: 'datfix' made the change 'Set MJD-OBS to 59877.268174 from DATE-OBS'.\n",
      "WARNING: FITSFixedWarning: 'datfix' made the change 'Set MJD-OBS to 59877.268233 from DATE-OBS'. [astropy.wcs.wcs]\n",
      "WARNING:astropy:FITSFixedWarning: 'datfix' made the change 'Set MJD-OBS to 59877.268233 from DATE-OBS'.\n"
     ]
    },
    {
     "name": "stderr",
     "output_type": "stream",
     "text": [
      "WARNING: FITSFixedWarning: 'datfix' made the change 'Set MJD-OBS to 59877.268292 from DATE-OBS'. [astropy.wcs.wcs]\n",
      "WARNING:astropy:FITSFixedWarning: 'datfix' made the change 'Set MJD-OBS to 59877.268292 from DATE-OBS'.\n",
      "WARNING: FITSFixedWarning: 'datfix' made the change 'Set MJD-OBS to 59877.268349 from DATE-OBS'. [astropy.wcs.wcs]\n",
      "WARNING:astropy:FITSFixedWarning: 'datfix' made the change 'Set MJD-OBS to 59877.268349 from DATE-OBS'.\n",
      "WARNING: FITSFixedWarning: 'datfix' made the change 'Set MJD-OBS to 59877.268406 from DATE-OBS'. [astropy.wcs.wcs]\n",
      "WARNING:astropy:FITSFixedWarning: 'datfix' made the change 'Set MJD-OBS to 59877.268406 from DATE-OBS'.\n",
      "WARNING: FITSFixedWarning: 'datfix' made the change 'Set MJD-OBS to 59877.268463 from DATE-OBS'. [astropy.wcs.wcs]\n",
      "WARNING:astropy:FITSFixedWarning: 'datfix' made the change 'Set MJD-OBS to 59877.268463 from DATE-OBS'.\n",
      "WARNING: FITSFixedWarning: 'datfix' made the change 'Set MJD-OBS to 59877.268520 from DATE-OBS'. [astropy.wcs.wcs]\n",
      "WARNING:astropy:FITSFixedWarning: 'datfix' made the change 'Set MJD-OBS to 59877.268520 from DATE-OBS'.\n",
      "WARNING: FITSFixedWarning: 'datfix' made the change 'Set MJD-OBS to 59877.268577 from DATE-OBS'. [astropy.wcs.wcs]\n",
      "WARNING:astropy:FITSFixedWarning: 'datfix' made the change 'Set MJD-OBS to 59877.268577 from DATE-OBS'.\n",
      "WARNING: FITSFixedWarning: 'datfix' made the change 'Set MJD-OBS to 59877.268634 from DATE-OBS'. [astropy.wcs.wcs]\n",
      "WARNING:astropy:FITSFixedWarning: 'datfix' made the change 'Set MJD-OBS to 59877.268634 from DATE-OBS'.\n",
      "WARNING: FITSFixedWarning: 'datfix' made the change 'Set MJD-OBS to 59877.268690 from DATE-OBS'. [astropy.wcs.wcs]\n",
      "WARNING:astropy:FITSFixedWarning: 'datfix' made the change 'Set MJD-OBS to 59877.268690 from DATE-OBS'.\n",
      "WARNING: FITSFixedWarning: 'datfix' made the change 'Set MJD-OBS to 59877.268748 from DATE-OBS'. [astropy.wcs.wcs]\n",
      "WARNING:astropy:FITSFixedWarning: 'datfix' made the change 'Set MJD-OBS to 59877.268748 from DATE-OBS'.\n",
      "WARNING: FITSFixedWarning: 'datfix' made the change 'Set MJD-OBS to 59877.268805 from DATE-OBS'. [astropy.wcs.wcs]\n",
      "WARNING:astropy:FITSFixedWarning: 'datfix' made the change 'Set MJD-OBS to 59877.268805 from DATE-OBS'.\n",
      "WARNING: FITSFixedWarning: 'datfix' made the change 'Set MJD-OBS to 59877.268862 from DATE-OBS'. [astropy.wcs.wcs]\n",
      "WARNING:astropy:FITSFixedWarning: 'datfix' made the change 'Set MJD-OBS to 59877.268862 from DATE-OBS'.\n",
      "WARNING: FITSFixedWarning: 'datfix' made the change 'Set MJD-OBS to 59877.268919 from DATE-OBS'. [astropy.wcs.wcs]\n",
      "WARNING:astropy:FITSFixedWarning: 'datfix' made the change 'Set MJD-OBS to 59877.268919 from DATE-OBS'.\n",
      "WARNING: FITSFixedWarning: 'datfix' made the change 'Set MJD-OBS to 59877.268975 from DATE-OBS'. [astropy.wcs.wcs]\n",
      "WARNING:astropy:FITSFixedWarning: 'datfix' made the change 'Set MJD-OBS to 59877.268975 from DATE-OBS'.\n",
      "WARNING: FITSFixedWarning: 'datfix' made the change 'Set MJD-OBS to 59877.269033 from DATE-OBS'. [astropy.wcs.wcs]\n",
      "WARNING:astropy:FITSFixedWarning: 'datfix' made the change 'Set MJD-OBS to 59877.269033 from DATE-OBS'.\n",
      "WARNING: FITSFixedWarning: 'datfix' made the change 'Set MJD-OBS to 59877.269090 from DATE-OBS'. [astropy.wcs.wcs]\n",
      "WARNING:astropy:FITSFixedWarning: 'datfix' made the change 'Set MJD-OBS to 59877.269090 from DATE-OBS'.\n",
      "WARNING: FITSFixedWarning: 'datfix' made the change 'Set MJD-OBS to 59877.269146 from DATE-OBS'. [astropy.wcs.wcs]\n",
      "WARNING:astropy:FITSFixedWarning: 'datfix' made the change 'Set MJD-OBS to 59877.269146 from DATE-OBS'.\n",
      "WARNING: FITSFixedWarning: 'datfix' made the change 'Set MJD-OBS to 59877.269327 from DATE-OBS'. [astropy.wcs.wcs]\n",
      "WARNING:astropy:FITSFixedWarning: 'datfix' made the change 'Set MJD-OBS to 59877.269327 from DATE-OBS'.\n",
      "WARNING: FITSFixedWarning: 'datfix' made the change 'Set MJD-OBS to 59877.269443 from DATE-OBS'. [astropy.wcs.wcs]\n",
      "WARNING:astropy:FITSFixedWarning: 'datfix' made the change 'Set MJD-OBS to 59877.269443 from DATE-OBS'.\n",
      "WARNING: FITSFixedWarning: 'datfix' made the change 'Set MJD-OBS to 59877.269500 from DATE-OBS'. [astropy.wcs.wcs]\n",
      "WARNING:astropy:FITSFixedWarning: 'datfix' made the change 'Set MJD-OBS to 59877.269500 from DATE-OBS'.\n",
      "WARNING: FITSFixedWarning: 'datfix' made the change 'Set MJD-OBS to 59877.269614 from DATE-OBS'. [astropy.wcs.wcs]\n",
      "WARNING:astropy:FITSFixedWarning: 'datfix' made the change 'Set MJD-OBS to 59877.269614 from DATE-OBS'.\n",
      "WARNING: FITSFixedWarning: 'datfix' made the change 'Set MJD-OBS to 59877.269671 from DATE-OBS'. [astropy.wcs.wcs]\n",
      "WARNING:astropy:FITSFixedWarning: 'datfix' made the change 'Set MJD-OBS to 59877.269671 from DATE-OBS'.\n",
      "WARNING: FITSFixedWarning: 'datfix' made the change 'Set MJD-OBS to 59877.269842 from DATE-OBS'. [astropy.wcs.wcs]\n",
      "WARNING:astropy:FITSFixedWarning: 'datfix' made the change 'Set MJD-OBS to 59877.269842 from DATE-OBS'.\n",
      "WARNING: FITSFixedWarning: 'datfix' made the change 'Set MJD-OBS to 59877.269899 from DATE-OBS'. [astropy.wcs.wcs]\n",
      "WARNING:astropy:FITSFixedWarning: 'datfix' made the change 'Set MJD-OBS to 59877.269899 from DATE-OBS'.\n",
      "WARNING: FITSFixedWarning: 'datfix' made the change 'Set MJD-OBS to 59877.269955 from DATE-OBS'. [astropy.wcs.wcs]\n",
      "WARNING:astropy:FITSFixedWarning: 'datfix' made the change 'Set MJD-OBS to 59877.269955 from DATE-OBS'.\n",
      "WARNING: FITSFixedWarning: 'datfix' made the change 'Set MJD-OBS to 59877.270012 from DATE-OBS'. [astropy.wcs.wcs]\n",
      "WARNING:astropy:FITSFixedWarning: 'datfix' made the change 'Set MJD-OBS to 59877.270012 from DATE-OBS'.\n",
      "WARNING: FITSFixedWarning: 'datfix' made the change 'Set MJD-OBS to 59877.270069 from DATE-OBS'. [astropy.wcs.wcs]\n",
      "WARNING:astropy:FITSFixedWarning: 'datfix' made the change 'Set MJD-OBS to 59877.270069 from DATE-OBS'.\n",
      "WARNING: FITSFixedWarning: 'datfix' made the change 'Set MJD-OBS to 59877.288771 from DATE-OBS'. [astropy.wcs.wcs]\n",
      "WARNING:astropy:FITSFixedWarning: 'datfix' made the change 'Set MJD-OBS to 59877.288771 from DATE-OBS'.\n",
      "WARNING: FITSFixedWarning: 'datfix' made the change 'Set MJD-OBS to 59877.288816 from DATE-OBS'. [astropy.wcs.wcs]\n",
      "WARNING:astropy:FITSFixedWarning: 'datfix' made the change 'Set MJD-OBS to 59877.288816 from DATE-OBS'.\n",
      "WARNING: FITSFixedWarning: 'datfix' made the change 'Set MJD-OBS to 59877.288859 from DATE-OBS'. [astropy.wcs.wcs]\n",
      "WARNING:astropy:FITSFixedWarning: 'datfix' made the change 'Set MJD-OBS to 59877.288859 from DATE-OBS'.\n",
      "WARNING: FITSFixedWarning: 'datfix' made the change 'Set MJD-OBS to 59877.288794 from DATE-OBS'. [astropy.wcs.wcs]\n",
      "WARNING:astropy:FITSFixedWarning: 'datfix' made the change 'Set MJD-OBS to 59877.288794 from DATE-OBS'.\n",
      "WARNING: FITSFixedWarning: 'datfix' made the change 'Set MJD-OBS to 59877.288837 from DATE-OBS'. [astropy.wcs.wcs]\n",
      "WARNING:astropy:FITSFixedWarning: 'datfix' made the change 'Set MJD-OBS to 59877.288837 from DATE-OBS'.\n",
      "WARNING: FITSFixedWarning: 'datfix' made the change 'Set MJD-OBS to 59877.288881 from DATE-OBS'. [astropy.wcs.wcs]\n",
      "WARNING:astropy:FITSFixedWarning: 'datfix' made the change 'Set MJD-OBS to 59877.288881 from DATE-OBS'.\n",
      "WARNING: FITSFixedWarning: 'datfix' made the change 'Set MJD-OBS to 59877.288904 from DATE-OBS'. [astropy.wcs.wcs]\n",
      "WARNING:astropy:FITSFixedWarning: 'datfix' made the change 'Set MJD-OBS to 59877.288904 from DATE-OBS'.\n",
      "WARNING: FITSFixedWarning: 'datfix' made the change 'Set MJD-OBS to 59877.288926 from DATE-OBS'. [astropy.wcs.wcs]\n",
      "WARNING:astropy:FITSFixedWarning: 'datfix' made the change 'Set MJD-OBS to 59877.288926 from DATE-OBS'.\n",
      "WARNING: FITSFixedWarning: 'datfix' made the change 'Set MJD-OBS to 59877.288947 from DATE-OBS'. [astropy.wcs.wcs]\n",
      "WARNING:astropy:FITSFixedWarning: 'datfix' made the change 'Set MJD-OBS to 59877.288947 from DATE-OBS'.\n",
      "WARNING: FITSFixedWarning: 'datfix' made the change 'Set MJD-OBS to 59877.288969 from DATE-OBS'. [astropy.wcs.wcs]\n",
      "WARNING:astropy:FITSFixedWarning: 'datfix' made the change 'Set MJD-OBS to 59877.288969 from DATE-OBS'.\n",
      "WARNING: FITSFixedWarning: 'datfix' made the change 'Set MJD-OBS to 59877.288991 from DATE-OBS'. [astropy.wcs.wcs]\n",
      "WARNING:astropy:FITSFixedWarning: 'datfix' made the change 'Set MJD-OBS to 59877.288991 from DATE-OBS'.\n",
      "WARNING: FITSFixedWarning: 'datfix' made the change 'Set MJD-OBS to 59877.289013 from DATE-OBS'. [astropy.wcs.wcs]\n",
      "WARNING:astropy:FITSFixedWarning: 'datfix' made the change 'Set MJD-OBS to 59877.289013 from DATE-OBS'.\n"
     ]
    },
    {
     "name": "stderr",
     "output_type": "stream",
     "text": [
      "WARNING: FITSFixedWarning: 'datfix' made the change 'Set MJD-OBS to 59877.289036 from DATE-OBS'. [astropy.wcs.wcs]\n",
      "WARNING:astropy:FITSFixedWarning: 'datfix' made the change 'Set MJD-OBS to 59877.289036 from DATE-OBS'.\n",
      "WARNING: FITSFixedWarning: 'datfix' made the change 'Set MJD-OBS to 59877.289058 from DATE-OBS'. [astropy.wcs.wcs]\n",
      "WARNING:astropy:FITSFixedWarning: 'datfix' made the change 'Set MJD-OBS to 59877.289058 from DATE-OBS'.\n",
      "WARNING: FITSFixedWarning: 'datfix' made the change 'Set MJD-OBS to 59877.289081 from DATE-OBS'. [astropy.wcs.wcs]\n",
      "WARNING:astropy:FITSFixedWarning: 'datfix' made the change 'Set MJD-OBS to 59877.289081 from DATE-OBS'.\n",
      "WARNING: FITSFixedWarning: 'datfix' made the change 'Set MJD-OBS to 59877.289103 from DATE-OBS'. [astropy.wcs.wcs]\n",
      "WARNING:astropy:FITSFixedWarning: 'datfix' made the change 'Set MJD-OBS to 59877.289103 from DATE-OBS'.\n",
      "WARNING: FITSFixedWarning: 'datfix' made the change 'Set MJD-OBS to 59877.289125 from DATE-OBS'. [astropy.wcs.wcs]\n",
      "WARNING:astropy:FITSFixedWarning: 'datfix' made the change 'Set MJD-OBS to 59877.289125 from DATE-OBS'.\n",
      "WARNING: FITSFixedWarning: 'datfix' made the change 'Set MJD-OBS to 59877.289147 from DATE-OBS'. [astropy.wcs.wcs]\n",
      "WARNING:astropy:FITSFixedWarning: 'datfix' made the change 'Set MJD-OBS to 59877.289147 from DATE-OBS'.\n",
      "WARNING: FITSFixedWarning: 'datfix' made the change 'Set MJD-OBS to 59877.289169 from DATE-OBS'. [astropy.wcs.wcs]\n",
      "WARNING:astropy:FITSFixedWarning: 'datfix' made the change 'Set MJD-OBS to 59877.289169 from DATE-OBS'.\n",
      "WARNING: FITSFixedWarning: 'datfix' made the change 'Set MJD-OBS to 59877.289190 from DATE-OBS'. [astropy.wcs.wcs]\n",
      "WARNING:astropy:FITSFixedWarning: 'datfix' made the change 'Set MJD-OBS to 59877.289190 from DATE-OBS'.\n",
      "WARNING: FITSFixedWarning: 'datfix' made the change 'Set MJD-OBS to 59877.289212 from DATE-OBS'. [astropy.wcs.wcs]\n",
      "WARNING:astropy:FITSFixedWarning: 'datfix' made the change 'Set MJD-OBS to 59877.289212 from DATE-OBS'.\n",
      "WARNING: FITSFixedWarning: 'datfix' made the change 'Set MJD-OBS to 59877.289234 from DATE-OBS'. [astropy.wcs.wcs]\n",
      "WARNING:astropy:FITSFixedWarning: 'datfix' made the change 'Set MJD-OBS to 59877.289234 from DATE-OBS'.\n",
      "WARNING: FITSFixedWarning: 'datfix' made the change 'Set MJD-OBS to 59877.289256 from DATE-OBS'. [astropy.wcs.wcs]\n",
      "WARNING:astropy:FITSFixedWarning: 'datfix' made the change 'Set MJD-OBS to 59877.289256 from DATE-OBS'.\n",
      "WARNING: FITSFixedWarning: 'datfix' made the change 'Set MJD-OBS to 59877.289278 from DATE-OBS'. [astropy.wcs.wcs]\n",
      "WARNING:astropy:FITSFixedWarning: 'datfix' made the change 'Set MJD-OBS to 59877.289278 from DATE-OBS'.\n",
      "WARNING: FITSFixedWarning: 'datfix' made the change 'Set MJD-OBS to 59877.289300 from DATE-OBS'. [astropy.wcs.wcs]\n",
      "WARNING:astropy:FITSFixedWarning: 'datfix' made the change 'Set MJD-OBS to 59877.289300 from DATE-OBS'.\n",
      "WARNING: FITSFixedWarning: 'datfix' made the change 'Set MJD-OBS to 59877.289322 from DATE-OBS'. [astropy.wcs.wcs]\n",
      "WARNING:astropy:FITSFixedWarning: 'datfix' made the change 'Set MJD-OBS to 59877.289322 from DATE-OBS'.\n",
      "WARNING: FITSFixedWarning: 'datfix' made the change 'Set MJD-OBS to 59877.289344 from DATE-OBS'. [astropy.wcs.wcs]\n",
      "WARNING:astropy:FITSFixedWarning: 'datfix' made the change 'Set MJD-OBS to 59877.289344 from DATE-OBS'.\n",
      "WARNING: FITSFixedWarning: 'datfix' made the change 'Set MJD-OBS to 59877.289367 from DATE-OBS'. [astropy.wcs.wcs]\n",
      "WARNING:astropy:FITSFixedWarning: 'datfix' made the change 'Set MJD-OBS to 59877.289367 from DATE-OBS'.\n",
      "WARNING: FITSFixedWarning: 'datfix' made the change 'Set MJD-OBS to 59877.289388 from DATE-OBS'. [astropy.wcs.wcs]\n",
      "WARNING:astropy:FITSFixedWarning: 'datfix' made the change 'Set MJD-OBS to 59877.289388 from DATE-OBS'.\n",
      "WARNING: FITSFixedWarning: 'datfix' made the change 'Set MJD-OBS to 59877.289410 from DATE-OBS'. [astropy.wcs.wcs]\n",
      "WARNING:astropy:FITSFixedWarning: 'datfix' made the change 'Set MJD-OBS to 59877.289410 from DATE-OBS'.\n",
      "WARNING: FITSFixedWarning: 'datfix' made the change 'Set MJD-OBS to 59877.289432 from DATE-OBS'. [astropy.wcs.wcs]\n",
      "WARNING:astropy:FITSFixedWarning: 'datfix' made the change 'Set MJD-OBS to 59877.289432 from DATE-OBS'.\n",
      "WARNING: FITSFixedWarning: 'datfix' made the change 'Set MJD-OBS to 59877.289454 from DATE-OBS'. [astropy.wcs.wcs]\n",
      "WARNING:astropy:FITSFixedWarning: 'datfix' made the change 'Set MJD-OBS to 59877.289454 from DATE-OBS'.\n",
      "WARNING: FITSFixedWarning: 'datfix' made the change 'Set MJD-OBS to 59877.289499 from DATE-OBS'. [astropy.wcs.wcs]\n",
      "WARNING:astropy:FITSFixedWarning: 'datfix' made the change 'Set MJD-OBS to 59877.289499 from DATE-OBS'.\n",
      "WARNING: FITSFixedWarning: 'datfix' made the change 'Set MJD-OBS to 59877.289528 from DATE-OBS'. [astropy.wcs.wcs]\n",
      "WARNING:astropy:FITSFixedWarning: 'datfix' made the change 'Set MJD-OBS to 59877.289528 from DATE-OBS'.\n",
      "WARNING: FITSFixedWarning: 'datfix' made the change 'Set MJD-OBS to 59877.289550 from DATE-OBS'. [astropy.wcs.wcs]\n",
      "WARNING:astropy:FITSFixedWarning: 'datfix' made the change 'Set MJD-OBS to 59877.289550 from DATE-OBS'.\n",
      "WARNING: FITSFixedWarning: 'datfix' made the change 'Set MJD-OBS to 59877.289572 from DATE-OBS'. [astropy.wcs.wcs]\n",
      "WARNING:astropy:FITSFixedWarning: 'datfix' made the change 'Set MJD-OBS to 59877.289572 from DATE-OBS'.\n",
      "WARNING: FITSFixedWarning: 'datfix' made the change 'Set MJD-OBS to 59877.289595 from DATE-OBS'. [astropy.wcs.wcs]\n",
      "WARNING:astropy:FITSFixedWarning: 'datfix' made the change 'Set MJD-OBS to 59877.289595 from DATE-OBS'.\n",
      "WARNING: FITSFixedWarning: 'datfix' made the change 'Set MJD-OBS to 59877.289617 from DATE-OBS'. [astropy.wcs.wcs]\n",
      "WARNING:astropy:FITSFixedWarning: 'datfix' made the change 'Set MJD-OBS to 59877.289617 from DATE-OBS'.\n",
      "WARNING: FITSFixedWarning: 'datfix' made the change 'Set MJD-OBS to 59877.289639 from DATE-OBS'. [astropy.wcs.wcs]\n",
      "WARNING:astropy:FITSFixedWarning: 'datfix' made the change 'Set MJD-OBS to 59877.289639 from DATE-OBS'.\n",
      "WARNING: FITSFixedWarning: 'datfix' made the change 'Set MJD-OBS to 59877.289661 from DATE-OBS'. [astropy.wcs.wcs]\n",
      "WARNING:astropy:FITSFixedWarning: 'datfix' made the change 'Set MJD-OBS to 59877.289661 from DATE-OBS'.\n",
      "WARNING: FITSFixedWarning: 'datfix' made the change 'Set MJD-OBS to 59877.289682 from DATE-OBS'. [astropy.wcs.wcs]\n",
      "WARNING:astropy:FITSFixedWarning: 'datfix' made the change 'Set MJD-OBS to 59877.289682 from DATE-OBS'.\n",
      "WARNING: FITSFixedWarning: 'datfix' made the change 'Set MJD-OBS to 59877.289704 from DATE-OBS'. [astropy.wcs.wcs]\n",
      "WARNING:astropy:FITSFixedWarning: 'datfix' made the change 'Set MJD-OBS to 59877.289704 from DATE-OBS'.\n",
      "WARNING: FITSFixedWarning: 'datfix' made the change 'Set MJD-OBS to 59877.289727 from DATE-OBS'. [astropy.wcs.wcs]\n",
      "WARNING:astropy:FITSFixedWarning: 'datfix' made the change 'Set MJD-OBS to 59877.289727 from DATE-OBS'.\n",
      "WARNING: FITSFixedWarning: 'datfix' made the change 'Set MJD-OBS to 59877.289748 from DATE-OBS'. [astropy.wcs.wcs]\n",
      "WARNING:astropy:FITSFixedWarning: 'datfix' made the change 'Set MJD-OBS to 59877.289748 from DATE-OBS'.\n",
      "WARNING: FITSFixedWarning: 'datfix' made the change 'Set MJD-OBS to 59877.289771 from DATE-OBS'. [astropy.wcs.wcs]\n",
      "WARNING:astropy:FITSFixedWarning: 'datfix' made the change 'Set MJD-OBS to 59877.289771 from DATE-OBS'.\n",
      "WARNING: FITSFixedWarning: 'datfix' made the change 'Set MJD-OBS to 59877.289793 from DATE-OBS'. [astropy.wcs.wcs]\n",
      "WARNING:astropy:FITSFixedWarning: 'datfix' made the change 'Set MJD-OBS to 59877.289793 from DATE-OBS'.\n",
      "WARNING: FITSFixedWarning: 'datfix' made the change 'Set MJD-OBS to 59877.289814 from DATE-OBS'. [astropy.wcs.wcs]\n",
      "WARNING:astropy:FITSFixedWarning: 'datfix' made the change 'Set MJD-OBS to 59877.289814 from DATE-OBS'.\n",
      "WARNING: FITSFixedWarning: 'datfix' made the change 'Set MJD-OBS to 59877.289839 from DATE-OBS'. [astropy.wcs.wcs]\n",
      "WARNING:astropy:FITSFixedWarning: 'datfix' made the change 'Set MJD-OBS to 59877.289839 from DATE-OBS'.\n",
      "WARNING: FITSFixedWarning: 'datfix' made the change 'Set MJD-OBS to 59877.289864 from DATE-OBS'. [astropy.wcs.wcs]\n",
      "WARNING:astropy:FITSFixedWarning: 'datfix' made the change 'Set MJD-OBS to 59877.289864 from DATE-OBS'.\n",
      "WARNING: FITSFixedWarning: 'datfix' made the change 'Set MJD-OBS to 59877.289896 from DATE-OBS'. [astropy.wcs.wcs]\n",
      "WARNING:astropy:FITSFixedWarning: 'datfix' made the change 'Set MJD-OBS to 59877.289896 from DATE-OBS'.\n"
     ]
    },
    {
     "name": "stderr",
     "output_type": "stream",
     "text": [
      "WARNING: FITSFixedWarning: 'datfix' made the change 'Set MJD-OBS to 59877.289918 from DATE-OBS'. [astropy.wcs.wcs]\n",
      "WARNING:astropy:FITSFixedWarning: 'datfix' made the change 'Set MJD-OBS to 59877.289918 from DATE-OBS'.\n",
      "WARNING: FITSFixedWarning: 'datfix' made the change 'Set MJD-OBS to 59877.289940 from DATE-OBS'. [astropy.wcs.wcs]\n",
      "WARNING:astropy:FITSFixedWarning: 'datfix' made the change 'Set MJD-OBS to 59877.289940 from DATE-OBS'.\n",
      "WARNING: FITSFixedWarning: 'datfix' made the change 'Set MJD-OBS to 59877.289963 from DATE-OBS'. [astropy.wcs.wcs]\n",
      "WARNING:astropy:FITSFixedWarning: 'datfix' made the change 'Set MJD-OBS to 59877.289963 from DATE-OBS'.\n",
      "WARNING: FITSFixedWarning: 'datfix' made the change 'Set MJD-OBS to 59877.289985 from DATE-OBS'. [astropy.wcs.wcs]\n",
      "WARNING:astropy:FITSFixedWarning: 'datfix' made the change 'Set MJD-OBS to 59877.289985 from DATE-OBS'.\n",
      "WARNING: FITSFixedWarning: 'datfix' made the change 'Set MJD-OBS to 59877.290007 from DATE-OBS'. [astropy.wcs.wcs]\n",
      "WARNING:astropy:FITSFixedWarning: 'datfix' made the change 'Set MJD-OBS to 59877.290007 from DATE-OBS'.\n",
      "WARNING: FITSFixedWarning: 'datfix' made the change 'Set MJD-OBS to 59877.290029 from DATE-OBS'. [astropy.wcs.wcs]\n",
      "WARNING:astropy:FITSFixedWarning: 'datfix' made the change 'Set MJD-OBS to 59877.290029 from DATE-OBS'.\n",
      "WARNING: FITSFixedWarning: 'datfix' made the change 'Set MJD-OBS to 59877.290051 from DATE-OBS'. [astropy.wcs.wcs]\n",
      "WARNING:astropy:FITSFixedWarning: 'datfix' made the change 'Set MJD-OBS to 59877.290051 from DATE-OBS'.\n",
      "WARNING: FITSFixedWarning: 'datfix' made the change 'Set MJD-OBS to 59877.290073 from DATE-OBS'. [astropy.wcs.wcs]\n",
      "WARNING:astropy:FITSFixedWarning: 'datfix' made the change 'Set MJD-OBS to 59877.290073 from DATE-OBS'.\n",
      "WARNING: FITSFixedWarning: 'datfix' made the change 'Set MJD-OBS to 59877.290094 from DATE-OBS'. [astropy.wcs.wcs]\n",
      "WARNING:astropy:FITSFixedWarning: 'datfix' made the change 'Set MJD-OBS to 59877.290094 from DATE-OBS'.\n",
      "WARNING: FITSFixedWarning: 'datfix' made the change 'Set MJD-OBS to 59877.290117 from DATE-OBS'. [astropy.wcs.wcs]\n",
      "WARNING:astropy:FITSFixedWarning: 'datfix' made the change 'Set MJD-OBS to 59877.290117 from DATE-OBS'.\n"
     ]
    }
   ],
   "source": [
    "lights = [CCDData.read(file, unit=u.adu) for file in light_files]\n",
    "darks = [CCDData.read(file, unit=u.adu) for file in dark_files]\n",
    "flats = [CCDData.read(file, unit=u.adu) for file in flat_files]\n",
    "biases = [CCDData.read(file, unit=u.adu) for file in bias_files]"
   ]
  },
  {
   "cell_type": "code",
   "execution_count": 7,
   "id": "75b9637c",
   "metadata": {},
   "outputs": [],
   "source": [
    "master_dark = combine(darks, method=method)\n",
    "master_flat = combine(flats, method=method)\n",
    "master_bias = combine(biases, method=method)"
   ]
  },
  {
   "cell_type": "code",
   "execution_count": 11,
   "id": "d02f2a33",
   "metadata": {},
   "outputs": [],
   "source": [
    "lights_subtracted = [subtract_dark(light,\n",
    "                                   master_dark,\n",
    "                                   data_exposure=light_exposure,\n",
    "                                   dark_exposure=dark_exposure,\n",
    "                                   scale=False)\n",
    "                     for light in lights]\n",
    "\n",
    "master_flat_subtracted = subtract_dark(master_flat,\n",
    "                                       master_bias,\n",
    "                                       data_exposure=flat_exposure,\n",
    "                                       dark_exposure=bias_exposure,\n",
    "                                       scale=False)"
   ]
  },
  {
   "cell_type": "code",
   "execution_count": 9,
   "id": "ad1c81cf",
   "metadata": {},
   "outputs": [
    {
     "name": "stderr",
     "output_type": "stream",
     "text": [
      "/Users/sacostamikulasek22/opt/anaconda3/envs/transient/lib/python3.9/site-packages/astropy/units/quantity.py:611: RuntimeWarning: invalid value encountered in true_divide\n",
      "  result = super().__array_ufunc__(function, method, *arrays, **kwargs)\n",
      "/Users/sacostamikulasek22/opt/anaconda3/envs/transient/lib/python3.9/site-packages/astropy/nddata/nduncertainty.py:684: RuntimeWarning: invalid value encountered in true_divide\n",
      "  return from_variance((left + right + correlation_sign * corr) /\n"
     ]
    }
   ],
   "source": [
    "lights_calibrated = [flat_correct(l, master_flat_subtracted) for l in lights_subtracted]"
   ]
  },
  {
   "cell_type": "code",
   "execution_count": 10,
   "id": "b97e9f9b",
   "metadata": {},
   "outputs": [
    {
     "ename": "NameError",
     "evalue": "name 'first_light' is not defined",
     "output_type": "error",
     "traceback": [
      "\u001b[0;31m---------------------------------------------------------------------------\u001b[0m",
      "\u001b[0;31mNameError\u001b[0m                                 Traceback (most recent call last)",
      "\u001b[0;32m/var/folders/gt/h26vthyj5qd_7p24nbk4k6_40000gp/T/ipykernel_20400/517776026.py\u001b[0m in \u001b[0;36m<module>\u001b[0;34m\u001b[0m\n\u001b[0;32m----> 1\u001b[0;31m \u001b[0mimage_filename\u001b[0m \u001b[0;34m=\u001b[0m \u001b[0mos\u001b[0m\u001b[0;34m.\u001b[0m\u001b[0mpath\u001b[0m\u001b[0;34m.\u001b[0m\u001b[0mjoin\u001b[0m\u001b[0;34m(\u001b[0m\u001b[0mlight_directory\u001b[0m\u001b[0;34m,\u001b[0m \u001b[0mfirst_light\u001b[0m\u001b[0;34m)\u001b[0m\u001b[0;34m\u001b[0m\u001b[0;34m\u001b[0m\u001b[0m\n\u001b[0m",
      "\u001b[0;31mNameError\u001b[0m: name 'first_light' is not defined"
     ]
    }
   ],
   "source": [
    "image_filename = os.path.join(light_directory, first_light)"
   ]
  },
  {
   "cell_type": "code",
   "execution_count": null,
   "id": "890a1d40",
   "metadata": {},
   "outputs": [],
   "source": [
    "light = lights[0]"
   ]
  },
  {
   "cell_type": "code",
   "execution_count": null,
   "id": "fb17f188",
   "metadata": {
    "scrolled": true
   },
   "outputs": [],
   "source": [
    "calibrated_light = lights_calibrated[0]"
   ]
  },
  {
   "cell_type": "markdown",
   "id": "4eb4959a",
   "metadata": {},
   "source": [
    "### Astroalign"
   ]
  },
  {
   "cell_type": "code",
   "execution_count": null,
   "id": "27c72a0f",
   "metadata": {},
   "outputs": [],
   "source": [
    "reference = lights_calibrated[0]"
   ]
  },
  {
   "cell_type": "code",
   "execution_count": null,
   "id": "1a586ba0",
   "metadata": {},
   "outputs": [],
   "source": [
    "sources_aligned = [aa.register(s, reference, detection_sigma=3.0) for s in lights_calibrated]"
   ]
  },
  {
   "cell_type": "code",
   "execution_count": null,
   "id": "f830c234",
   "metadata": {},
   "outputs": [],
   "source": []
  },
  {
   "cell_type": "code",
   "execution_count": null,
   "id": "e567bf83",
   "metadata": {},
   "outputs": [],
   "source": [
    "##create a disk for all "
   ]
  },
  {
   "cell_type": "markdown",
   "id": "5ae314ed",
   "metadata": {},
   "source": [
    "### Photutils "
   ]
  },
  {
   "cell_type": "markdown",
   "id": "a6322629",
   "metadata": {},
   "source": [
    "#### The necessary stuff (??)"
   ]
  },
  {
   "cell_type": "code",
   "execution_count": null,
   "id": "c466b35f",
   "metadata": {},
   "outputs": [],
   "source": [
    "#from photutils.datasets import load_star_image\n",
    "hdu = load_star_image()  \n",
    "image = hdu.data[500:700, 500:700].astype(float)  \n",
    "##We need to put our aligned image in here, right?"
   ]
  },
  {
   "cell_type": "markdown",
   "id": "062c16ff",
   "metadata": {},
   "source": [
    "#### Finding the stars "
   ]
  },
  {
   "cell_type": "code",
   "execution_count": null,
   "id": "86803052",
   "metadata": {},
   "outputs": [],
   "source": [
    "from photutils.detection import DAOStarFinder\n",
    "from astropy.stats import mad_std\n",
    "##below is where you put your image\n",
    "bkg_sigma = mad_std(light)  \n",
    "daofind = DAOStarFinder(fwhm=4., threshold=3. * bkg_sigma)  \n",
    "sources = daofind(light)  \n",
    "for col in sources.colnames:  \n",
    "    sources[col].info.format = '%.8g'  # for consistent table output\n",
    "print(sources)  "
   ]
  },
  {
   "cell_type": "markdown",
   "id": "a5ee37da",
   "metadata": {},
   "source": [
    "#### Creating the Apeture object"
   ]
  },
  {
   "cell_type": "code",
   "execution_count": null,
   "id": "1645ef30",
   "metadata": {},
   "outputs": [],
   "source": [
    "from photutils.aperture import CircularAperture\n",
    "positions = [(30., 30.), (40., 40.)]\n",
    "aperture = CircularAperture(positions, r=3.)\n",
    "##I assume astroalign knows the positions...?"
   ]
  },
  {
   "cell_type": "markdown",
   "id": "25ce48f6",
   "metadata": {},
   "source": [
    "#### Performing apeture photometry"
   ]
  },
  {
   "cell_type": "code",
   "execution_count": null,
   "id": "38d8b213",
   "metadata": {},
   "outputs": [],
   "source": [
    "import numpy as np\n",
    "from photutils.aperture import aperture_photometry\n",
    "data = np.ones((100, 100))\n",
    "phot_table = aperture_photometry(data, aperture)\n",
    "phot_table['aperture_sum'].info.format = '%.8g'  # for consistent table output\n",
    "print(phot_table)"
   ]
  },
  {
   "cell_type": "markdown",
   "id": "5e8965a2",
   "metadata": {},
   "source": [
    "#### global subtraction"
   ]
  },
  {
   "cell_type": "code",
   "execution_count": null,
   "id": "5ed951bb",
   "metadata": {},
   "outputs": [],
   "source": [
    "phot_table = aperture_photometry(data - bkg, aperture)  "
   ]
  },
  {
   "cell_type": "markdown",
   "id": "ae716be7",
   "metadata": {},
   "source": [
    "#### local subtraction "
   ]
  },
  {
   "cell_type": "code",
   "execution_count": null,
   "id": "e283d270",
   "metadata": {},
   "outputs": [],
   "source": [
    "from photutils.aperture import CircularAperture, CircularAnnulus\n",
    "positions = [(145.1, 168.3), (84.5, 224.1), (48.3, 200.3)]\n",
    "aperture = CircularAperture(positions, r=5)\n",
    "annulus_aperture = CircularAnnulus(positions, r_in=10, r_out=15)"
   ]
  },
  {
   "cell_type": "markdown",
   "id": "fb6b719c",
   "metadata": {},
   "source": [
    "#### Print out the image!"
   ]
  },
  {
   "cell_type": "code",
   "execution_count": null,
   "id": "61b1e36e",
   "metadata": {},
   "outputs": [],
   "source": [
    "import matplotlib.pyplot as plt\n",
    "plt.imshow(image, cmap='gray_r', origin='lower')\n",
    "apertures.plot(color='blue', lw=1.5, alpha=0.5)"
   ]
  }
 ],
 "metadata": {
  "kernelspec": {
   "display_name": "Python 3 (ipykernel)",
   "language": "python",
   "name": "python3"
  },
  "language_info": {
   "codemirror_mode": {
    "name": "ipython",
    "version": 3
   },
   "file_extension": ".py",
   "mimetype": "text/x-python",
   "name": "python",
   "nbconvert_exporter": "python",
   "pygments_lexer": "ipython3",
   "version": "3.9.13"
  }
 },
 "nbformat": 4,
 "nbformat_minor": 5
}
