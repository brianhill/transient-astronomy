{
 "cells": [
  {
   "cell_type": "markdown",
   "id": "1f49d623",
   "metadata": {},
   "source": [
    "## 2022-10-2122 SN 2022vqz\n",
    "\n",
    "Analysis by Sofia"
   ]
  },
  {
   "cell_type": "code",
   "execution_count": 1,
   "id": "a55d087f",
   "metadata": {},
   "outputs": [],
   "source": [
    "import os\n",
    "import numpy as np\n",
    "from astropy import units as u\n",
    "from astropy.nddata import CCDData\n",
    "from ccdproc import ImageFileCollection, Combiner, combine, subtract_dark, flat_correct\n",
    "import matplotlib.pyplot as plt\n",
    "%matplotlib inline\n",
    "import astroalign as aa"
   ]
  },
  {
   "cell_type": "markdown",
   "id": "cd2cc489",
   "metadata": {},
   "source": [
    "#### Calibration using CCDProc"
   ]
  },
  {
   "cell_type": "code",
   "execution_count": 2,
   "id": "228fded3",
   "metadata": {},
   "outputs": [],
   "source": [
    "observation_date = '2022-10-2425'\n",
    "light_exposure = 30 * u.second\n",
    "dark_exposure = light_exposure  # our method presumes this equality\n",
    "flat_exposure = 1 * u.second\n",
    "bias_exposure = flat_exposure  # our method presumes this equality\n",
    "method = 'median'"
   ]
  },
  {
   "cell_type": "code",
   "execution_count": 3,
   "id": "1249ec48",
   "metadata": {},
   "outputs": [],
   "source": [
    "data_directory = os.path.join(os.path.expanduser('~'), 'Transients', observation_date)"
   ]
  },
  {
   "cell_type": "code",
   "execution_count": 4,
   "id": "d628cbaa",
   "metadata": {},
   "outputs": [],
   "source": [
    "light_directory = os.path.join(data_directory, 'light')\n",
    "dark_directory = os.path.join(data_directory, 'dark')\n",
    "flat_directory = os.path.join(data_directory, 'flat')\n",
    "bias_directory = os.path.join(data_directory, 'bias')"
   ]
  },
  {
   "cell_type": "code",
   "execution_count": 5,
   "id": "b0680f6e",
   "metadata": {},
   "outputs": [],
   "source": [
    "light_files = ImageFileCollection(light_directory).files_filtered(include_path='True')\n",
    "dark_files = ImageFileCollection(dark_directory).files_filtered(include_path='True')\n",
    "flat_files = ImageFileCollection(flat_directory).files_filtered(include_path='True')\n",
    "bias_files = ImageFileCollection(bias_directory).files_filtered(include_path='True')"
   ]
  },
  {
   "cell_type": "code",
   "execution_count": 6,
   "id": "7e04a70e",
   "metadata": {},
   "outputs": [],
   "source": [
    "lights = [CCDData.read(file, unit=u.adu) for file in light_files]\n",
    "darks = [CCDData.read(file, unit=u.adu) for file in dark_files]\n",
    "flats = [CCDData.read(file, unit=u.adu) for file in flat_files]\n",
    "biases = [CCDData.read(file, unit=u.adu) for file in bias_files]"
   ]
  },
  {
   "cell_type": "code",
   "execution_count": 7,
   "id": "75b9637c",
   "metadata": {},
   "outputs": [],
   "source": [
    "master_dark = combine(darks, method=method)\n",
    "master_flat = combine(flats, method=method)\n",
    "master_bias = combine(biases, method=method)"
   ]
  },
  {
   "cell_type": "code",
   "execution_count": 8,
   "id": "d02f2a33",
   "metadata": {},
   "outputs": [],
   "source": [
    "lights_subtracted = [subtract_dark(light, master_dark, data_exposure=light_exposure, dark_exposure=dark_exposure, scale=False) for light in lights]\n",
    "master_flat_subtracted = subtract_dark(master_flat, master_bias, data_exposure=flat_exposure, dark_exposure=bias_exposure, scale=False)"
   ]
  },
  {
   "cell_type": "code",
   "execution_count": 9,
   "id": "ad1c81cf",
   "metadata": {},
   "outputs": [],
   "source": [
    "lights_calibrated = [flat_correct(l, master_flat_subtracted) for l in lights_subtracted]"
   ]
  },
  {
   "cell_type": "code",
   "execution_count": 10,
   "id": "b97e9f9b",
   "metadata": {},
   "outputs": [],
   "source": [
    "image_filename = os.path.join(light_directory, first_light)"
   ]
  },
  {
   "cell_type": "code",
   "execution_count": 12,
   "id": "890a1d40",
   "metadata": {},
   "outputs": [],
   "source": [
    "light = lights[0]"
   ]
  },
  {
   "cell_type": "code",
   "execution_count": 1,
   "id": "fb17f188",
   "metadata": {
    "scrolled": true
   },
   "outputs": [
    {
     "ename": "NameError",
     "evalue": "name 'lights_calibrated' is not defined",
     "output_type": "error",
     "traceback": [
      "\u001b[0;31m---------------------------------------------------------------------------\u001b[0m",
      "\u001b[0;31mNameError\u001b[0m                                 Traceback (most recent call last)",
      "\u001b[0;32m/var/folders/gt/h26vthyj5qd_7p24nbk4k6_40000gp/T/ipykernel_13403/3857445412.py\u001b[0m in \u001b[0;36m<module>\u001b[0;34m\u001b[0m\n\u001b[0;32m----> 1\u001b[0;31m \u001b[0mcalibrated_light\u001b[0m \u001b[0;34m=\u001b[0m \u001b[0mlights_calibrated\u001b[0m\u001b[0;34m[\u001b[0m\u001b[0;36m0\u001b[0m\u001b[0;34m]\u001b[0m\u001b[0;34m\u001b[0m\u001b[0;34m\u001b[0m\u001b[0m\n\u001b[0m",
      "\u001b[0;31mNameError\u001b[0m: name 'lights_calibrated' is not defined"
     ]
    }
   ],
   "source": [
    "calibrated_light = lights_calibrated[0]"
   ]
  },
  {
   "cell_type": "markdown",
   "id": "4eb4959a",
   "metadata": {},
   "source": [
    "#### Astroalign"
   ]
  },
  {
   "cell_type": "code",
   "execution_count": null,
   "id": "27c72a0f",
   "metadata": {},
   "outputs": [],
   "source": [
    "reference = lights_calibrated[0]"
   ]
  },
  {
   "cell_type": "code",
   "execution_count": null,
   "id": "1a586ba0",
   "metadata": {},
   "outputs": [],
   "source": [
    "sources_aligned = [aa.register(s, reference, detection_sigma=3.0) for s in lights_calibrated]"
   ]
  }
 ],
 "metadata": {
  "kernelspec": {
   "display_name": "Python 3 (ipykernel)",
   "language": "python",
   "name": "python3"
  },
  "language_info": {
   "codemirror_mode": {
    "name": "ipython",
    "version": 3
   },
   "file_extension": ".py",
   "mimetype": "text/x-python",
   "name": "python",
   "nbconvert_exporter": "python",
   "pygments_lexer": "ipython3",
   "version": "3.9.13"
  }
 },
 "nbformat": 4,
 "nbformat_minor": 5
}
